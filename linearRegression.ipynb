{
 "cells": [
  {
   "cell_type": "code",
   "execution_count": 343,
   "metadata": {
    "collapsed": true
   },
   "outputs": [],
   "source": [
    "import numpy as np\n",
    "import matplotlib.pyplot as plt"
   ]
  },
  {
   "cell_type": "code",
   "execution_count": 344,
   "metadata": {},
   "outputs": [],
   "source": [
    "class Regression_Line(object):\n",
    "    #global sx, sy, sxx, sxy, syy, avgx, avgy, a, b, iy\n",
    "    def __init__(self):\n",
    "        self.lenx = len(X)\n",
    "        self.leny = len(Y)\n",
    "    \n",
    "    def iY(self, X, Y):\n",
    "        self.sx = np.sum(X)\n",
    "        self.sy = np.sum(Y)\n",
    "        \n",
    "        self.sxy = X*Y\n",
    "        self.sxy = np.sum(self.sxy)\n",
    "        self.sxx = X*X\n",
    "        self.sxx = np.sum(self.sxx)\n",
    "        self.syy = Y*Y\n",
    "        self.syy = np.sum(self.syy)\n",
    "        \n",
    "        self.avgx = self.sx / self.lenx\n",
    "        self.avgy = self.sy / self.leny\n",
    "        self.b = (((self.leny*self.sxy)-(self.sx*self.sy))/((self.lenx*self.sxx)-(self.sx*self.sx)))\n",
    "        self.a = self.avgy - (self.b*self.avgx)\n",
    "        self.iy = np.multiply(self.a,X)+self.b\n",
    "        return self.iy\n",
    "        \n",
    "    "
   ]
  },
  {
   "cell_type": "code",
   "execution_count": 360,
   "metadata": {},
   "outputs": [
    {
     "data": {
      "image/png": "[encoded data removed]",
      "text/plain": [
       "<matplotlib.figure.Figure at 0x7f84a55add30>"
      ]
     },
     "metadata": {},
     "output_type": "display_data"
    }
   ],
   "source": [
    "X = np.array([63,64,66,69,69,71,71,72,73,75])\n",
    "Y = np.array([127,121,142,157,162,156,169,165,181,208])\n",
    "plt.plot(X,Y,'r*')\n",
    "plt.show()"
   ]
  },
  {
   "cell_type": "code",
   "execution_count": 361,
   "metadata": {},
   "outputs": [],
   "source": [
    "LR = Regression_Line()"
   ]
  },
  {
   "cell_type": "code",
   "execution_count": 362,
   "metadata": {
    "scrolled": true
   },
   "outputs": [
    {
     "data": {
      "text/plain": [
       "<__main__.Regression_Line at 0x7f84a52de908>"
      ]
     },
     "execution_count": 362,
     "metadata": {},
     "output_type": "execute_result"
    }
   ],
   "source": [
    "LR"
   ]
  },
  {
   "cell_type": "code",
   "execution_count": 363,
   "metadata": {},
   "outputs": [],
   "source": [
    "iY = LR.iY(X,Y)"
   ]
  },
  {
   "cell_type": "code",
   "execution_count": 365,
   "metadata": {},
   "outputs": [
    {
     "data": {
      "image/png": "[encoded data removed]",
      "text/plain": [
       "<matplotlib.figure.Figure at 0x7f84a53a2860>"
      ]
     },
     "metadata": {},
     "output_type": "display_data"
    }
   ],
   "source": [
    "plt.plot(X,iY)\n",
    "plt.show()"
   ]
  },
  {
   "cell_type": "code",
   "execution_count": 359,
   "metadata": {},
   "outputs": [
    {
     "data": {
      "text/plain": [
       "array([126, 128, 132, 138, 138, 142, 142, 144, 146, 150])"
      ]
     },
     "execution_count": 359,
     "metadata": {},
     "output_type": "execute_result"
    }
   ],
   "source": [
    "X*2"
   ]
  },
  {
   "cell_type": "code",
   "execution_count": null,
   "metadata": {
    "collapsed": true
   },
   "outputs": [],
   "source": []
  }
 ],
 "metadata": {
  "kernelspec": {
   "display_name": "Python 3",
   "language": "python",
   "name": "python3"
  },
  "language_info": {
   "codemirror_mode": {
    "name": "ipython",
    "version": 3
   },
   "file_extension": ".py",
   "mimetype": "text/x-python",
   "name": "python",
   "nbconvert_exporter": "python",
   "pygments_lexer": "ipython3",
   "version": "3.5.2"
  },
  "widgets": {
   "state": {},
   "version": "1.1.2"
  }
 },
 "nbformat": 4,
 "nbformat_minor": 2
}
