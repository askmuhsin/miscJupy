








<!DOCTYPE html>
<html lang="en">

<head>
  <meta charset="utf-8">
  <title>Jupyter Notebook Viewer</title>
  <meta name="viewport" content="width=device-width, initial-scale=1.0">
  <meta name="description" content="">
  <meta name="author" content="">
  
  <meta name="robots" content="noindex,nofollow">
  

  <!--NEW RELIC Start Perf Measurement-->
  
  <!--NREND-->

  <!-- Le styles -->
  <script type="text/javascript">
//<![CDATA[
try{if (!window.CloudFlare) {var CloudFlare=[{verbose:0,p:0,byc:0,owlid:"cf",bag2:1,mirage2:0,oracle:0,paths:{cloudflare:"/cdn-cgi/nexp/dok3v=1613a3a185/"},atok:"c01589e959832fa51673d3a722ff592d",petok:"34d9c18e1e1bc01fd396c256c8af2a1d1f4c0f7b-1493592259-3600",zone:"jupyter.org",rocket:"0",apps:{"ga_key":{"ua":"UA-52617120-1","ga_bs":"2"}}}];!function(a,b){a=document.createElement("script"),b=document.getElementsByTagName("script")[0],a.async=!0,a.src="//ajax.cloudflare.com/cdn-cgi/nexp/dok3v=85b614c0f6/cloudflare.min.js",b.parentNode.insertBefore(a,b)}()}}catch(e){};
//]]>
</script>
<link href="/static/build/styles.css?v=0df6c3cbd0bfe45463701e5159de8814" rel="stylesheet">

  <!-- Le HTML5 shim, for IE6-8 support of HTML5 elements -->
  <!--[if lt IE 9]>
    <script src="http://html5shim.googlecode.com/svn/trunk/html5.js"></script>
  <![endif]-->

  <!-- Le fav and touch icons -->
  <link rel="shortcut icon" href="/static/ico/ipynb_icon_16x16.png">
  <link rel="apple-touch-icon-precomposed" sizes="144x144"
        href="/static/ico/apple-touch-icon-144-precomposed.png?v=5a3c9ede93e2a8b8ea9e3f8f3da1a905">
  <link rel="apple-touch-icon-precomposed" sizes="114x114"
        href="/static/ico/apple-touch-icon-114-precomposed.png?v=45d86fc8f24dc00638035e1dd7a6d898">
  <link rel="apple-touch-icon-precomposed" sizes="72x72"
        href="/static/ico/apple-touch-icon-72-precomposed.png?v=540b5eb0f3cfd25f1439d1c9bd30e15f">
  <link rel="apple-touch-icon-precomposed"
        href="/static/ico/apple-touch-icon-57-precomposed.png?v=225f0590e187e1458625654f10a28f56">
  
  

  

  
  <meta name="twitter:card" content="summary">
  <meta name="twitter:title" content="Notebook on nbviewer">
  <meta name="twitter:description" content="Check out this Jupyter notebook!">

  
  <meta name="twitter:domain" content="nbviewer.ipython.org">
  <meta name="twitter:image:src" content="http://ipython.org/ipython-doc/dev/_images/ipynb_icon_128x128.png">

  
    <link href="/static/build/notebook.css?v=d05748bef7d8f0edbc1e0133b9a41fe0" rel="stylesheet">
  

  

  
    <script src="https://cdnjs.cloudflare.com/ajax/libs/mathjax/2.7.0/MathJax.js?config=TeX-AMS_HTML" type="text/javascript">
    </script>
    <script type="text/javascript">
      init_mathjax = function() {
        if (window.MathJax) {
          // MathJax loaded
          MathJax.Hub.Config({
            TeX: {
              equationNumbers: {
                autoNumber: "AMS",
                useLabelIds: true
              }
            },
            tex2jax: {
              inlineMath: [ ['$','$'], ["\\(","\\)"] ],
              displayMath: [ ['$$','$$'], ["\\[","\\]"] ],
              processEscapes: true,
              processEnvironments: true
            },
            displayAlign: 'center',
            "HTML-CSS": {
              styles: {'.MathJax_Display': {"margin": 0}},
              linebreaks: { automatic: true }
            }
          });
          MathJax.Hub.Queue(["Typeset", MathJax.Hub]);
        }
      }
      init_mathjax();
    </script>
  

<script type="text/javascript">
/* <![CDATA[ */
var _gaq = _gaq || [];
_gaq.push(['_setAccount', 'UA-52617120-1']);
_gaq.push(['_trackPageview']);

(function() {
var ga = document.createElement('script'); ga.type = 'text/javascript'; ga.async = true;
ga.src = ('https:' == document.location.protocol ? 'https://ssl' : 'http://www') + '.google-analytics.com/ga.js';
var s = document.getElementsByTagName('script')[0]; s.parentNode.insertBefore(ga, s);
})();

(function(b){(function(a){"__CF"in b&&"DJS"in b.__CF?b.__CF.DJS.push(a):"addEventListener"in b?b.addEventListener("load",a,!1):b.attachEvent("onload",a)})(function(){"FB"in b&&"Event"in FB&&"subscribe"in FB.Event&&(FB.Event.subscribe("edge.create",function(a){_gaq.push(["_trackSocial","facebook","like",a])}),FB.Event.subscribe("edge.remove",function(a){_gaq.push(["_trackSocial","facebook","unlike",a])}),FB.Event.subscribe("message.send",function(a){_gaq.push(["_trackSocial","facebook","send",a])}));"twttr"in b&&"events"in twttr&&"bind"in twttr.events&&twttr.events.bind("tweet",function(a){if(a){var b;if(a.target&&a.target.nodeName=="IFRAME")a:{if(a=a.target.src){a=a.split("#")[0].match(/[^?=&]+=([^&]*)?/g);b=0;for(var c;c=a[b];++b)if(c.indexOf("url")===0){b=unescape(c.split("=")[1]);break a}}b=void 0}_gaq.push(["_trackSocial","twitter","tweet",b])}})})})(window);
/* ]]> */
</script>
</head>

<body class="nbviewer">

  <!-- These are loaded at the top of the body so they are available to
       notebook cells when they are loaded below. -->
  <script src="/static/components/jquery/dist/jquery.min.js?v=c9f5aeeca3ad37bf2aa006139b935f0a"></script>
  <script src="/static/components/requirejs/require.js?v=6da8be361b9ee26c5e721e76c6d4afce"></script>
  <script src="/static/components/moment/min/moment.min.js?v=89f87298ad94aa1e6b92f42eb66da043"></script>

<!-- Navbar
================================================== -->
  <nav id="menubar" class="navbar navbar-default navbar-fixed-top" data-spy="affix">
    <div class="container">
      <div class="navbar-header">
        <button type="button" class="navbar-toggle collapsed" data-toggle="collapse" data-target=".navbar-collapse">
          <span class="sr-only">Toggle navigation</span>
          <i class="fa fa-bars"></i>
        </button>
        <a class="navbar-brand" href="/">
          <img src="/static/img/nav_logo.svg?v=479cefe8d932fb14a67b93911b97d70f" width="159"/>
        </a>
      </div>

      <div class="collapse navbar-collapse">
        <ul class="nav navbar-nav navbar-right">
          <li>
            <a class="active" href="http://jupyter.org">JUPYTER</a>
          </li>
          <li>
    <a href="/faq" title="FAQ" >
      
        <span>FAQ</span>
      
    </a>
  </li>

          
  
    
      
        <li>
    <a href="/format/slides/github/carljv/cython_testing/blob/master/cython_linalg.ipynb" title="View as Slides" >
      <span class="fa fa-gift fa-2x menu-icon"></span>
      <span class="menu-text">View as Slides</span>
    </a>
  </li>
      
    
  
    
  
    
      
        <li>
    <a href="/format/script/github/carljv/cython_testing/blob/master/cython_linalg.ipynb" title="View as Code" >
      <span class="fa fa-code fa-2x menu-icon"></span>
      <span class="menu-text">View as Code</span>
    </a>
  </li>
      
    
  

  

  
    <li>
    <a href="https://github.com/carljv/cython_testing/blob/master/cython_linalg.ipynb" title="View on GitHub" >
      <span class="fa fa-github fa-2x menu-icon"></span>
      <span class="menu-text">View on GitHub</span>
    </a>
  </li>
  

  <li>
    <a href="https://raw.githubusercontent.com/carljv/cython_testing/master/cython_linalg.ipynb" title="Download Notebook" download>
      <span class="fa fa-download fa-2x menu-icon"></span>
      <span class="menu-text">Download Notebook</span>
    </a>
  </li>

        </ul>
      </div><!-- /.navbar-collapse -->
      
      
    </div>
  </nav>

  <div class="container container-main">
    
  
  <ol class="breadcrumb">
    
      <li>
        <a href="/github/carljv/cython_testing/tree/master">cython_testing</a>
      </li>
    
      <li>
        <a href="/github/carljv/cython_testing/tree/master/cython_linalg.ipynb">cython_linalg.ipynb</a>
      </li>
    
  </ol>
  
  <div id="notebook">
    <div id="notebook-container">
      
<div class="cell border-box-sizing text_cell rendered">
<div class="prompt input_prompt">
</div>
<div class="inner_cell">
<div class="text_cell_render border-box-sizing rendered_html">
<style>

<p>.cell {
       width: inherit !important;
       background-color: #f3f3f3 !important;
       margin-left: 120px !important;
   }</p>
<p>/<em> block fixes margin on input boxes </em>/
   /<em> in firefox </em>/
   .input.hbox {
        width: 50em !important;
        display: block !important;
    }</p>
<p>.input_area { 
        background-color: white !important; 
    }</p>

<pre><code>.output_area pre {
    font-family: "Source Code Pro", source-code-pro, Consolas, monospace;
    border: 0px;
}

div.output_text {
    font-family: "Source Code Pro", source-code-pro, Consolas, monospace; 
}

div.text_cell {
    width: 35em;
    text-align: left;
}

div.prompt {
    width: 0px;
    visibility: hidden !important;
}

.code_cell {
    background-color: #f3f3f3;
}

.highlight {
    background-color: #ffffff;
}



div.input_prompt {
    visibility: hidden;
    width: 0 !important;
}

div.text_cell_render {
    font-family: "Minion Pro", "minion-pro", "Charis SIL", Palatino, serif !important;
    font-size: 14pt !important;
    line-height: 145% !important;
    width: 35em !important;
    text-align: left !important;
    background-color: #f3f3f3 !important;
}

div.text_cell_render h1 {
    display: block;
    font-size: 28pt;
    color: #3B3B3B;
    margin-bottom: 0em;
    margin-top: 0.5em;

}

.rendered_html li {
    margin-bottom: .25em;
    color: #3B3B3B;;
}

div.text_cell_render h2:before {
    content: "\2FFA";
    margin-right: 0.5em;
    font-size: .5em;
    vertical-align: baseline;
    border-top: 1px;

}

.hiterm {
    font-weight: 500;
    color: #DC143C;
}

</code></pre>
<p>.text_cell_render h2 {
        font-size: 20pt;
        margin-bottom: 0em;
        margin-top: 0.5em;
        display: block;
        color: #3B3B3B;
    }</p>

<pre><code>.MathJax_Display {
    /*text-align: center !important;*/
    margin-left: 2em !important;
    margin-top: .5em !important;
    margin-bottom: .5em !important;
}

.text_cell_render h3 {
    font-size: 14pt;
    font-weight: 600;
    font-style: italic;
    margin-bottom: -0.5em;
    margin-top: -0.25em;
    color: #3B3B3B;
    text-indent: 2em;
}

.text_cell_render h5 {
    font-weight: 300;
    font-size: 14pt;
    color: #4057A1;
    font-style: italic;
    margin-bottom: .5em;
    margin-top: 0.5em;
    display: block;
}

.CodeMirror {
    font-family: "Source Code Pro", source-code-pro, Consolas, monospace !important;
    font-size: 10pt;
    background:  #fffffe; /* #f0f8fb #e2eef9*/
    border: 0px;
}

.rendered_html {
    margin-left: 120px;

}

.rendered_html code {
    font-family: "Source Code Pro", source-code-pro,Consolas,    monospace;
    font-size: 85%;
}

</code></pre>
<p>pre, code, kbd, samp { font-family: "Source Code Pro", source-code-pro, Consola, monospace; }</p>

<pre><code>.rendered_html p {
    text-align: left;
    color: #3B3B3B;
    margin-bottom: .5em;

}

   .rendered_html p+p { 
      text-indent: 1em;
       margin-top: 0;
   }
.rendered_html ol {
    list-style: decimal;
    /*margin: 1em 2em;*/
}

.rendered_html ol ol {
    list-style: decimal;
}

.rendered_html ol ol ol {
    list-style: decimal;
}

body{background-color:#f3f3f3;}

.rendered_html p.hangpar {
    text-indent: 0;
}

</code></pre>
<p>&lt;/style&gt;</p>
<script type="text/javascript" src="//use.typekit.net/glz2cja.js"></script>
<script type="text/javascript">try{Typekit.load();}catch(e){}</script>
</div>
</div>
</div>
<div class="cell border-box-sizing text_cell rendered">
<div class="prompt input_prompt">
</div>
<div class="inner_cell">
<div class="text_cell_render border-box-sizing rendered_html">
<h1 id="Some-Linear-Algebra-with-Cython">Some Linear Algebra with Cython<a class="anchor-link" href="#Some-Linear-Algebra-with-Cython">&#182;</a></h1>
</div>
</div>
</div>
<div class="cell border-box-sizing text_cell rendered">
<div class="prompt input_prompt">
</div>
<div class="inner_cell">
<div class="text_cell_render border-box-sizing rendered_html">
<p>Carl Vogel &nbsp;&nbsp;&nbsp;|&nbsp;&nbsp;&nbsp;&lt;code&gt;@slendrmeans&lt;/code&gt;&nbsp;&nbsp;&nbsp;|&nbsp;&nbsp;&nbsp;February 2013</p>

</div>
</div>
</div>
<div class="cell border-box-sizing text_cell rendered">
<div class="prompt input_prompt">
</div>
<div class="inner_cell">
<div class="text_cell_render border-box-sizing rendered_html">
<h2 id="Introduction-(Attention-Conservation-Notice)">Introduction (Attention Conservation Notice)<a class="anchor-link" href="#Introduction-(Attention-Conservation-Notice)">&#182;</a></h2>
</div>
</div>
</div>
<div class="cell border-box-sizing text_cell rendered">
<div class="prompt input_prompt">
</div>
<div class="inner_cell">
<div class="text_cell_render border-box-sizing rendered_html">
<p>This notebook contains information that is new and useful. But the parts that are new are not useful, and the parts that are useful are not new. It exists because I wanted to experiment in Cython and in the IPython notebook. The code here is all but useless except for pedagogy. Virtually no one has any rightful business coding up their own linear algebra routines. And the mathematical and algorithmic content is elementary.</p>
<p>Which is all useful for my purpose: when you try out new tools you want to do it on well-known problems. And the excessive verbiage and formulas give me an excuse to tinker with the notebooks typographical capabilities.</p>
<p>As such this may be of no use to anyone besides the author. Consider yourself warned.</p>
<p>Comments regarding my amateur Cython, or any other topic, are welcome.</p>

</div>
</div>
</div>
<div class="cell border-box-sizing text_cell rendered">
<div class="prompt input_prompt">
</div>
<div class="inner_cell">
<div class="text_cell_render border-box-sizing rendered_html">
<h2 id="A-linear-system">A linear system<a class="anchor-link" href="#A-linear-system">&#182;</a></h2>
</div>
</div>
</div>
<div class="cell border-box-sizing text_cell rendered">
<div class="prompt input_prompt">
</div>
<div class="inner_cell">
<div class="text_cell_render border-box-sizing rendered_html">
<p>Our goal is to understand and, if possible, solve the system of $n$ linear equations</p>
$$
\begin{align}
a_{00}\,x_0 + a_{01}\,x_1 + \ldots + a_{0,n-1}\,x_{n-1}   &= b_0 \\\
a_{10}\,x_0  + a_{11}\,x_1 + \ldots + a_{1,n-1}\,x_{n-1}   &= b_1 \\\
\vdots &  \\\
a_{n-1,0}\,x_0 + a_{n-1,1}\,x_1 + \ldots + a_{n-1,n-1}\,x_{n-1} &= b_{n-1}\ .
\end{align}
$$<p>In the system, the $a_{ij}$s and $b_i$s are known, while the $x_i$s are the unkown variables we wish to solve for. In other words, <span class="hiterm">solving</span> the system means finding the values for the $x_i$s using the $a_{ij}$s and $b_i$s.</p>
<p>Using matrix notation, we can write the system as</p>
$$
\begin{pmatrix}
a_{00} & a_{01} & \ldots & a_{0,n-1} \\\
a_{10} & a_{11} & \ldots & a_{1,n-1} \\\
\vdots &  &   \ddots & \vdots \\\
a_{n-1,0} & a_{n-1,1} & \ldots & a_{n-1,n-1}
\end{pmatrix} \,
\begin{pmatrix} x_0 \\\ x_1 \\\ \vdots \\\ x_{n-1}\end{pmatrix}
=
\begin{pmatrix} b_0 \\\ b_1 \\\ \vdots \\\ b_{n-1}\end{pmatrix}\ 
$$<p>&lt;p class = "hangpar"&gt;or $Ax = b$. In this form, a solution to the system is the vector $x$ that satisfies the equation.&lt;/p&gt;</p>

</div>
</div>
</div>
<div class="cell border-box-sizing text_cell rendered">
<div class="prompt input_prompt">
</div>
<div class="inner_cell">
<div class="text_cell_render border-box-sizing rendered_html">
<hr>

</div>
</div>
</div>
<div class="cell border-box-sizing text_cell rendered">
<div class="prompt input_prompt">
</div>
<div class="inner_cell">
<div class="text_cell_render border-box-sizing rendered_html">
<h5 id="Exercise:-Matrix-multiplication-in-Cython">Exercise: Matrix multiplication in Cython<a class="anchor-link" href="#Exercise:-Matrix-multiplication-in-Cython">&#182;</a></h5>
</div>
</div>
</div>
<div class="cell border-box-sizing text_cell rendered">
<div class="prompt input_prompt">
</div>
<div class="inner_cell">
<div class="text_cell_render border-box-sizing rendered_html">
<p>To work with linear systems, we&#8217;ll want to be able to multiply matrices with vectors, like in the equation above, but also with other matrices.</p>
<p>To use Cython in the notebook, we have to load the <code>cythonmagic</code> extension. We&#8217;ll also want to load numpy and scipy modules form, among other things, benchmarks for our Cython functions.</p>

</div>
</div>
</div>
<div class="cell border-box-sizing code_cell rendered">
<div class="input">
<div class="prompt input_prompt">In&nbsp;[3]:</div>
<div class="inner_cell">
    <div class="input_area">
<div class=" highlight hl-ipython3"><pre><span></span><span class="o">%</span><span class="k">load_ext</span> cythonmagic
<span class="kn">import</span> <span class="nn">numpy</span> <span class="k">as</span> <span class="nn">np</span>
<span class="kn">import</span> <span class="nn">scipy.linalg</span> <span class="k">as</span> <span class="nn">la</span>
</pre></div>

</div>
</div>
</div>

</div>
<div class="cell border-box-sizing text_cell rendered">
<div class="prompt input_prompt">
</div>
<div class="inner_cell">
<div class="text_cell_render border-box-sizing rendered_html">
<p>Using <code>%%cython</code> cell magic, we can write and compile a Cython module within a notebook cell.</p>
<p>We want to be able to multiply a matrix $A$ by either a vector $x$, like above, or another matrix $B$. Unlike, say, C++, Cython does not allow use to overload a function by using different arguments. (As far as I know.) For example, we can&#8217;t define two versions of a function <code>matprod</code> that takes either one 2-D array and one 1-D array, or two 2-D arrays.</p>
<p>But Cython is flexible, and lets us define functions where not all arguments are typed. So we&#8217;ll write a wrapper function <code>matprod</code> that has the second argument untyped. Then, based on whether the second argument is a vector or a matrix, dispatches to the appropriate C-like (typed) function.</p>

</div>
</div>
</div>
<div class="cell border-box-sizing code_cell rendered">
<div class="input">
<div class="prompt input_prompt">In&nbsp;[29]:</div>
<div class="inner_cell">
    <div class="input_area">
<div class=" highlight hl-ipython3"><pre><span></span><span class="o">%%</span><span class="n">cython</span>
<span class="k">cimport</span> <span class="nn">cython</span>
<span class="k">import</span> <span class="nn">numpy</span> <span class="k">as</span> <span class="nn">np</span>
<span class="k">cimport</span> <span class="nn">numpy</span> <span class="k">as</span> <span class="nn">np</span>

<span class="k">def</span> <span class="nf">matprod</span><span class="p">(</span><span class="n">np</span><span class="o">.</span><span class="n">ndarray</span><span class="p">[</span><span class="n">double</span><span class="p">,</span> <span class="n">ndim</span> <span class="o">=</span> <span class="mf">2</span><span class="p">]</span> <span class="n">A</span><span class="p">,</span> <span class="n">B</span><span class="p">):</span>
    <span class="sd">&#39;&#39;&#39;</span>
<span class="sd">    Matrix-by-vector or matrix-by-matrix multiplication.</span>

<span class="sd">    The arguments are dispatched to one of two functions</span>
<span class="sd">    depending on whether B is a vector or a matrix.</span>
<span class="sd">    &#39;&#39;&#39;</span>
    <span class="k">if</span> <span class="n">B</span><span class="o">.</span><span class="n">ndim</span> <span class="o">==</span> <span class="mf">1</span><span class="p">:</span>
       <span class="c"># B is a vector</span>
       <span class="k">return</span> <span class="n">matvecprod</span><span class="p">(</span><span class="n">A</span><span class="p">,</span> <span class="n">B</span><span class="p">)</span>
    <span class="k">else</span><span class="p">:</span>
        <span class="c"># B is a matrix</span>
        <span class="k">return</span> <span class="n">matmatprod</span><span class="p">(</span><span class="n">A</span><span class="p">,</span> <span class="n">B</span><span class="p">)</span>

<span class="nd">@cython</span><span class="o">.</span><span class="n">boundscheck</span><span class="p">(</span><span class="bp">False</span><span class="p">)</span>
<span class="nd">@cython</span><span class="o">.</span><span class="n">wraparound</span><span class="p">(</span><span class="bp">False</span><span class="p">)</span>
<span class="k">cdef</span> <span class="kt">np</span>.<span class="kt">ndarray</span>[<span class="nf">double</span><span class="p">,</span> <span class="nf">ndim</span><span class="o">=</span><span class="mf">2</span><span class="p">]</span> <span class="n">matmatprod</span><span class="p">(</span>
    <span class="n">np</span><span class="o">.</span><span class="n">ndarray</span><span class="p">[</span><span class="n">double</span><span class="p">,</span> <span class="n">ndim</span><span class="o">=</span><span class="mf">2</span><span class="p">]</span> <span class="n">A</span><span class="p">,</span>
    <span class="n">np</span><span class="o">.</span><span class="n">ndarray</span><span class="p">[</span><span class="n">double</span><span class="p">,</span> <span class="n">ndim</span><span class="o">=</span><span class="mf">2</span><span class="p">]</span> <span class="n">B</span><span class="p">):</span>
    <span class="sd">&#39;&#39;&#39;</span>
<span class="sd">    Matrix-matrix multiplication.</span>
<span class="sd">    &#39;&#39;&#39;</span>
    <span class="k">cdef</span><span class="p">:</span> 
        <span class="nb">int</span> <span class="n">i</span><span class="p">,</span> <span class="n">j</span><span class="p">,</span> <span class="n">k</span>
        <span class="nb">int</span> <span class="n">A_n</span> <span class="o">=</span> <span class="n">A</span><span class="o">.</span><span class="n">shape</span><span class="p">[</span><span class="mf">0</span><span class="p">]</span>
        <span class="nb">int</span> <span class="n">A_m</span> <span class="o">=</span> <span class="n">A</span><span class="o">.</span><span class="n">shape</span><span class="p">[</span><span class="mf">1</span><span class="p">]</span>
        <span class="nb">int</span> <span class="n">B_n</span> <span class="o">=</span> <span class="n">B</span><span class="o">.</span><span class="n">shape</span><span class="p">[</span><span class="mf">0</span><span class="p">]</span>
        <span class="nb">int</span> <span class="n">B_m</span> <span class="o">=</span> <span class="n">B</span><span class="o">.</span><span class="n">shape</span><span class="p">[</span><span class="mf">1</span><span class="p">]</span>
        <span class="n">np</span><span class="o">.</span><span class="n">ndarray</span><span class="p">[</span><span class="n">double</span><span class="p">,</span> <span class="n">ndim</span><span class="o">=</span><span class="mf">2</span><span class="p">]</span> <span class="n">C</span>
    
    <span class="c"># Are matrices conformable?</span>
    <span class="k">assert</span> <span class="n">A_m</span> <span class="o">==</span> <span class="n">B_n</span><span class="p">,</span> \
        <span class="s">&#39;Non-conformable shapes.&#39;</span>
    
    <span class="c"># Initialize the results matrix.</span>
    <span class="n">C</span> <span class="o">=</span> <span class="n">np</span><span class="o">.</span><span class="n">zeros</span><span class="p">((</span><span class="n">A_n</span><span class="p">,</span> <span class="n">B_m</span><span class="p">))</span>
    <span class="k">for</span> <span class="n">i</span> <span class="ow">in</span> <span class="nb">xrange</span><span class="p">(</span><span class="n">A_n</span><span class="p">):</span>
        <span class="k">for</span> <span class="n">j</span> <span class="ow">in</span> <span class="nb">xrange</span><span class="p">(</span><span class="n">B_m</span><span class="p">):</span>
            <span class="k">for</span> <span class="n">k</span> <span class="ow">in</span> <span class="nb">xrange</span><span class="p">(</span><span class="n">A_m</span><span class="p">):</span>
                <span class="n">C</span><span class="p">[</span><span class="n">i</span><span class="p">,</span> <span class="n">j</span><span class="p">]</span> <span class="o">+=</span> <span class="n">A</span><span class="p">[</span><span class="n">i</span><span class="p">,</span> <span class="n">k</span><span class="p">]</span> <span class="o">*</span> <span class="n">B</span><span class="p">[</span><span class="n">k</span><span class="p">,</span> <span class="n">j</span><span class="p">]</span>
    <span class="k">return</span> <span class="n">C</span>

<span class="nd">@cython</span><span class="o">.</span><span class="n">boundscheck</span><span class="p">(</span><span class="bp">False</span><span class="p">)</span>
<span class="nd">@cython</span><span class="o">.</span><span class="n">wraparound</span><span class="p">(</span><span class="bp">False</span><span class="p">)</span>
<span class="k">cdef</span> <span class="kt">np</span>.<span class="kt">ndarray</span>[<span class="nf">double</span><span class="p">,</span> <span class="nf">ndim</span><span class="o">=</span><span class="mf">1</span><span class="p">]</span> <span class="n">matvecprod</span><span class="p">(</span>
    <span class="n">np</span><span class="o">.</span><span class="n">ndarray</span><span class="p">[</span><span class="n">double</span><span class="p">,</span> <span class="n">ndim</span><span class="o">=</span><span class="mf">2</span><span class="p">]</span> <span class="n">A</span><span class="p">,</span>
    <span class="n">np</span><span class="o">.</span><span class="n">ndarray</span><span class="p">[</span><span class="n">double</span><span class="p">,</span> <span class="n">ndim</span><span class="o">=</span><span class="mf">1</span><span class="p">]</span> <span class="n">b</span><span class="p">):</span>
    <span class="sd">&#39;&#39;&#39;</span>
<span class="sd">    Matrix-vector multiplication.</span>
<span class="sd">    &#39;&#39;&#39;</span>
    <span class="k">cdef</span><span class="p">:</span> 
        <span class="n">Py_ssize_t</span> <span class="n">i</span><span class="p">,</span> <span class="n">j</span><span class="p">,</span> <span class="n">k</span>
        <span class="n">Py_ssize_t</span> <span class="n">A_n</span> <span class="o">=</span> <span class="n">A</span><span class="o">.</span><span class="n">shape</span><span class="p">[</span><span class="mf">0</span><span class="p">]</span>
        <span class="n">Py_ssize_t</span> <span class="n">A_m</span> <span class="o">=</span> <span class="n">A</span><span class="o">.</span><span class="n">shape</span><span class="p">[</span><span class="mf">1</span><span class="p">]</span>
        <span class="n">Py_ssize_t</span> <span class="n">b_n</span> <span class="o">=</span> <span class="n">b</span><span class="o">.</span><span class="n">shape</span><span class="p">[</span><span class="mf">0</span><span class="p">]</span>
        <span class="n">np</span><span class="o">.</span><span class="n">ndarray</span><span class="p">[</span><span class="n">double</span><span class="p">,</span> <span class="n">ndim</span><span class="o">=</span><span class="mf">1</span><span class="p">]</span> <span class="n">c</span>
    
    <span class="c"># Are matrices conformable?</span>
    <span class="k">assert</span> <span class="n">A_m</span> <span class="o">==</span> <span class="n">b_n</span><span class="p">,</span> \
        <span class="s">&#39;Non-conformable shapes.&#39;</span>
    
    <span class="c"># Initialize the results matrix.</span>
    <span class="n">c</span> <span class="o">=</span> <span class="n">np</span><span class="o">.</span><span class="n">zeros</span><span class="p">(</span><span class="n">A_n</span><span class="p">)</span>
    <span class="k">for</span> <span class="n">i</span> <span class="ow">in</span> <span class="nb">xrange</span><span class="p">(</span><span class="n">A_n</span><span class="p">):</span>
            <span class="k">for</span> <span class="n">k</span> <span class="ow">in</span> <span class="nb">xrange</span><span class="p">(</span><span class="n">b_n</span><span class="p">):</span>
                <span class="n">c</span><span class="p">[</span><span class="n">i</span><span class="p">]</span> <span class="o">+=</span> <span class="n">A</span><span class="p">[</span><span class="n">i</span><span class="p">,</span> <span class="n">k</span><span class="p">]</span> <span class="o">*</span> <span class="n">b</span><span class="p">[</span><span class="n">k</span><span class="p">]</span>
    <span class="k">return</span> <span class="n">c</span>
</pre></div>

</div>
</div>
</div>

<div class="output_wrapper">
<div class="output">


<div class="output_area">
<div class="prompt"></div>

<div class="output_subarea output_stream output_stdout output_text">
<pre>
</pre>
</div>
</div>

</div>
</div>

</div>
<div class="cell border-box-sizing text_cell rendered">
<div class="prompt input_prompt">
</div>
<div class="inner_cell">
<div class="text_cell_render border-box-sizing rendered_html">
<p>If the above compiles successfully, nothing should happen. Otherwise an output cell with a compilation error message and traceback will appear.</p>
<p>For speed comparisons, the following is a pure Python version of matrix-matrix multiplication.</p>

</div>
</div>
</div>
<div class="cell border-box-sizing code_cell rendered">
<div class="input">
<div class="prompt input_prompt">In&nbsp;[6]:</div>
<div class="inner_cell">
    <div class="input_area">
<div class=" highlight hl-ipython3"><pre><span></span><span class="k">def</span> <span class="nf">pymatmatprod</span><span class="p">(</span><span class="n">A</span><span class="p">,</span> <span class="n">B</span><span class="p">):</span>
    <span class="sd">&#39;&#39;&#39;</span>
<span class="sd">    Matrix-matrix multiplication</span>
<span class="sd">    &#39;&#39;&#39;</span>
    <span class="n">A_n</span><span class="p">,</span> <span class="n">A_m</span> <span class="o">=</span> <span class="n">A</span><span class="o">.</span><span class="n">shape</span>
    <span class="n">B_n</span><span class="p">,</span> <span class="n">B_m</span> <span class="o">=</span> <span class="n">B</span><span class="o">.</span><span class="n">shape</span>
    <span class="k">assert</span> <span class="n">A_m</span> <span class="o">==</span> <span class="n">B_n</span><span class="p">,</span> <span class="s2">&quot;Non-conformable shapes.&quot;</span>
    <span class="n">C</span> <span class="o">=</span> <span class="n">np</span><span class="o">.</span><span class="n">zeros</span><span class="p">((</span><span class="n">A_n</span><span class="p">,</span> <span class="n">B_m</span><span class="p">))</span>
    <span class="k">for</span> <span class="n">i</span> <span class="ow">in</span> <span class="n">xrange</span><span class="p">(</span><span class="n">A_n</span><span class="p">):</span>
        <span class="k">for</span> <span class="n">j</span> <span class="ow">in</span> <span class="n">xrange</span><span class="p">(</span><span class="n">B_m</span><span class="p">):</span>
            <span class="k">for</span> <span class="n">k</span> <span class="ow">in</span> <span class="n">xrange</span><span class="p">(</span><span class="n">A_m</span><span class="p">):</span>
                <span class="n">C</span><span class="p">[</span><span class="n">i</span><span class="p">,</span> <span class="n">j</span><span class="p">]</span> <span class="o">+=</span> <span class="n">A</span><span class="p">[</span><span class="n">i</span><span class="p">,</span> <span class="n">k</span><span class="p">]</span> <span class="o">*</span> <span class="n">B</span><span class="p">[</span><span class="n">k</span><span class="p">,</span> <span class="n">j</span><span class="p">]</span>
    <span class="k">return</span> <span class="n">C</span>
</pre></div>

</div>
</div>
</div>

</div>
<div class="cell border-box-sizing text_cell rendered">
<div class="prompt input_prompt">
</div>
<div class="inner_cell">
<div class="text_cell_render border-box-sizing rendered_html">
<p>We create some small sample matrices to test the functions.</p>

</div>
</div>
</div>
<div class="cell border-box-sizing code_cell rendered">
<div class="input">
<div class="prompt input_prompt">In&nbsp;[12]:</div>
<div class="inner_cell">
    <div class="input_area">
<div class=" highlight hl-ipython3"><pre><span></span><span class="c1"># A is 2x3</span>
<span class="n">A</span> <span class="o">=</span> <span class="n">np</span><span class="o">.</span><span class="n">array</span><span class="p">([[</span><span class="mf">2.0</span><span class="p">,</span> <span class="mf">0.25</span><span class="p">,</span> <span class="o">-</span><span class="mf">1.0</span><span class="p">],</span> 
              <span class="p">[</span><span class="mf">3.0</span><span class="p">,</span> <span class="mf">0.0</span> <span class="p">,</span>  <span class="mf">5.0</span><span class="p">]])</span>
<span class="c1"># B is 3x2</span>
<span class="n">B</span> <span class="o">=</span> <span class="n">np</span><span class="o">.</span><span class="n">array</span><span class="p">([[</span><span class="o">-</span><span class="mf">3.0</span><span class="p">,</span>  <span class="mf">0.5</span><span class="p">],</span> 
              <span class="p">[</span> <span class="mf">2.0</span><span class="p">,</span>  <span class="mf">1.5</span><span class="p">],</span> 
              <span class="p">[</span> <span class="mf">4.0</span><span class="p">,</span> <span class="o">-</span><span class="mf">4.0</span><span class="p">]])</span>
<span class="c1"># C is 2x2</span>
<span class="n">C</span> <span class="o">=</span> <span class="n">np</span><span class="o">.</span><span class="n">array</span><span class="p">([[</span><span class="mf">1.0</span><span class="p">,</span>  <span class="mf">1.5</span><span class="p">],</span> 
              <span class="p">[</span><span class="mf">2.5</span><span class="p">,</span> <span class="o">-</span><span class="mf">1.0</span><span class="p">]])</span>
<span class="c1"># b is 3x1 (a vector)</span>
<span class="n">b</span> <span class="o">=</span> <span class="n">np</span><span class="o">.</span><span class="n">array</span><span class="p">([</span><span class="mf">1.0</span><span class="p">,</span> <span class="o">-</span><span class="mf">2.0</span><span class="p">,</span> <span class="mf">0.5</span><span class="p">])</span>
</pre></div>

</div>
</div>
</div>

</div>
<div class="cell border-box-sizing text_cell rendered">
<div class="prompt input_prompt">
</div>
<div class="inner_cell">
<div class="text_cell_render border-box-sizing rendered_html">
<p>And check to see they give the same results.</p>

</div>
</div>
</div>
<div class="cell border-box-sizing code_cell rendered">
<div class="input">
<div class="prompt input_prompt">In&nbsp;[11]:</div>
<div class="inner_cell">
    <div class="input_area">
<div class=" highlight hl-ipython3"><pre><span></span><span class="nb">print</span> <span class="s1">&#39;Cython:&#39;</span>
<span class="nb">print</span> <span class="s1">&#39;-------&#39;</span>
<span class="nb">print</span> <span class="s2">&quot;A x B =</span><span class="se">\n</span><span class="s2">&quot;</span><span class="p">,</span> <span class="n">matprod</span><span class="p">(</span><span class="n">A</span><span class="p">,</span> <span class="n">B</span><span class="p">),</span> <span class="s2">&quot;</span><span class="se">\n</span><span class="s2">&quot;</span>
<span class="nb">print</span> <span class="s2">&quot;A x b =</span><span class="se">\n</span><span class="s2">&quot;</span><span class="p">,</span> <span class="n">matprod</span><span class="p">(</span><span class="n">A</span><span class="p">,</span> <span class="n">b</span><span class="p">),</span> <span class="s2">&quot;</span><span class="se">\n</span><span class="s2">&quot;</span>
<span class="nb">print</span> <span class="s1">&#39;Numpy dot:&#39;</span>
<span class="nb">print</span> <span class="s1">&#39;----------&#39;</span>
<span class="nb">print</span> <span class="s2">&quot;A x B =</span><span class="se">\n</span><span class="s2">&quot;</span><span class="p">,</span> <span class="n">np</span><span class="o">.</span><span class="n">dot</span><span class="p">(</span><span class="n">A</span><span class="p">,</span> <span class="n">B</span><span class="p">),</span> <span class="s2">&quot;</span><span class="se">\n</span><span class="s2">&quot;</span>
<span class="nb">print</span> <span class="s2">&quot;A x b =</span><span class="se">\n</span><span class="s2">&quot;</span><span class="p">,</span> <span class="n">np</span><span class="o">.</span><span class="n">dot</span><span class="p">(</span><span class="n">A</span><span class="p">,</span> <span class="n">b</span><span class="p">),</span> <span class="s2">&quot;</span><span class="se">\n</span><span class="s2">&quot;</span>
<span class="nb">print</span> <span class="s1">&#39;Python loops:&#39;</span>
<span class="nb">print</span> <span class="s1">&#39;-------------&#39;</span>
<span class="nb">print</span> <span class="s2">&quot;A x B =</span><span class="se">\n</span><span class="s2">&quot;</span><span class="p">,</span> <span class="n">pymatmatprod</span><span class="p">(</span><span class="n">A</span><span class="p">,</span> <span class="n">B</span><span class="p">),</span> <span class="s2">&quot;</span><span class="se">\n</span><span class="s2">&quot;</span>
</pre></div>

</div>
</div>
</div>

<div class="output_wrapper">
<div class="output">


<div class="output_area">
<div class="prompt"></div>

<div class="output_subarea output_stream output_stdout output_text">
<pre>Cython:
-------
A x B =
[[ -9.5     5.375]
 [ 11.    -18.5  ]] 

A x b =
[ 1.   5.5] 

Numpy dot:
----------
A x B =
[[ -9.5     5.375]
 [ 11.    -18.5  ]] 

A x b =
[ 1.   5.5] 

Python loops:
-------------
A x B =
[[ -9.5     5.375]
 [ 11.    -18.5  ]] 

</pre>
</div>
</div>

</div>
</div>

</div>
<div class="cell border-box-sizing text_cell rendered">
<div class="prompt input_prompt">
</div>
<div class="inner_cell">
<div class="text_cell_render border-box-sizing rendered_html">
<p>We want to make sure the function doesn't try to multiply non-conformable matrices. Without this check, depending on how we code the function, we might not get an error, but instead nonsense.</p>

</div>
</div>
</div>
<div class="cell border-box-sizing code_cell rendered">
<div class="input">
<div class="prompt input_prompt">In&nbsp;[12]:</div>
<div class="inner_cell">
    <div class="input_area">
<div class=" highlight hl-ipython3"><pre><span></span><span class="c1"># Non-comformable matrices</span>
<span class="nb">print</span> <span class="n">matprod</span><span class="p">(</span><span class="n">A</span><span class="p">,</span> <span class="n">C</span><span class="p">)</span> 
</pre></div>

</div>
</div>
</div>

<div class="output_wrapper">
<div class="output">


<div class="output_area">
<div class="prompt"></div>

<div class="output_subarea output_text output_error">
<pre>
<span class="ansi-red-fg">---------------------------------------------------------------------------</span>
<span class="ansi-red-fg">AssertionError</span>                            Traceback (most recent call last)
<span class="ansi-green-fg">&lt;ipython-input-12-01018821bc21&gt;</span> in <span class="ansi-cyan-fg">&lt;module&gt;</span><span class="ansi-blue-fg">()</span>
<span class="ansi-green-intense-fg ansi-bold">      1</span> <span class="ansi-red-fg"># Non-comformable matrices</span>
<span class="ansi-green-fg">----&gt; 2</span><span class="ansi-red-fg"> </span><span class="ansi-green-fg">print</span> matprod<span class="ansi-blue-fg">(</span>A<span class="ansi-blue-fg">,</span> C<span class="ansi-blue-fg">)</span>

<span class="ansi-green-fg">/Users/cvogel/.ipython/cython/_cython_magic_904b7331ce8a2a230f62508981f8c50c.so</span> in <span class="ansi-cyan-fg">_cython_magic_904b7331ce8a2a230f62508981f8c50c.matprod (/Users/cvogel/.ipython/cython/_cython_magic_904b7331ce8a2a230f62508981f8c50c.c:1184)</span><span class="ansi-blue-fg">()</span>

<span class="ansi-green-fg">/Users/cvogel/.ipython/cython/_cython_magic_904b7331ce8a2a230f62508981f8c50c.so</span> in <span class="ansi-cyan-fg">_cython_magic_904b7331ce8a2a230f62508981f8c50c.matmatprod (/Users/cvogel/.ipython/cython/_cython_magic_904b7331ce8a2a230f62508981f8c50c.c:1331)</span><span class="ansi-blue-fg">()</span>

<span class="ansi-red-fg">AssertionError</span>: Non-conformable shapes.</pre>
</div>
</div>

</div>
</div>

</div>
<div class="cell border-box-sizing text_cell rendered">
<div class="prompt input_prompt">
</div>
<div class="inner_cell">
<div class="text_cell_render border-box-sizing rendered_html">
<p>Now that it works correctly, we can check the speed of our Cython function. It appears to be a bit slower than numpy's <code>dot</code> function, but much faster than pure Python.</p>

</div>
</div>
</div>
<div class="cell border-box-sizing code_cell rendered">
<div class="input">
<div class="prompt input_prompt">In&nbsp;[14]:</div>
<div class="inner_cell">
    <div class="input_area">
<div class=" highlight hl-ipython3"><pre><span></span><span class="o">%</span><span class="k">timeit</span> np.dot(A, B)
</pre></div>

</div>
</div>
</div>

<div class="output_wrapper">
<div class="output">


<div class="output_area">
<div class="prompt"></div>

<div class="output_subarea output_stream output_stdout output_text">
<pre>1000000 loops, best of 3: 1.33 µs per loop
</pre>
</div>
</div>

</div>
</div>

</div>
<div class="cell border-box-sizing code_cell rendered">
<div class="input">
<div class="prompt input_prompt">In&nbsp;[15]:</div>
<div class="inner_cell">
    <div class="input_area">
<div class=" highlight hl-ipython3"><pre><span></span><span class="o">%</span><span class="k">timeit</span> matprod(A, B)
</pre></div>

</div>
</div>
</div>

<div class="output_wrapper">
<div class="output">


<div class="output_area">
<div class="prompt"></div>

<div class="output_subarea output_stream output_stdout output_text">
<pre>100000 loops, best of 3: 3.53 µs per loop
</pre>
</div>
</div>

</div>
</div>

</div>
<div class="cell border-box-sizing code_cell rendered">
<div class="input">
<div class="prompt input_prompt">In&nbsp;[16]:</div>
<div class="inner_cell">
    <div class="input_area">
<div class=" highlight hl-ipython3"><pre><span></span><span class="o">%</span><span class="k">timeit</span> pymatmatprod(A, B)
</pre></div>

</div>
</div>
</div>

<div class="output_wrapper">
<div class="output">


<div class="output_area">
<div class="prompt"></div>

<div class="output_subarea output_stream output_stdout output_text">
<pre>10000 loops, best of 3: 23.3 µs per loop
</pre>
</div>
</div>

</div>
</div>

</div>
<div class="cell border-box-sizing text_cell rendered">
<div class="prompt input_prompt">
</div>
<div class="inner_cell">
<div class="text_cell_render border-box-sizing rendered_html">
<hr>

</div>
</div>
</div>
<div class="cell border-box-sizing text_cell rendered">
<div class="prompt input_prompt">
</div>
<div class="inner_cell">
<div class="text_cell_render border-box-sizing rendered_html">
<h5 id="Note:-Numpy-arrays-in-Cython-using-buffers-or-MemoryViews">Note: Numpy arrays in Cython using buffers or MemoryViews<a class="anchor-link" href="#Note:-Numpy-arrays-in-Cython-using-buffers-or-MemoryViews">&#182;</a></h5>
</div>
</div>
</div>
<div class="cell border-box-sizing text_cell rendered">
<div class="prompt input_prompt">
</div>
<div class="inner_cell">
<div class="text_cell_render border-box-sizing rendered_html">
<p>In the functions above, we declared a variable to be a numpy array with, for example,</p>

<pre><code>np.ndarray[double, ndim=2] x

</code></pre>
<p>This is an example of creating a Numpy array buffer. There is a newer method <a href="http://docs.cython.org/src/userguide/memoryviews.html">recommended</a> in the Numpy documentation, using <span class='hiterm'>typed MemoryViews</span>. Using this method, we would have instead declared</p>

<pre><code>double[:, :] x

</code></pre>
<p>or</p>

<pre><code>double[:, ::1] x

</code></pre>
<p>The <code>::1</code> slice indicates that <code>x</code> is a C-contiguous array; i.e. its columns are one memory-location apart. This is a much simpler syntax than the array buffer declaration. MemoryViews are also supposed to be faster and more flexible than buffers. In my experience they are when working on larger arrays, but on smaller problems, there seems to be some overhead involved in creating MemoryViews and coercing them back to arrays.</p>
<p>I&#8217;ll use the two notations interchangeably throughout.</p>

</div>
</div>
</div>
<div class="cell border-box-sizing text_cell rendered">
<div class="prompt input_prompt">
</div>
<div class="inner_cell">
<div class="text_cell_render border-box-sizing rendered_html">
<hr>

</div>
</div>
</div>
<div class="cell border-box-sizing text_cell rendered">
<div class="prompt input_prompt">
</div>
<div class="inner_cell">
<div class="text_cell_render border-box-sizing rendered_html">
<h2 id="Solution-by-matrix-inversion">Solution by matrix inversion<a class="anchor-link" href="#Solution-by-matrix-inversion">&#182;</a></h2>
</div>
</div>
</div>
<div class="cell border-box-sizing text_cell rendered">
<div class="prompt input_prompt">
</div>
<div class="inner_cell">
<div class="text_cell_render border-box-sizing rendered_html">
<p>The natural solution to the matrix equation $Ax = b$ is to find the <span class="hiterm">inverse</span> of $A$, denoted $A^{-1}$. $\ A^{-1}$ is the matrix that has the property $A^{-1}A = I$. Pre-multiplying both sides of the equation will then leave us with the solution $x = A^{-1}b$.</p>
<p>It turns out, though, that computing $A^{-1}$ is expensive, and that there are more efficient ways of solving the system. As <a href="http://www.johndcook.com/blog/2010/01/19/dont-invert-that-matrix/" target="new">John Cook</a> says, &#8220;There is hardly ever a good reason to invert a matrix.&#8221; With that advice, we'll not spend effort on writing algorithms for computing matrix inverses.</p>
<p>What is useful to know about $A^{-1}$ is that it only exists if the linear system has a unique solution. That is, if there is one and only one $x$ that solves $Ax = b.$ If $A$ has an inverse, it's called <span class="hiterm">nonsingular</span>.</p>
<p>Under what circumstances would $A$ <em>not</em> have an inverse?
If one of the columns in $A$ can be calculated as a linear combination of the other columns, then $A$ will not have an inverse. To have an inverse, $\,A$&#8217;s columns must be <span class="hiterm">linearly independent</span>.</p>
<p>For example, let&#8217;s look at the linear system</p>
$$
\begin{pmatrix}
2  & 3  &  1 \\\
0.5  & 2  & -1 \\\
-1 & 5 &  -7
\end{pmatrix}\,
\begin{pmatrix}
x_0 \\\ x_1 \\\ x_2
\end{pmatrix} =
\begin{pmatrix}
10 \\\ -3 \\\ 2
\end{pmatrix}\
$$<p>Here the third column, $A_{\cdot2}$ is equal to $2\times A_{\cdot0} - 1\times A_{\cdot 1}$, so the columns of this matrix are not linearly independent. This relationship means that $x_2 = 2x_0 - x_1$, so $x_2$ is not an independent variable, and we really only have two variables in three equations. There will be an infinite number of combinations of $x_0$ and $x_1$ that solve the system.</p>
<p>When the columns of $A$ are not linearly independent, and $A$ has no inverse, it&#8217;s called <span class="hiterm">singular</span> or <span class="hiterm">degenerate</span>.</p>

</div>
</div>
</div>
<div class="cell border-box-sizing text_cell rendered">
<div class="prompt input_prompt">
</div>
<div class="inner_cell">
<div class="text_cell_render border-box-sizing rendered_html">
<h2 id="The-determinant-of-a-matrix">The determinant of a matrix<a class="anchor-link" href="#The-determinant-of-a-matrix">&#182;</a></h2>
</div>
</div>
</div>
<div class="cell border-box-sizing text_cell rendered">
<div class="prompt input_prompt">
</div>
<div class="inner_cell">
<div class="text_cell_render border-box-sizing rendered_html">
<p>In the example above, it was easy to see that the columns of the matrix were not linearly independent. For larger matrices, a more reliable method of detecting singular matrices is required.</p>
<p>The <span class="hiterm">determinant</span> of a matrix&#8212;a real number denoted $\det(A)$&#8212;is an attribute of a square matrix that can be used to tell whether a matrix is singular, and therefore whether the linear system has a solution.</p>
<p>The check is straightforward: when the determinant of a matrix is zero, the matrix is singular, and no solution exists. We can check this with the singular matrix in the example above, using numpy&#8217;s <code>det</code> function.</p>

</div>
</div>
</div>
<div class="cell border-box-sizing code_cell rendered">
<div class="input">
<div class="prompt input_prompt">In&nbsp;[146]:</div>
<div class="inner_cell">
    <div class="input_area">
<div class=" highlight hl-ipython3"><pre><span></span><span class="n">A</span> <span class="o">=</span> <span class="n">np</span><span class="o">.</span><span class="n">array</span><span class="p">([[</span>  <span class="mi">2</span><span class="p">,</span> <span class="mi">3</span><span class="p">,</span>  <span class="mi">1</span><span class="p">],</span>
              <span class="p">[</span><span class="mf">0.5</span><span class="p">,</span> <span class="mi">2</span><span class="p">,</span> <span class="o">-</span><span class="mi">1</span><span class="p">],</span>
              <span class="p">[</span> <span class="o">-</span><span class="mi">1</span><span class="p">,</span> <span class="mi">5</span><span class="p">,</span> <span class="o">-</span><span class="mi">7</span><span class="p">]])</span>

<span class="c1"># A is singular, so it&#39;s determinant should be zero.</span>
<span class="nb">print</span> <span class="s2">&quot;The determinant is&quot;</span><span class="p">,</span> <span class="n">np</span><span class="o">.</span><span class="n">linalg</span><span class="o">.</span><span class="n">det</span><span class="p">(</span><span class="n">A</span><span class="p">)</span>
</pre></div>

</div>
</div>
</div>

<div class="output_wrapper">
<div class="output">


<div class="output_area">
<div class="prompt"></div>

<div class="output_subarea output_stream output_stdout output_text">
<pre>The determinant is 0.0
</pre>
</div>
</div>

</div>
</div>

</div>
<div class="cell border-box-sizing text_cell rendered">
<div class="prompt input_prompt">
</div>
<div class="inner_cell">
<div class="text_cell_render border-box-sizing rendered_html">
<p></p>    
Calculating the determinant, though, is not so easy.

Let&#8217;s start with a trivial definition. We&#8217;ll say that the determinant of a $1\times1$ matrix $A$ (a scalar), is simply equal to $A$. So, for example, $\det(4) = 4$.

The well-known formula for the determinant of a $2x2$ matrix

$$
A =
\begin{pmatrix}
a & b \\\
c & d 
\end{pmatrix}
$$

<p class="hangpar">is $\det(A) = ad - bc$. We can break this formula down and generalize it to larger matrices.</p><p>First, let&#8217;s define the $(i, j)$ <span class="hiterm"> minor</span> of $A$, denoted $A_{ij}$ as the matrix that results from removing row $i$ and column $j$ from $A$. For example, the (0, 0) minor of the $2\times2$ matrix above is:</p>
$$
\begin{pmatrix}
\cdot & \cdot \\\
\cdot & d
\end{pmatrix} = d.
$$<p>Similarly the (0, 1) minor is:</p>
$$
\begin{pmatrix}
\cdot & \cdot \\\
c & \cdot
\end{pmatrix} = c.
$$<p></p>
<p>We can now re-write the formula for the determinant as</p>
$$
\det(A) = a_{00}\det(A_{00}) - a_{01}\det(A_{01})\ ,
$$<p class="hangpar">since the the minors $A_{0i}, i = 0, 1$ are scalars so are equal to their determinants by our definition above. Even better, we can take care of the minus sign by noting that</p>$$
\det(A) = (-1^0)\;a_{00}\det(A_{00}) + (-1^1)\;a_{01}\det(A_{01})\ .
$$<p>Everything in this formula can now be generalized to the determinant of an arbitrary $n\times n$ matrix.</p>
$$
\det(A) = \sum_{i=0}^{n-1}(-1^i)\;a_{0i}\det(A_{0i})
$$<p>Our choice to move across row 0 of the matrix was arbitrary; we could have chosen to go across any row or down any column of the matrix, as long as we obtained the associated minor and computed the correct sign on each term. For example, we could have used column 2, in which case we would have had:</p>
$$
\det(A) = \sum_{i=0}^{n-1}(-1^{i+2})\;a_{i2}\det(A_{i2})
$$<p>This flexibility can often come in handy. For example, if a row or column has a lot of zeros in it, we can exploit that to cut down on the number of calculations needed since terms in the sum get zeroed out.</p>
<p>Lastly, notice that these definitions are <span class="hiterm">recursive</span>. That is, to find the determinant of an $n\times n$ matrix $A$, we have to find the determinants of the $(n-1)\times(n-1)$ minors $A_{0i}$ (of which there are $n$). To find the determinants of <em>these</em> matrices, we have to compute the determinants of their $(n-2)\times(n-2)$ minors (of which there are $n-1$). So we are now computing $n\times(n-1)$ determinants of $(n-2)\times(n-2)$ matrices. This continues all the way down until the minor matrices are scalars, at which point we know the determinants by definition.</p>
<p>The recursive equation gives us a simple and elegant way to express all this computation. Furthermore we can write our code using this recursive equation directly, by writing a <code>determinant</code> function that calls itself. But as is often the case this elegance comes at a cost, and we&#8217;ll find that this recursive method gets very computationally expensive.</p>

</div>
</div>
</div>
<div class="cell border-box-sizing text_cell rendered">
<div class="prompt input_prompt">
</div>
<div class="inner_cell">
<div class="text_cell_render border-box-sizing rendered_html">
<hr>

</div>
</div>
</div>
<div class="cell border-box-sizing text_cell rendered">
<div class="prompt input_prompt">
</div>
<div class="inner_cell">
<div class="text_cell_render border-box-sizing rendered_html">
<h5 id="Exercise:-Computing-determinants-with-recursive-functions">Exercise: Computing determinants with recursive functions<a class="anchor-link" href="#Exercise:-Computing-determinants-with-recursive-functions">&#182;</a></h5>
</div>
</div>
</div>
<div class="cell border-box-sizing text_cell rendered">
<div class="prompt input_prompt">
</div>
<div class="inner_cell">
<div class="text_cell_render border-box-sizing rendered_html">
<p>The following code implements the recursive algorithm for calculating the determinant. Note the compiler flag after <code>%%cython</code>; necessary since we'll use a function from C's <code>math</code> library.</p>

</div>
</div>
</div>
<div class="cell border-box-sizing code_cell rendered">
<div class="input">
<div class="prompt input_prompt">In&nbsp;[27]:</div>
<div class="inner_cell">
    <div class="input_area">
<div class=" highlight hl-ipython3"><pre><span></span><span class="o">%%</span><span class="n">cython</span> <span class="o">-</span><span class="n">lm</span> 
<span class="c"># Note the lm flag, used to import the C math library.</span>
<span class="k">import</span> <span class="nn">cython</span>
<span class="k">import</span> <span class="nn">numpy</span> <span class="k">as</span> <span class="nn">np</span>
<span class="k">cimport</span> <span class="nn">numpy</span> <span class="k">as</span> <span class="nn">np</span>
<span class="c"># Using C&#39;s power function instead of Python, hence the</span>
<span class="c"># math library link flag above.</span>
<span class="k">from</span> <span class="nn">libc.math</span> <span class="k">cimport</span> <span class="nb">pow</span>

<span class="nd">@cython</span><span class="o">.</span><span class="n">boundscheck</span><span class="p">(</span><span class="bp">False</span><span class="p">)</span>
<span class="nd">@cython</span><span class="o">.</span><span class="n">wraparound</span><span class="p">(</span><span class="bp">False</span><span class="p">)</span>
<span class="k">cpdef</span> <span class="kt">double</span> <span class="nf">determinant</span><span class="p">(</span><span class="n">double</span><span class="p">[:,</span> <span class="p">:]</span> <span class="n">M</span><span class="p">):</span>
    <span class="sd">&#39;&#39;&#39;</span>
<span class="sd">    Compute the determinant of a square nxn matrix using</span>
<span class="sd">    the recursive formula:</span>
<span class="sd"> </span>
<span class="sd">        det(M) = sum_{i=0}^{n-1} (-1^i)*M[0,i]*det(M_minor(0,i))</span>

<span class="sd">    where M_minor(0,i) is the (n-1)x(n-1) matrix formed by</span>
<span class="sd">    removing row 0 and column i from M.</span>
<span class="sd">    &#39;&#39;&#39;</span>
    
    <span class="k">assert</span> <span class="n">M</span><span class="o">.</span><span class="n">shape</span><span class="p">[</span><span class="mf">0</span><span class="p">]</span> <span class="o">==</span> <span class="n">M</span><span class="o">.</span><span class="n">shape</span><span class="p">[</span><span class="mf">1</span><span class="p">],</span> <span class="s">&#39;Matrix is not square.&#39;</span>
    
    <span class="k">cdef</span> <span class="kt">int</span> <span class="nf">i</span><span class="p">,</span> <span class="nf">j</span>
    <span class="k">cdef</span> <span class="kt">int</span> <span class="nf">n</span> <span class="o">=</span> <span class="n">M</span><span class="o">.</span><span class="n">shape</span><span class="p">[</span><span class="mf">0</span><span class="p">]</span>
    <span class="k">cdef</span> <span class="kt">double</span> <span class="nf">det</span> <span class="o">=</span> <span class="mf">0.0</span>
    <span class="k">cdef</span> <span class="kt">double</span> <span class="nf">coef</span>
    <span class="k">cdef</span> <span class="kt">double</span>[<span class="p">:,</span> <span class="p">:]</span> <span class="n">M_minor</span> <span class="o">=</span> <span class="n">np</span><span class="o">.</span><span class="n">empty</span><span class="p">((</span><span class="n">n</span><span class="o">-</span><span class="mf">1</span><span class="p">,</span> <span class="n">n</span><span class="o">-</span><span class="mf">1</span><span class="p">))</span>
    
    <span class="k">if</span> <span class="n">n</span> <span class="o">==</span> <span class="mf">1</span><span class="p">:</span>
        <span class="c"># If M is a scalar (1x1) just return it</span>
        <span class="k">return</span> <span class="n">M</span><span class="p">[</span><span class="mf">0</span><span class="p">,</span> <span class="mf">0</span><span class="p">]</span>
    <span class="k">else</span><span class="p">:</span>
        <span class="c"># If M is nxn, then get its (n-1)x(n-1) minors</span>
        <span class="c"># (one for each of M&#39;s n columns) and compute </span>
        <span class="c"># their determinants and add them to the summation.</span>
        <span class="k">for</span> <span class="n">j</span> <span class="ow">in</span> <span class="nb">xrange</span><span class="p">(</span><span class="n">n</span><span class="p">):</span>
            <span class="n">coef</span> <span class="o">=</span> <span class="nb">pow</span><span class="p">(</span><span class="o">-</span><span class="mf">1</span><span class="p">,</span> <span class="n">j</span><span class="p">)</span> <span class="o">*</span> <span class="n">M</span><span class="p">[</span><span class="mf">0</span><span class="p">,</span> <span class="n">j</span><span class="p">]</span>
            <span class="n">_get_minor</span><span class="p">(</span><span class="n">M</span><span class="p">,</span> <span class="n">M_minor</span><span class="p">,</span> <span class="mf">0</span><span class="p">,</span> <span class="n">j</span><span class="p">)</span>
            <span class="n">det</span> <span class="o">+=</span> <span class="n">coef</span> <span class="o">*</span> <span class="n">determinant</span><span class="p">(</span><span class="n">M_minor</span><span class="p">)</span>
        <span class="k">return</span> <span class="n">det</span>

<span class="nd">@cython</span><span class="o">.</span><span class="n">boundscheck</span><span class="p">(</span><span class="bp">False</span><span class="p">)</span>
<span class="nd">@cython</span><span class="o">.</span><span class="n">wraparound</span><span class="p">(</span><span class="bp">False</span><span class="p">)</span>
<span class="k">cdef</span> <span class="kt">void</span> <span class="nf">_get_minor</span><span class="p">(</span><span class="n">double</span><span class="p">[:,</span> <span class="p">:]</span> <span class="n">M</span><span class="p">,</span> <span class="n">double</span><span class="p">[:,</span> <span class="p">:]</span> <span class="n">M_minor</span><span class="p">,</span> 
                    <span class="nb">int</span> <span class="n">row</span><span class="p">,</span> <span class="nb">int</span> <span class="n">col</span><span class="p">):</span>
    <span class="sd">&#39;&#39;&#39;</span>
<span class="sd">    Return the minor of a matrix, by removing a specified</span>
<span class="sd">    row and column</span>

<span class="sd">    If M is nxn, then _get_minor(M, row, col) will fill in</span>
<span class="sd">    the (n-1)x(n-1) matrix M_minor by removing row `row` </span>
<span class="sd">    and column `col` from M.</span>
<span class="sd">    &#39;&#39;&#39;</span>
    <span class="k">cdef</span><span class="p">:</span>
        <span class="nb">int</span> <span class="n">n</span> <span class="o">=</span> <span class="n">M</span><span class="o">.</span><span class="n">shape</span><span class="p">[</span><span class="mf">0</span><span class="p">]</span>
        <span class="nb">int</span> <span class="n">i_to</span><span class="p">,</span> <span class="n">j_to</span><span class="p">,</span> <span class="n">i_from</span><span class="p">,</span> <span class="n">j_from</span>
  
        
    <span class="c"># _from indicates the index of the original</span>
    <span class="c"># matrix M, _to, indicates the index of the</span>
    <span class="c"># result matrix M_minor.</span>
    <span class="n">i_from</span> <span class="o">=</span> <span class="mf">0</span>
    <span class="k">for</span> <span class="n">i_to</span> <span class="ow">in</span> <span class="nb">xrange</span><span class="p">(</span><span class="n">n</span><span class="o">-</span><span class="mf">1</span><span class="p">):</span>
        <span class="k">if</span> <span class="p">(</span><span class="n">i_to</span> <span class="o">==</span> <span class="n">row</span><span class="p">):</span> 
            <span class="c"># This is the row to exclude from the</span>
            <span class="c"># minor, so skip it.</span>
            <span class="n">i_from</span> <span class="o">+=</span> <span class="mf">1</span>
        <span class="n">j_from</span> <span class="o">=</span> <span class="mf">0</span>
        <span class="k">for</span> <span class="n">j_to</span> <span class="ow">in</span> <span class="nb">xrange</span><span class="p">(</span><span class="n">n</span><span class="o">-</span><span class="mf">1</span><span class="p">):</span>
            <span class="k">if</span> <span class="p">(</span><span class="n">j_to</span> <span class="o">==</span> <span class="n">col</span><span class="p">):</span> 
            <span class="c"># This is the column to exclude from the</span>
            <span class="c"># minor, so skip it.</span>
                <span class="n">j_from</span> <span class="o">+=</span> <span class="mf">1</span>
            
            <span class="n">M_minor</span><span class="p">[</span><span class="n">i_to</span><span class="p">,</span> <span class="n">j_to</span><span class="p">]</span> <span class="o">=</span> <span class="n">M</span><span class="p">[</span><span class="n">i_from</span><span class="p">,</span> <span class="n">j_from</span><span class="p">]</span>
            <span class="n">j_from</span> <span class="o">+=</span> <span class="mf">1</span>
        
        <span class="n">i_from</span> <span class="o">+=</span> <span class="mf">1</span>
</pre></div>

</div>
</div>
</div>

</div>
<div class="cell border-box-sizing text_cell rendered">
<div class="prompt input_prompt">
</div>
<div class="inner_cell">
<div class="text_cell_render border-box-sizing rendered_html">
<p>Testing the function on a sample matrix, suggests it&#8217;s correctly coded.</p>

</div>
</div>
</div>
<div class="cell border-box-sizing code_cell rendered">
<div class="input">
<div class="prompt input_prompt">In&nbsp;[16]:</div>
<div class="inner_cell">
    <div class="input_area">
<div class=" highlight hl-ipython3"><pre><span></span><span class="c1"># A is 3x3</span>
<span class="n">A</span> <span class="o">=</span> <span class="n">np</span><span class="o">.</span><span class="n">array</span><span class="p">([[</span> <span class="mi">2</span><span class="p">,</span> <span class="o">-</span><span class="mi">1</span><span class="p">,</span>   <span class="mi">4</span><span class="p">],</span>
              <span class="p">[</span><span class="o">-</span><span class="mi">1</span><span class="p">,</span>  <span class="mi">3</span><span class="p">,</span> <span class="mf">0.5</span><span class="p">],</span>
              <span class="p">[</span> <span class="mi">5</span><span class="p">,</span> <span class="o">-</span><span class="mi">9</span><span class="p">,</span>  <span class="mi">11</span><span class="p">]])</span>

<span class="nb">print</span> <span class="s1">&#39;Numpy: &#39;</span><span class="p">,</span> <span class="n">np</span><span class="o">.</span><span class="n">linalg</span><span class="o">.</span><span class="n">det</span><span class="p">(</span><span class="n">A</span><span class="p">)</span>
<span class="nb">print</span> <span class="s1">&#39;Cython: &#39;</span><span class="p">,</span> <span class="n">determinant</span><span class="p">(</span><span class="n">A</span><span class="p">)</span>
</pre></div>

</div>
</div>
</div>

<div class="output_wrapper">
<div class="output">


<div class="output_area">
<div class="prompt"></div>

<div class="output_subarea output_stream output_stdout output_text">
<pre>Numpy:  37.5
Cython:  37.5
</pre>
</div>
</div>

</div>
</div>

</div>
<div class="cell border-box-sizing text_cell rendered">
<div class="prompt input_prompt">
</div>
<div class="inner_cell">
<div class="text_cell_render border-box-sizing rendered_html">
<p>And it is even quite fast on a $3\times3$ matrix.</p>

</div>
</div>
</div>
<div class="cell border-box-sizing code_cell rendered">
<div class="input">
<div class="prompt input_prompt">In&nbsp;[19]:</div>
<div class="inner_cell">
    <div class="input_area">
<div class=" highlight hl-ipython3"><pre><span></span><span class="nb">print</span> <span class="s1">&#39;Numpy time:&#39;</span>
<span class="o">%</span><span class="k">timeit</span> np.linalg.det(A)
<span class="nb">print</span> <span class="s1">&#39;Recursive Cython time&#39;</span>
<span class="o">%</span><span class="k">timeit</span> determinant(A)
</pre></div>

</div>
</div>
</div>

<div class="output_wrapper">
<div class="output">


<div class="output_area">
<div class="prompt"></div>

<div class="output_subarea output_stream output_stdout output_text">
<pre>Numpy time:
10000 loops, best of 3: 62.7 µs per loop
Recursive Cython time
10000 loops, best of 3: 26.1 µs per loop
</pre>
</div>
</div>

</div>
</div>

</div>
<div class="cell border-box-sizing text_cell rendered">
<div class="prompt input_prompt">
</div>
<div class="inner_cell">
<div class="text_cell_render border-box-sizing rendered_html">
<p>But&#8212;as feared&#8212;it is deadly slow on even just a somewhat larger, $10\times 10$ matrix.</p>

</div>
</div>
</div>
<div class="cell border-box-sizing code_cell rendered">
<div class="input">
<div class="prompt input_prompt">In&nbsp;[20]:</div>
<div class="inner_cell">
    <div class="input_area">
<div class=" highlight hl-ipython3"><pre><span></span><span class="c1"># B is 10x10</span>
<span class="nb">print</span> <span class="s1">&#39;Numpy time:&#39;</span>
<span class="n">B</span> <span class="o">=</span> <span class="n">np</span><span class="o">.</span><span class="n">random</span><span class="o">.</span><span class="n">randn</span><span class="p">(</span><span class="mi">100</span><span class="p">)</span><span class="o">.</span><span class="n">reshape</span><span class="p">(</span><span class="mi">10</span><span class="p">,</span> <span class="mi">10</span><span class="p">)</span>
<span class="o">%</span><span class="k">timeit</span> np.linalg.det(B)
<span class="nb">print</span> <span class="s1">&#39;Recursive Cython time&#39;</span>
<span class="o">%</span><span class="k">timeit</span> determinant(B)
</pre></div>

</div>
</div>
</div>

<div class="output_wrapper">
<div class="output">


<div class="output_area">
<div class="prompt"></div>

<div class="output_subarea output_stream output_stdout output_text">
<pre>Numpy time:
10000 loops, best of 3: 65.6 µs per loop
Recursive Cython time
1 loops, best of 3: 16.2 s per loop
</pre>
</div>
</div>

</div>
</div>

</div>
<div class="cell border-box-sizing text_cell rendered">
<div class="prompt input_prompt">
</div>
<div class="inner_cell">
<div class="text_cell_render border-box-sizing rendered_html">
<hr>

</div>
</div>
</div>
<div class="cell border-box-sizing text_cell rendered">
<div class="prompt input_prompt">
</div>
<div class="inner_cell">
<div class="text_cell_render border-box-sizing rendered_html">
<h2 id="Linear-systems-with-triangular-matrices">Linear systems with triangular matrices<a class="anchor-link" href="#Linear-systems-with-triangular-matrices">&#182;</a></h2>
</div>
</div>
</div>
<div class="cell border-box-sizing text_cell rendered">
<div class="prompt input_prompt">
</div>
<div class="inner_cell">
<div class="text_cell_render border-box-sizing rendered_html">
<p>At this point, the elegance of mathematics has been thwarted by the dirty business of computing. We would like to know whether a linear system is solvable, which we can do by calculating it&#8217;s determinant. But the mathematical formula we have derived for it computes terribly. Even if we could compute the determinant and find the system to be solvable, we have been warned against using the algebraically sensible method of matrix inversion to solve it.</p>
<p>Let&#8217;s go down a new road. Our system, once more, is:</p>
$$
\begin{pmatrix}
a_{00} & a_{01} & \ldots & a_{0,n-1} \\\
a_{10} & a_{11} & \ldots & a_{1,n-1} \\\
\vdots &  &   \ddots & \vdots \\\
a_{n-1,0} & a_{n-1,1} & \ldots & a_{n-1,n-1}
\end{pmatrix} \,
\begin{pmatrix} x_0 \\\ x_1 \\\ \vdots \\\ x_{n-1}\end{pmatrix}
=
\begin{pmatrix} b_0 \\\ b_1 \\\ \vdots \\\ b_{n-1}\end{pmatrix}\ 
$$<p>But imagine that our system was of the form:</p>
$$
\begin{pmatrix}
l_{00} & 0 & 0 & \ldots & 0 \\\
l_{10} & l_{11} & 0 & \ldots & 0 \\\
\vdots &  &  & \ddots & \vdots\\\
l_{n-1,0} & l_{n-1,1} & l_{n-1,2} & \ldots & l_{n-1,n-1}
\end{pmatrix}\,
\begin{pmatrix} y_0 \\\ y_1 \\\ \vdots \\\ y_{n-1}\end{pmatrix}
=
\begin{pmatrix} c_0 \\\ c_1 \\\ \vdots \\\ c_{n-1}\end{pmatrix}\ 
$$<p class="hangpar">or $Ly = c$. The matrix $L$ is <span class="hiterm">lower triangular</span>, which means all the elements above its diagonal are zero.</p><p>This is a simple system to solve. The first row gives us the value of $x_0$; once we have that, substituting it into the second row gives us $x_1$. We can then roll this process down to solve for a new variable in each row until we&#8217;ve solve the whole system. This process is called <span class="hiterm">forward substitution</span>. The formula for any $y_i$ in the system above is</p>
$$
y_i = \frac{1}{l_{ii}}\left(c_i - \sum_{k=0}^{i-1}l_{ik}\,y_k\right),
$$<p class="hangpar">which only depends on the previous values of $y\,$: $y_{i-1}, y_{i-2}, \ldots, y_0$.</p><p>The process, of course, is just as simple with an <span class="hiterm">upper triangular</span> matrix:</p>
$$
\begin{pmatrix}
u_{01} & u_{11} & \ldots & u_{0, n-2} & u_{0,n-1} \\\
0 & u_{11} & \ldots & u_{1, n-2}& u_{1,n-1} \\\
\vdots &  & \ddots &  &\vdots\\\
0 & 0 & \ldots & 0 & u_{n-1,n-1}
\end{pmatrix}\,
\begin{pmatrix} y_0 \\\ y_1 \\\ \vdots \\\ y_{n-1}\end{pmatrix}
=
\begin{pmatrix} c_0 \\\ c_1 \\\ \vdots \\\ c_{n-1}\end{pmatrix}\ 
$$<p class="hangpar">or $Uy = c$. Here we would simply move up the rows, substituting and solving for one new variable each time; a process called, unsurprisingly, <span class="hiterm">backwards substitution</span>.</p>
</div>
</div>
</div>
<div class="cell border-box-sizing text_cell rendered">
<div class="prompt input_prompt">
</div>
<div class="inner_cell">
<div class="text_cell_render border-box-sizing rendered_html">
<h3 id="Determinants-of-triangular-matrices">Determinants of triangular matrices<a class="anchor-link" href="#Determinants-of-triangular-matrices">&#182;</a></h3>
</div>
</div>
</div>
<div class="cell border-box-sizing text_cell rendered">
<div class="prompt input_prompt">
</div>
<div class="inner_cell">
<div class="text_cell_render border-box-sizing rendered_html">
<p>Another convenient property of triangular matrices is that their determinants are just the products of their diagonal entries. This is easy to prove using the recursive determinant formula defined above. For a lower triangular matrix, just take the determinant across the top row. Only the first term is non-zero, so we have</p>
$$
\det(L) = l_{00}\det(L_{00}).
$$<p>The minor $L_{00}$ is just another lower triangular matrix, so its determinant is</p>
$$
\det(L_{00}) = l_{11}\det(L_{00_{00}}),
$$<p>&lt;p class = "hangpar"&gt;giving us&lt;/p&gt;
$$
\det(L) = l_{00}\cdot l_{11}\det(L_{00_{00}}).
$$</p>
<p>We can imagine proceding down this route, substituting minors, until all that remains is the product $\det(L) = l_{00}\cdot l_{11}\cdots l_{n-1,n-1}\,.$</p>
<p>The process is the same for an upper triangular matrix. If we take the determinant down the first column, we'll find each subsequent minor matrix in the recursion is also an upper triangular matrix, so it&#8217;s determinant is also just the product of its diagonals, $u_{00}\cdot u_{11}\cdots u_{n-1, n-1}$.</p>
<p>The implication of this is that a triangular matrix is non-singular or invertible so long as none of its diagonal elements are zero. This makes intuitive sense if you imagine proceeding through each step of forward or backward substitution&#8212;a zero on the diagonal would break the chain of sequential subsitutions.</p>

</div>
</div>
</div>
<div class="cell border-box-sizing text_cell rendered">
<div class="prompt input_prompt">
</div>
<div class="inner_cell">
<div class="text_cell_render border-box-sizing rendered_html">
<hr>

</div>
</div>
</div>
<div class="cell border-box-sizing text_cell rendered">
<div class="prompt input_prompt">
</div>
<div class="inner_cell">
<div class="text_cell_render border-box-sizing rendered_html">
<h5 id="Exercise:-Coding-forward--and-backward-substitution-solution-methods">Exercise: Coding forward- and backward-substitution solution methods<a class="anchor-link" href="#Exercise:-Coding-forward--and-backward-substitution-solution-methods">&#182;</a></h5>
</div>
</div>
</div>
<div class="cell border-box-sizing text_cell rendered">
<div class="prompt input_prompt">
</div>
<div class="inner_cell">
<div class="text_cell_render border-box-sizing rendered_html">
<p>The forward and backward substitution algorithms are straightforward to code. Below are two functions, expecting either a lower or upper triangular matrix, that solve the respective system.</p>

</div>
</div>
</div>
<div class="cell border-box-sizing code_cell rendered">
<div class="input">
<div class="prompt input_prompt">In&nbsp;[62]:</div>
<div class="inner_cell">
    <div class="input_area">
<div class=" highlight hl-ipython3"><pre><span></span><span class="o">%%</span><span class="n">cython</span> <span class="o">-</span><span class="n">lm</span>
<span class="k">import</span> <span class="nn">cython</span>
<span class="k">import</span> <span class="nn">numpy</span> <span class="k">as</span> <span class="nn">np</span>
<span class="k">cimport</span> <span class="nn">numpy</span> <span class="k">as</span> <span class="nn">np</span>
<span class="k">from</span> <span class="nn">libc.math</span> <span class="k">cimport</span> <span class="n">fabs</span>

<span class="nd">@cython</span><span class="o">.</span><span class="n">boundscheck</span><span class="p">(</span><span class="bp">False</span><span class="p">)</span>
<span class="nd">@cython</span><span class="o">.</span><span class="n">wraparound</span><span class="p">(</span><span class="bp">False</span><span class="p">)</span>
<span class="nd">@cython</span><span class="o">.</span><span class="n">cdivision</span><span class="p">(</span><span class="bp">True</span><span class="p">)</span>
<span class="k">cpdef</span> <span class="kt">np</span>.<span class="kt">ndarray</span>[<span class="nf">double</span><span class="p">,</span> <span class="nf">ndim</span><span class="o">=</span><span class="mf">1</span><span class="p">]</span> <span class="n">forward_sub_solve</span><span class="p">(</span> 
    <span class="n">np</span><span class="o">.</span><span class="n">ndarray</span><span class="p">[</span><span class="n">double</span><span class="p">,</span> <span class="n">ndim</span><span class="o">=</span><span class="mf">2</span><span class="p">]</span> <span class="n">L</span><span class="p">,</span> 
    <span class="n">np</span><span class="o">.</span><span class="n">ndarray</span><span class="p">[</span><span class="n">double</span><span class="p">,</span> <span class="n">ndim</span><span class="o">=</span><span class="mf">1</span><span class="p">]</span> <span class="n">b</span><span class="p">):</span>
    <span class="sd">&#39;&#39;&#39; </span>
<span class="sd">    Solve, by forward substition, the system Lx = b, where</span>
<span class="sd">    L is a lower triangular matrix.</span>
<span class="sd">    </span>
<span class="sd">    Note that the code does not check whether L is lower</span>
<span class="sd">    triangular. Calling the function with an arbitrary</span>
<span class="sd">    &#39;&#39;&#39;</span>
    
    <span class="k">assert</span> <span class="n">L</span><span class="o">.</span><span class="n">shape</span><span class="p">[</span><span class="mf">1</span><span class="p">]</span> <span class="o">==</span> <span class="n">b</span><span class="o">.</span><span class="n">shape</span><span class="p">[</span><span class="mf">0</span><span class="p">],</span> \
        <span class="s">&#39;Matrix and vector are incompatible shapes.&#39;</span>
    <span class="k">assert</span> <span class="n">fabs</span><span class="p">(</span><span class="n">L</span><span class="p">[</span><span class="mf">0</span><span class="p">,</span> <span class="mf">0</span><span class="p">])</span> <span class="o">&gt;=</span> <span class="mf">10e-16</span><span class="p">,</span> \
        <span class="s">&#39;Zero element on diagonal.&#39;</span>
    
    <span class="c"># No. of variables to solve</span>
    <span class="k">cdef</span> <span class="kt">int</span> <span class="nf">n</span> <span class="o">=</span> <span class="n">b</span><span class="o">.</span><span class="n">shape</span><span class="p">[</span><span class="mf">0</span><span class="p">]</span>
    
    <span class="c"># Loop indices</span>
    <span class="k">cdef</span> <span class="kt">int</span> <span class="nf">i</span><span class="p">,</span> <span class="nf">k</span>
        
    <span class="c"># Initialize the solution vector</span>
    <span class="k">cdef</span> <span class="kt">np</span>.<span class="kt">ndarray</span>[<span class="nf">double</span><span class="p">,</span> <span class="nf">ndim</span><span class="o">=</span><span class="mf">1</span><span class="p">]</span> <span class="n">y</span> <span class="o">=</span> <span class="n">np</span><span class="o">.</span><span class="n">zeros</span><span class="p">(</span><span class="n">b</span><span class="o">.</span><span class="n">shape</span><span class="p">[</span><span class="mf">0</span><span class="p">])</span>
    <span class="n">y</span><span class="p">[</span><span class="mf">0</span><span class="p">]</span> <span class="o">=</span> <span class="n">b</span><span class="p">[</span><span class="mf">0</span><span class="p">]</span> <span class="o">/</span> <span class="n">L</span><span class="p">[</span><span class="mf">0</span><span class="p">,</span><span class="mf">0</span><span class="p">]</span> 

    <span class="k">cdef</span> <span class="kt">double</span> <span class="nf">sum_term</span> <span class="o">=</span> <span class="mf">0.0</span>
    <span class="k">for</span> <span class="n">i</span> <span class="ow">in</span> <span class="nb">xrange</span><span class="p">(</span><span class="mf">1</span><span class="p">,</span> <span class="n">n</span><span class="p">):</span>
        <span class="k">if</span> <span class="n">fabs</span><span class="p">(</span><span class="n">L</span><span class="p">[</span><span class="n">i</span><span class="p">,</span> <span class="n">i</span><span class="p">])</span> <span class="o">&lt;=</span> <span class="mf">10e-16</span><span class="p">:</span>
            <span class="k">raise</span> <span class="ne">ValueError</span><span class="p">(</span><span class="s">&#39;Zero element on diagonal.&#39;</span><span class="p">)</span>
        <span class="n">sum_term</span> <span class="o">=</span> <span class="mf">0.0</span>
        <span class="k">for</span> <span class="n">k</span> <span class="ow">in</span> <span class="nb">xrange</span><span class="p">(</span><span class="mf">0</span><span class="p">,</span> <span class="n">i</span><span class="p">):</span>
            <span class="n">sum_term</span> <span class="o">+=</span> <span class="n">L</span><span class="p">[</span><span class="n">i</span><span class="p">,</span> <span class="n">k</span><span class="p">]</span> <span class="o">*</span> <span class="n">y</span><span class="p">[</span><span class="n">k</span><span class="p">]</span>
        <span class="n">y</span><span class="p">[</span><span class="n">i</span><span class="p">]</span> <span class="o">=</span> <span class="p">(</span><span class="n">b</span><span class="p">[</span><span class="n">i</span><span class="p">]</span> <span class="o">-</span> <span class="n">sum_term</span><span class="p">)</span> <span class="o">/</span> <span class="n">L</span><span class="p">[</span><span class="n">i</span><span class="p">,</span> <span class="n">i</span><span class="p">]</span>
        
    <span class="k">return</span> <span class="n">y</span>

<span class="k">cpdef</span> <span class="kt">np</span>.<span class="kt">ndarray</span>[<span class="nf">double</span><span class="p">,</span> <span class="nf">ndim</span><span class="o">=</span><span class="mf">2</span><span class="p">]</span> <span class="n">backward_sub_solve</span><span class="p">(</span>
    <span class="n">np</span><span class="o">.</span><span class="n">ndarray</span><span class="p">[</span><span class="n">double</span><span class="p">,</span> <span class="n">ndim</span><span class="o">=</span><span class="mf">2</span><span class="p">]</span> <span class="n">U</span><span class="p">,</span>
    <span class="n">np</span><span class="o">.</span><span class="n">ndarray</span><span class="p">[</span><span class="n">double</span><span class="p">,</span> <span class="n">ndim</span><span class="o">=</span><span class="mf">1</span><span class="p">]</span> <span class="n">b</span><span class="p">):</span>
    <span class="sd">&#39;&#39;&#39; </span>
<span class="sd">    Solve, by backward substition, the system Ux = b, where</span>
<span class="sd">    U is an upper triangular matrix.</span>
<span class="sd">    </span>
<span class="sd">    Note that the code does not check whether U is upper</span>
<span class="sd">    triangular. Calling the function with an arbitrary</span>
<span class="sd">    square matrix will result in nonsense.</span>
<span class="sd">    &#39;&#39;&#39;</span>
    <span class="k">assert</span> <span class="n">U</span><span class="o">.</span><span class="n">shape</span><span class="p">[</span><span class="mf">1</span><span class="p">]</span> <span class="o">==</span> <span class="n">b</span><span class="o">.</span><span class="n">shape</span><span class="p">[</span><span class="mf">0</span><span class="p">],</span> \
        <span class="s">&#39;Matrix and vector are incompatible shapes.&#39;</span>
    <span class="k">assert</span> <span class="n">fabs</span><span class="p">(</span><span class="n">U</span><span class="p">[</span><span class="mf">0</span><span class="p">,</span> <span class="mf">0</span><span class="p">])</span> <span class="o">&gt;=</span> <span class="mf">10e-16</span><span class="p">,</span> \
        <span class="s">&#39;Zero element on diagonal.&#39;</span>
    
    <span class="c"># No. of variables to solve</span>
    <span class="k">cdef</span> <span class="kt">int</span> <span class="nf">n</span> <span class="o">=</span> <span class="n">b</span><span class="o">.</span><span class="n">shape</span><span class="p">[</span><span class="mf">0</span><span class="p">]</span>
    
    <span class="c"># Loop indices</span>
    <span class="k">cdef</span> <span class="kt">int</span> <span class="nf">i</span><span class="p">,</span> <span class="nf">k</span>
        
    <span class="c"># Initialize the solution vector</span>
    <span class="k">cdef</span> <span class="kt">np</span>.<span class="kt">ndarray</span>[<span class="nf">double</span><span class="p">,</span> <span class="nf">ndim</span><span class="o">=</span><span class="mf">1</span><span class="p">]</span> <span class="n">y</span> <span class="o">=</span> <span class="n">np</span><span class="o">.</span><span class="n">zeros</span><span class="p">(</span><span class="n">b</span><span class="o">.</span><span class="n">shape</span><span class="p">[</span><span class="mf">0</span><span class="p">])</span>
    <span class="n">y</span><span class="p">[</span><span class="n">n</span><span class="o">-</span><span class="mf">1</span><span class="p">]</span> <span class="o">=</span> <span class="n">b</span><span class="p">[</span><span class="n">n</span><span class="o">-</span><span class="mf">1</span><span class="p">]</span> <span class="o">/</span> <span class="n">U</span><span class="p">[</span><span class="n">n</span><span class="o">-</span><span class="mf">1</span><span class="p">,</span> <span class="n">n</span><span class="o">-</span><span class="mf">1</span><span class="p">]</span> 

    <span class="k">cdef</span> <span class="kt">double</span> <span class="nf">sum_term</span> <span class="o">=</span> <span class="mf">0.0</span>
    <span class="k">for</span> <span class="n">i</span> <span class="ow">in</span> <span class="nb">xrange</span><span class="p">(</span><span class="n">n</span><span class="o">-</span><span class="mf">2</span><span class="p">,</span> <span class="o">-</span><span class="mf">1</span><span class="p">,</span> <span class="o">-</span><span class="mf">1</span><span class="p">):</span>
        <span class="k">if</span> <span class="n">fabs</span><span class="p">(</span><span class="n">U</span><span class="p">[</span><span class="n">i</span><span class="p">,</span> <span class="n">i</span><span class="p">])</span> <span class="o">&lt;=</span> <span class="mf">10e-16</span><span class="p">:</span>
            <span class="k">raise</span> <span class="ne">ValueError</span><span class="p">(</span><span class="s">&#39;Zero element on diagonal.&#39;</span><span class="p">)</span>
        <span class="n">sum_term</span> <span class="o">=</span> <span class="mf">0.0</span>
        <span class="k">for</span> <span class="n">k</span> <span class="ow">in</span> <span class="nb">xrange</span><span class="p">(</span><span class="n">i</span><span class="o">+</span><span class="mf">1</span><span class="p">,</span> <span class="n">n</span><span class="p">):</span>
            <span class="n">sum_term</span> <span class="o">+=</span> <span class="n">U</span><span class="p">[</span><span class="n">i</span><span class="p">,</span> <span class="n">k</span><span class="p">]</span> <span class="o">*</span> <span class="n">y</span><span class="p">[</span><span class="n">k</span><span class="p">]</span>
        <span class="n">y</span><span class="p">[</span><span class="n">i</span><span class="p">]</span> <span class="o">=</span> <span class="p">(</span><span class="n">b</span><span class="p">[</span><span class="n">i</span><span class="p">]</span> <span class="o">-</span> <span class="n">sum_term</span><span class="p">)</span> <span class="o">/</span> <span class="n">U</span><span class="p">[</span><span class="n">i</span><span class="p">,</span><span class="n">i</span><span class="p">]</span>
    
    <span class="k">return</span> <span class="n">y</span>
</pre></div>

</div>
</div>
</div>

</div>
<div class="cell border-box-sizing text_cell rendered">
<div class="prompt input_prompt">
</div>
<div class="inner_cell">
<div class="text_cell_render border-box-sizing rendered_html">
<p>The functions give identical results to numpy's <code>solve</code> function on some sample triangular matrices.</p>

</div>
</div>
</div>
<div class="cell border-box-sizing code_cell rendered">
<div class="input">
<div class="prompt input_prompt">In&nbsp;[63]:</div>
<div class="inner_cell">
    <div class="input_area">
<div class=" highlight hl-ipython3"><pre><span></span><span class="c1"># L is 3x3 lower-triangular</span>
<span class="n">L</span> <span class="o">=</span> <span class="n">np</span><span class="o">.</span><span class="n">array</span><span class="p">([[</span>  <span class="mi">2</span><span class="p">,</span>  <span class="mi">0</span><span class="p">,</span> <span class="mi">0</span><span class="p">],</span>
             <span class="p">[</span><span class="mf">1.5</span><span class="p">,</span>  <span class="o">-</span><span class="mi">3</span><span class="p">,</span> <span class="mi">0</span><span class="p">],</span>
             <span class="p">[</span> <span class="o">-</span><span class="mi">5</span><span class="p">,</span> <span class="mf">0.5</span><span class="p">,</span> <span class="mi">4</span><span class="p">]])</span>

<span class="c1"># U is 3x3 upper-triangular</span>
<span class="n">U</span> <span class="o">=</span> <span class="n">np</span><span class="o">.</span><span class="n">array</span><span class="p">([[</span> <span class="o">-</span><span class="mi">1</span><span class="p">,</span>    <span class="mi">3</span><span class="p">,</span>  <span class="o">-</span><span class="mi">5</span><span class="p">],</span>
              <span class="p">[</span>  <span class="mi">0</span><span class="p">,</span> <span class="o">-</span><span class="mf">0.5</span><span class="p">,</span>   <span class="mi">2</span><span class="p">],</span>
              <span class="p">[</span>  <span class="mi">0</span><span class="p">,</span>    <span class="mi">0</span><span class="p">,</span> <span class="mf">1.5</span><span class="p">]])</span>

<span class="n">b</span> <span class="o">=</span> <span class="n">np</span><span class="o">.</span><span class="n">array</span><span class="p">([</span><span class="o">-</span><span class="mf">1.</span><span class="p">,</span> <span class="mf">5.</span><span class="p">,</span> <span class="mf">3.</span><span class="p">])</span>

<span class="nb">print</span> <span class="s1">&#39;Cython (forward):&#39;</span><span class="p">,</span> <span class="n">forward_sub_solve</span><span class="p">(</span><span class="n">L</span><span class="p">,</span> <span class="n">b</span><span class="p">)</span>
<span class="nb">print</span> <span class="s1">&#39;Numpy (forward): &#39;</span><span class="p">,</span> <span class="n">np</span><span class="o">.</span><span class="n">linalg</span><span class="o">.</span><span class="n">solve</span><span class="p">(</span><span class="n">L</span><span class="p">,</span> <span class="n">b</span><span class="p">)</span>

<span class="nb">print</span> <span class="s1">&#39;Cython (backward):&#39;</span><span class="p">,</span> <span class="n">backward_sub_solve</span><span class="p">(</span><span class="n">U</span><span class="p">,</span> <span class="n">b</span><span class="p">)</span>
<span class="nb">print</span> <span class="s1">&#39;Numpy (backward): &#39;</span><span class="p">,</span> <span class="n">np</span><span class="o">.</span><span class="n">linalg</span><span class="o">.</span><span class="n">solve</span><span class="p">(</span><span class="n">U</span><span class="p">,</span> <span class="n">b</span><span class="p">)</span>
</pre></div>

</div>
</div>
</div>

<div class="output_wrapper">
<div class="output">


<div class="output_area">
<div class="prompt"></div>

<div class="output_subarea output_stream output_stdout output_text">
<pre>Cython (forward): [-0.5        -1.91666667  0.36458333]
Numpy (forward):  [-0.5        -1.91666667  0.36458333]
Cython (backward): [-15.  -2.   2.]
Numpy (backward):  [-15.  -2.   2.]
</pre>
</div>
</div>

</div>
</div>

</div>
<div class="cell border-box-sizing text_cell rendered">
<div class="prompt input_prompt">
</div>
<div class="inner_cell">
<div class="text_cell_render border-box-sizing rendered_html">
<p>Forward and backward substitution are quite fast. Here they're compared to numpy's <code>solve</code> function, which isn't quite fair, since the latter is more general. But it gives us a frame of reference.</p>

</div>
</div>
</div>
<div class="cell border-box-sizing code_cell rendered">
<div class="input">
<div class="prompt input_prompt">In&nbsp;[64]:</div>
<div class="inner_cell">
    <div class="input_area">
<div class=" highlight hl-ipython3"><pre><span></span><span class="nb">print</span> <span class="s1">&#39;Numpy solve:&#39;</span>
<span class="o">%</span><span class="k">timeit</span> np.linalg.solve(L, b)
<span class="nb">print</span> <span class="s1">&#39;Cython forward substitution&#39;</span>
<span class="o">%</span><span class="k">timeit</span> forward_sub_solve(L, b)
<span class="nb">print</span> <span class="s1">&#39;Numpy solve:&#39;</span>
<span class="o">%</span><span class="k">timeit</span> np.linalg.solve(U, b)
<span class="nb">print</span> <span class="s1">&#39;Cython backwards substitution&#39;</span>
<span class="o">%</span><span class="k">timeit</span> backward_sub_solve(U, b)
</pre></div>

</div>
</div>
</div>

<div class="output_wrapper">
<div class="output">


<div class="output_area">
<div class="prompt"></div>

<div class="output_subarea output_stream output_stdout output_text">
<pre>Numpy solve:
10000 loops, best of 3: 26.2 µs per loop
Cython forward substitution
100000 loops, best of 3: 4.32 µs per loop
Numpy solve:
10000 loops, best of 3: 26.2 µs per loop
Cython backwards substitution
100000 loops, best of 3: 4.69 µs per loop
</pre>
</div>
</div>

</div>
</div>

</div>
<div class="cell border-box-sizing text_cell rendered">
<div class="prompt input_prompt">
</div>
<div class="inner_cell">
<div class="text_cell_render border-box-sizing rendered_html">
<p>Let's also time the function on a large, $1000\times 1000$ matrix, to make sure its performance scales.</p>

</div>
</div>
</div>
<div class="cell border-box-sizing code_cell rendered">
<div class="input">
<div class="prompt input_prompt">In&nbsp;[66]:</div>
<div class="inner_cell">
    <div class="input_area">
<div class=" highlight hl-ipython3"><pre><span></span><span class="n">L</span> <span class="o">=</span> <span class="n">np</span><span class="o">.</span><span class="n">random</span><span class="o">.</span><span class="n">randn</span><span class="p">(</span><span class="mf">1e6</span><span class="p">)</span><span class="o">.</span><span class="n">reshape</span><span class="p">((</span><span class="mf">1e3</span><span class="p">,</span><span class="mf">1e3</span><span class="p">))</span>
<span class="n">cond</span> <span class="o">=</span> <span class="n">np</span><span class="o">.</span><span class="n">subtract</span><span class="o">.</span><span class="n">outer</span><span class="p">(</span><span class="n">np</span><span class="o">.</span><span class="n">arange</span><span class="p">(</span><span class="mf">1e3</span><span class="p">),</span> <span class="n">np</span><span class="o">.</span><span class="n">arange</span><span class="p">(</span><span class="mf">1e3</span><span class="p">))</span>
<span class="n">L</span><span class="p">[</span><span class="n">cond</span> <span class="o">&lt;</span> <span class="mi">0</span><span class="p">]</span> <span class="o">=</span> <span class="mf">0.</span>
<span class="n">b</span> <span class="o">=</span> <span class="n">np</span><span class="o">.</span><span class="n">random</span><span class="o">.</span><span class="n">randn</span><span class="p">(</span><span class="mf">1e3</span><span class="p">)</span>

<span class="o">%</span><span class="k">timeit</span> forward_sub_solve(L, b)
</pre></div>

</div>
</div>
</div>

<div class="output_wrapper">
<div class="output">


<div class="output_area">
<div class="prompt"></div>

<div class="output_subarea output_stream output_stdout output_text">
<pre>1000 loops, best of 3: 452 µs per loop
</pre>
</div>
</div>

</div>
</div>

</div>
<div class="cell border-box-sizing text_cell rendered">
<div class="prompt input_prompt">
</div>
<div class="inner_cell">
<div class="text_cell_render border-box-sizing rendered_html">
<hr>

</div>
</div>
</div>
<div class="cell border-box-sizing text_cell rendered">
<div class="prompt input_prompt">
</div>
<div class="inner_cell">
<div class="text_cell_render border-box-sizing rendered_html">
<h2 id="The-LU(P)-decomposition">The LU(P) decomposition<a class="anchor-link" href="#The-LU(P)-decomposition">&#182;</a></h2>
</div>
</div>
</div>
<div class="cell border-box-sizing text_cell rendered">
<div class="prompt input_prompt">
</div>
<div class="inner_cell">
<div class="text_cell_render border-box-sizing rendered_html">
<p>We&#8217;ve established that triangular systems are easy to solve and can be implemented in fast code. This is fortunate, becuase it turns out that any square matrix can be represented as the product of a lower and an upper triangular matrix. That is,</p>
$$
A = LU\,.
$$<p>This representation is called the <span class='hiterm'>LU decomposition</span> of $A$. Using this decomposition, the linear system $Ax = b$ can be represented as</p>
$$
\begin{align}
Ax &= b\\\
LUx &= b\\\
Ly  &= b\,,
\end{align}
$$<p class='hangpar'>where $y \equiv Ux$. We can easily solve for $y$ using forward substitution. Having done that, we have</p>$$
Ux = y\,,
$$<p class='hangpar'>and we can now solve for $x$ by forward substituion.</p><p>The algorithm&#8212;actually there is more than one&#8212;to find $L$ and $U$ is not complicated. It's easiest to see working through an example. Consider the $3\times 3$ matrix
$$
A = 
\begin{pmatrix}
2 & -1 & 4 \\\
-1 & 3 & \frac{1}{2} \\\
5 & -9 & 11
\end{pmatrix}\,.
$$</p>
<p>We initialize $U = A$, and $L = I$. Then we proceed to set the sub-diagonal element of U to zero using <span class='hiterm'>gaussian elimination</span>. In the first step, we'll remove the sub-diagonal entries in the first column of $U$. There is a separate elimination for each row. To eliminate $u_{10}$ we multiply each entry in the first row by $\frac{u_{10}}{u_{00}} = -\frac{1}{2}$ and substract it from the second row. That is $u_{1j} \rightarrow u_{1j} + \frac{1}{2} u_{0j}$ for $j = 0,\ldots,2$.</p>
<p>To eliminate $u_{20}$ we similarly substract the first rows times $\frac{u_{20}}{u_{00}} = \frac{5}{2}$ from the third row.</p>
<p>We represent these elimination steps in $L$ by setting $l_{10}$ to $-\frac{1}{2}$ and $l_{20}$ to $\frac{5}{2}$.</p>
<p>This step leaves us with</p>
$$
L = \begin{pmatrix}
1 & 0 & 0 \\\
-\frac{1}{2} & 1 & 0 \\\
\frac{5}{2} & 0 & 1 
\end{pmatrix}
$$<p>and</p>
$$
U =
\begin{pmatrix}
2 & -1 & 4 \\\
0 & \frac{5}{2} & \frac{5}{2} \\\
0 & -\frac{13}{2} & 1\end{pmatrix}\,.
$$<p>The next step repeats the first, but for the second column of $U$. Here we only need to eliminate one sub-diagonal entry, $u_{21}$. We can do this by subtracting the second row times $\frac{u_{21}}{u_{11}} = -\frac{13}{5}$. Like before, we set $l_{21}$ to $-\frac{13}{5}$ to represent the elimination. We now have</p>
$$
L = \begin{pmatrix}
1 & 0 & 0 \\\
-\frac{1}{2} & 1 & 0 \\\
\frac{5}{2} & -\frac{13}{5} & 1 
\end{pmatrix}
$$<p>and
$$
U =
\begin{pmatrix}
2 & -1 & 4 \\\
0 & \frac{5}{2} & \frac{5}{2} \\\
0 & 0 & \frac{15}{2} 
\end{pmatrix}\,.
$$</p>
<p>This completes the process since $U$ is now upper triangular and $L$ is lower triangular.</p>
<p>Let&#8217;s test that our calculations are correct. If we did everything correctly, we should recover $A$ from $LU$.</p>

</div>
</div>
</div>
<div class="cell border-box-sizing code_cell rendered">
<div class="input">
<div class="prompt input_prompt">In&nbsp;[53]:</div>
<div class="inner_cell">
    <div class="input_area">
<div class=" highlight hl-ipython3"><pre><span></span><span class="n">A</span> <span class="o">=</span> <span class="n">np</span><span class="o">.</span><span class="n">array</span><span class="p">([[</span><span class="mf">2.</span><span class="p">,</span>  <span class="o">-</span><span class="mf">1.</span><span class="p">,</span> <span class="mf">4.</span><span class="p">],</span>
              <span class="p">[</span><span class="o">-</span><span class="mf">1.</span><span class="p">,</span>  <span class="mf">3.</span><span class="p">,</span> <span class="mf">0.5</span><span class="p">],</span>
              <span class="p">[</span> <span class="mf">5.</span><span class="p">,</span> <span class="o">-</span><span class="mf">9.</span><span class="p">,</span> <span class="mf">11.</span><span class="p">]])</span>

<span class="n">L</span> <span class="o">=</span> <span class="n">np</span><span class="o">.</span><span class="n">array</span><span class="p">([[</span><span class="mi">1</span><span class="p">,</span> <span class="mi">0</span><span class="p">,</span> <span class="mi">0</span><span class="p">],</span>
              <span class="p">[</span><span class="o">-</span><span class="mf">1.</span><span class="o">/</span><span class="mi">2</span><span class="p">,</span> <span class="mi">1</span><span class="p">,</span> <span class="mi">0</span><span class="p">],</span>
              <span class="p">[</span><span class="mi">5</span><span class="o">/</span><span class="mf">2.</span><span class="p">,</span> <span class="o">-</span><span class="mf">13.</span><span class="o">/</span><span class="mi">5</span><span class="p">,</span> <span class="mi">1</span><span class="p">]])</span>

<span class="n">U</span> <span class="o">=</span> <span class="n">np</span><span class="o">.</span><span class="n">array</span><span class="p">([[</span><span class="mi">2</span><span class="p">,</span> <span class="o">-</span><span class="mi">1</span><span class="p">,</span> <span class="mi">4</span><span class="p">],</span>
              <span class="p">[</span><span class="mi">0</span><span class="p">,</span> <span class="mf">5.</span><span class="o">/</span><span class="mi">2</span><span class="p">,</span> <span class="mf">5.</span><span class="o">/</span><span class="mi">2</span><span class="p">],</span>
              <span class="p">[</span><span class="mi">0</span><span class="p">,</span> <span class="mi">0</span><span class="p">,</span> <span class="mf">15.</span><span class="o">/</span><span class="mi">2</span><span class="p">]])</span>

<span class="k">if</span> <span class="n">np</span><span class="o">.</span><span class="n">all</span><span class="p">(</span><span class="n">np</span><span class="o">.</span><span class="n">abs</span><span class="p">(</span><span class="n">matprod</span><span class="p">(</span><span class="n">L</span><span class="p">,</span> <span class="n">U</span><span class="p">)</span> <span class="o">-</span> <span class="n">A</span><span class="p">)</span> <span class="o">&lt;</span> <span class="mf">10e-14</span><span class="p">):</span>
    <span class="nb">print</span> <span class="s1">&#39;A = LU, OK!&#39;</span>
<span class="k">else</span><span class="p">:</span>
    <span class="nb">print</span> <span class="s1">&#39;A != LU, Not OK!&#39;</span>
</pre></div>

</div>
</div>
</div>

<div class="output_wrapper">
<div class="output">


<div class="output_area">
<div class="prompt"></div>

<div class="output_subarea output_stream output_stdout output_text">
<pre>A = LU, OK!
</pre>
</div>
</div>

</div>
</div>

</div>
<div class="cell border-box-sizing text_cell rendered">
<div class="prompt input_prompt">
</div>
<div class="inner_cell">
<div class="text_cell_render border-box-sizing rendered_html">
<h3 id="The-LU-decompositon-with-pivoting">The LU decompositon with pivoting<a class="anchor-link" href="#The-LU-decompositon-with-pivoting">&#182;</a></h3>
</div>
</div>
</div>
<div class="cell border-box-sizing text_cell rendered">
<div class="prompt input_prompt">
</div>
<div class="inner_cell">
<div class="text_cell_render border-box-sizing rendered_html">
<p>In practice, the LU decomposition algorithm outlined above can sometimes be numerically unstable. At each step, $k$, of the algorithm, we calculate $\frac{u_{ik}}{u_{kk}}$ for $i > k$. If any of the diagonals, $u_{kk}$ (called the <span class='hiterm'>pivots</span> are near zero, this calculation can overflow.</p>
<p>To avoid this, an extra step, called <span class='hiterm'>pivoting</span> is added to the algorithm. At each step $k$, before performing the gaussian elimination, we swap the rows of $U$ to get the largest possible magnitude for $u_{kk}$. This helps avoid the overflow problem.</p>
<p>In the example above, we start with</p>
$$
U = 
\begin{pmatrix}
2 & -1 & 4 \\\
-1 & 3 & \frac{1}{2} \\\
5 & -9 & 11
\end{pmatrix}\,.
$$<p>Here, we would first switch the first row with the third row, since $5 > 2$. So</p>
$$
U = 
\begin{pmatrix}
5 & -9 & 11 \\\
-1 & 3 & \frac{1}{2} \\\
2 & -1 & 4
\end{pmatrix}\,.
$$<p>The gaussian elimination of the first column would then give us</p>
$$
L = 
\begin{pmatrix}
1 & 0 & 0 \\\
-\frac{1}{5} & 1 & 0 \\\
\frac{2}{5} & 0 & 1
\end{pmatrix}
$$<p>and</p>
$$
U = 
\begin{pmatrix}
5 & -9 & 11 \\\
0 & \frac{6}{5} & \frac{27}{10} \\\
0 & \frac{13}{5} & -\frac{2}{5}
\end{pmatrix}\,.
$$<p>We would also represent the row swap by adding a <span class='hiterm'>permutation matrix</span>, $P$, where</p>
$$
P = 
\begin{pmatrix}
0 & 0 & 1 \\\
0 & 1 & 0 \\\
1 & 0 & 0
\end{pmatrix}\,.
$$<p>When this permuation matrix is multiplied by the original $U$, it swaps $U\,$'s rows in the desired way.</p>
<p>In the second step, we&#8217;ll have to swap the second and third rows, since $\frac{13}{5} > \frac{6}{5}$. We record this permutation in two ways: first by swapping the second and third rows in $P$; second by swapping the second and third rows of the <em>first column</em> of $L$. So we have</p>
$$
P = 
\begin{pmatrix}
0 & 0 & 1 \\\
1 & 0 & 0 \\\
0 & 1 & 0
\end{pmatrix}\,.
$$<p>and</p>
$$
L = 
\begin{pmatrix}
1 & 0 & 0 \\\
\frac{2}{5} & 1 & 0 \\\
-\frac{1}{5} & \frac{6}{13} & 1
\end{pmatrix}\,.
$$<p>Performing the gaussian elimination step on (the swapped-row) $U$ gives us</p>
$$
U = 
\begin{pmatrix}
5 & -9 & 11 \\\
0 & \frac{13}{5} & -\frac{2}{5}\\\
0 & 0 & \frac{75}{26} 
\end{pmatrix}\,.
$$<p>With $U$ upper triangular and $L$ lower triangular, the process is complete. But with the pivoting, we no longer have the decomposition  $A = LU$, but instead $PA = LU$. The addition of the permutation adds only a trivial step to solving the system $Ax = b$ using decomposition, and protects us from potential numerical problems.</p>
<p>As before, we&#8217;ll check our calculations to make sure the $L$, $U$, and $P$ matrices we calculated satisfy $PA = LU$.</p>

</div>
</div>
</div>
<div class="cell border-box-sizing code_cell rendered">
<div class="input">
<div class="prompt input_prompt">In&nbsp;[52]:</div>
<div class="inner_cell">
    <div class="input_area">
<div class=" highlight hl-ipython3"><pre><span></span><span class="n">A</span> <span class="o">=</span> <span class="n">np</span><span class="o">.</span><span class="n">array</span><span class="p">([[</span><span class="mf">2.</span><span class="p">,</span>  <span class="o">-</span><span class="mf">1.</span><span class="p">,</span> <span class="mf">4.</span><span class="p">],</span>
              <span class="p">[</span><span class="o">-</span><span class="mf">1.</span><span class="p">,</span>  <span class="mf">3.</span><span class="p">,</span> <span class="mf">0.5</span><span class="p">],</span>
              <span class="p">[</span> <span class="mf">5.</span><span class="p">,</span> <span class="o">-</span><span class="mf">9.</span><span class="p">,</span> <span class="mf">11.</span><span class="p">]])</span>

<span class="n">L</span> <span class="o">=</span> <span class="n">np</span><span class="o">.</span><span class="n">array</span><span class="p">([[</span><span class="mi">1</span><span class="p">,</span>         <span class="mi">0</span><span class="p">,</span> <span class="mi">0</span><span class="p">],</span>
              <span class="p">[</span><span class="mf">2.</span><span class="o">/</span><span class="mi">5</span><span class="p">,</span>      <span class="mi">1</span><span class="p">,</span> <span class="mi">0</span><span class="p">],</span>
              <span class="p">[</span><span class="o">-</span><span class="mi">1</span><span class="o">/</span><span class="mf">5.</span><span class="p">,</span> <span class="mf">6.</span><span class="o">/</span><span class="mi">13</span><span class="p">,</span> <span class="mi">1</span><span class="p">]])</span>

<span class="n">U</span> <span class="o">=</span> <span class="n">np</span><span class="o">.</span><span class="n">array</span><span class="p">([[</span><span class="mi">5</span><span class="p">,</span>   <span class="o">-</span><span class="mi">9</span><span class="p">,</span>       <span class="mi">11</span><span class="p">],</span>
              <span class="p">[</span><span class="mi">0</span><span class="p">,</span> <span class="mf">13.</span><span class="o">/</span><span class="mi">5</span><span class="p">,</span>   <span class="o">-</span><span class="mf">2.</span><span class="o">/</span><span class="mi">5</span><span class="p">],</span>
              <span class="p">[</span><span class="mi">0</span><span class="p">,</span>     <span class="mi">0</span><span class="p">,</span> <span class="mf">75.</span><span class="o">/</span><span class="mi">26</span><span class="p">]])</span>

<span class="n">P</span> <span class="o">=</span> <span class="n">np</span><span class="o">.</span><span class="n">array</span><span class="p">([[</span><span class="mf">0.</span><span class="p">,</span> <span class="mf">0.</span><span class="p">,</span> <span class="mf">1.</span><span class="p">],</span> 
              <span class="p">[</span><span class="mf">1.</span><span class="p">,</span> <span class="mf">0.</span><span class="p">,</span> <span class="mf">0.</span><span class="p">],</span> 
              <span class="p">[</span><span class="mf">0.</span><span class="p">,</span> <span class="mf">1.</span><span class="p">,</span> <span class="mf">0.</span><span class="p">]])</span>

<span class="k">if</span> <span class="n">np</span><span class="o">.</span><span class="n">all</span><span class="p">(</span><span class="n">np</span><span class="o">.</span><span class="n">abs</span><span class="p">(</span><span class="n">matprod</span><span class="p">(</span><span class="n">L</span><span class="p">,</span><span class="n">U</span><span class="p">)</span> <span class="o">-</span> <span class="n">matprod</span><span class="p">(</span><span class="n">P</span><span class="p">,</span> <span class="n">A</span><span class="p">))</span> <span class="o">&lt;</span> <span class="mf">10e-14</span><span class="p">):</span>
    <span class="nb">print</span> <span class="s1">&#39;LU = PA, OK!&#39;</span>
<span class="k">else</span><span class="p">:</span>
    <span class="nb">print</span> <span class="s1">&#39;LU != PA, Not OK!&#39;</span>
</pre></div>

</div>
</div>
</div>

<div class="output_wrapper">
<div class="output">


<div class="output_area">
<div class="prompt"></div>

<div class="output_subarea output_stream output_stdout output_text">
<pre>LU = PA, OK!
</pre>
</div>
</div>

</div>
</div>

</div>
<div class="cell border-box-sizing text_cell rendered">
<div class="prompt input_prompt">
</div>
<div class="inner_cell">
<div class="text_cell_render border-box-sizing rendered_html">
<hr>

</div>
</div>
</div>
<div class="cell border-box-sizing text_cell rendered">
<div class="prompt input_prompt">
</div>
<div class="inner_cell">
<div class="text_cell_render border-box-sizing rendered_html">
<h5 id="Exercise:-The-LUP-algorithm">Exercise: The LUP algorithm<a class="anchor-link" href="#Exercise:-The-LUP-algorithm">&#182;</a></h5>
</div>
</div>
</div>
<div class="cell border-box-sizing text_cell rendered">
<div class="prompt input_prompt">
</div>
<div class="inner_cell">
<div class="text_cell_render border-box-sizing rendered_html">
<p>Generalizing from the example above, the code below performs LUP decomposition for an arbitrary square matrix. There are several points to note.</p>
<ol>
<li>To keep the code clear, the pivoting step is assigned to helper functions called within the main function. </li>
<li>The function also keeps track of the number of row swaps performed. This information will come in handy later.</li>
<li>Since we&#8217;re working with MemoryViews in this function, they are coerced back to arrays in the <code>return</code>. Otherwise the function would return MemoryView objects in the result tuple.</li>
</ol>

</div>
</div>
</div>
<div class="cell border-box-sizing code_cell rendered">
<div class="input">
<div class="prompt input_prompt">In&nbsp;[85]:</div>
<div class="inner_cell">
    <div class="input_area">
<div class=" highlight hl-ipython3"><pre><span></span><span class="o">%%</span><span class="n">cython</span> <span class="o">-</span><span class="n">lm</span>
<span class="k">import</span> <span class="nn">cython</span>
<span class="k">import</span> <span class="nn">numpy</span> <span class="k">as</span> <span class="nn">np</span>
<span class="k">cimport</span> <span class="nn">numpy</span> <span class="k">as</span> <span class="nn">np</span>
<span class="k">from</span> <span class="nn">libc.math</span> <span class="k">cimport</span> <span class="nb">pow</span>

<span class="nd">@cython</span><span class="o">.</span><span class="n">boundscheck</span><span class="p">(</span><span class="bp">False</span><span class="p">)</span>
<span class="nd">@cython</span><span class="o">.</span><span class="n">wraparound</span><span class="p">(</span><span class="bp">False</span><span class="p">)</span>
<span class="nd">@cython</span><span class="o">.</span><span class="n">cdivision</span><span class="p">(</span><span class="bp">True</span><span class="p">)</span>
<span class="k">cpdef</span> <span class="nf">lup_decomp</span><span class="p">(</span><span class="n">double</span><span class="p">[:,</span> <span class="p">::</span><span class="mf">1</span><span class="p">]</span> <span class="n">A</span><span class="p">):</span>
    <span class="sd">&#39;&#39;&#39;</span>
<span class="sd">    Perform the LUP decomposition of A:</span>
<span class="sd">        PA = LU</span>
<span class="sd">    </span>
<span class="sd">    Returns a tuple, (L, U, P, nswaps), where</span>
<span class="sd">    nswaps is the number of permutations made </span>
<span class="sd">    while performing the decomposition.</span>
<span class="sd">    &#39;&#39;&#39;</span>
    
    <span class="k">assert</span> <span class="n">A</span><span class="o">.</span><span class="n">shape</span><span class="p">[</span><span class="mf">0</span><span class="p">]</span> <span class="o">==</span> <span class="n">A</span><span class="o">.</span><span class="n">shape</span><span class="p">[</span><span class="mf">1</span><span class="p">],</span> <span class="s">&#39;Not a square matrix.&#39;</span>
    
    <span class="k">cdef</span><span class="p">:</span>
        <span class="nb">int</span> <span class="n">n</span> <span class="o">=</span> <span class="n">A</span><span class="o">.</span><span class="n">shape</span><span class="p">[</span><span class="mf">0</span><span class="p">]</span>
        <span class="nb">int</span> <span class="n">i_piv</span><span class="p">,</span> <span class="n">k</span><span class="p">,</span> <span class="n">j</span><span class="p">,</span> <span class="n">h</span>
        <span class="nb">int</span> <span class="n">nswaps</span> <span class="o">=</span> <span class="mf">0</span>
        <span class="n">double</span><span class="p">[:,</span> <span class="p">::</span><span class="mf">1</span><span class="p">]</span> <span class="n">U</span> <span class="o">=</span> <span class="n">A</span><span class="o">.</span><span class="n">copy</span><span class="p">()</span>
        <span class="n">double</span><span class="p">[:,</span> <span class="p">::</span><span class="mf">1</span><span class="p">]</span> <span class="n">P</span> <span class="o">=</span> <span class="n">np</span><span class="o">.</span><span class="n">eye</span><span class="p">(</span><span class="n">n</span><span class="p">)</span>
        <span class="n">double</span><span class="p">[:,</span> <span class="p">::</span><span class="mf">1</span><span class="p">]</span> <span class="n">L</span> <span class="o">=</span> <span class="n">np</span><span class="o">.</span><span class="n">eye</span><span class="p">(</span><span class="n">n</span><span class="p">)</span>
        
    <span class="k">for</span> <span class="n">k</span> <span class="ow">in</span> <span class="nb">xrange</span><span class="p">(</span><span class="n">n</span><span class="o">-</span><span class="mf">1</span><span class="p">):</span>
        <span class="c"># Find the pivot row and permute matrices</span>
        <span class="n">i_piv</span> <span class="o">=</span> <span class="n">get_pivot</span><span class="p">(</span><span class="n">U</span><span class="p">,</span> <span class="n">k</span><span class="p">)</span>
        <span class="k">if</span> <span class="n">i_piv</span> <span class="o">!=</span> <span class="n">k</span><span class="p">:</span>
            <span class="n">nswaps</span> <span class="o">+=</span> <span class="mf">1</span>
            <span class="n">swap_rows</span><span class="p">(</span><span class="n">U</span><span class="p">,</span> <span class="n">k</span><span class="p">,</span> <span class="n">i_piv</span><span class="p">,</span> <span class="n">k</span><span class="p">,</span> <span class="n">n</span><span class="p">)</span>
            <span class="n">swap_rows</span><span class="p">(</span><span class="n">P</span><span class="p">,</span> <span class="n">k</span><span class="p">,</span> <span class="n">i_piv</span><span class="p">,</span> <span class="mf">0</span><span class="p">,</span> <span class="n">n</span><span class="p">)</span> 
            <span class="k">if</span> <span class="n">k</span> <span class="o">&gt;</span> <span class="mf">0</span><span class="p">:</span>
                <span class="n">swap_rows</span><span class="p">(</span><span class="n">L</span><span class="p">,</span> <span class="n">k</span><span class="p">,</span> <span class="n">i_piv</span><span class="p">,</span> <span class="mf">0</span><span class="p">,</span> <span class="n">k</span><span class="p">)</span>
           
        <span class="c"># Gaussian eliminate sub-diagonal elements of U.</span>
        <span class="k">for</span> <span class="n">j</span> <span class="ow">in</span> <span class="nb">xrange</span><span class="p">(</span><span class="n">k</span><span class="o">+</span><span class="mf">1</span><span class="p">,</span> <span class="n">n</span><span class="p">):</span>
            <span class="n">L</span><span class="p">[</span><span class="n">j</span><span class="p">,</span> <span class="n">k</span><span class="p">]</span> <span class="o">=</span> <span class="n">U</span><span class="p">[</span><span class="n">j</span><span class="p">,</span> <span class="n">k</span><span class="p">]</span> <span class="o">/</span> <span class="n">U</span><span class="p">[</span><span class="n">k</span><span class="p">,</span> <span class="n">k</span><span class="p">]</span>
            <span class="k">for</span> <span class="n">h</span> <span class="ow">in</span> <span class="nb">xrange</span><span class="p">(</span><span class="n">k</span><span class="p">,</span> <span class="n">n</span><span class="p">):</span>
                <span class="n">U</span><span class="p">[</span><span class="n">j</span><span class="p">,</span> <span class="n">h</span><span class="p">]</span> <span class="o">-=</span>  <span class="n">U</span><span class="p">[</span><span class="n">k</span><span class="p">,</span> <span class="n">h</span><span class="p">]</span>  <span class="o">*</span> <span class="n">L</span><span class="p">[</span><span class="n">j</span><span class="p">,</span> <span class="n">k</span><span class="p">]</span>              
                
    <span class="k">return</span> <span class="p">(</span><span class="n">np</span><span class="o">.</span><span class="n">asarray</span><span class="p">(</span><span class="n">L</span><span class="p">),</span> <span class="n">np</span><span class="o">.</span><span class="n">asarray</span><span class="p">(</span><span class="n">U</span><span class="p">),</span> <span class="n">np</span><span class="o">.</span><span class="n">asarray</span><span class="p">(</span><span class="n">P</span><span class="p">),</span> <span class="n">nswaps</span><span class="p">)</span>
    
<span class="nd">@cython</span><span class="o">.</span><span class="n">boundscheck</span><span class="p">(</span><span class="bp">False</span><span class="p">)</span>
<span class="nd">@cython</span><span class="o">.</span><span class="n">wraparound</span><span class="p">(</span><span class="bp">False</span><span class="p">)</span>   
<span class="k">cdef</span> <span class="kt">int</span> <span class="nf">get_pivot</span><span class="p">(</span><span class="n">double</span><span class="p">[:,</span> <span class="p">::</span><span class="mf">1</span><span class="p">]</span> <span class="n">U</span><span class="p">,</span> <span class="nb">int</span> <span class="n">k</span><span class="p">):</span>
    <span class="sd">&#39;&#39;&#39;</span>
<span class="sd">    Find the pivot row of column k in a matrix.</span>
<span class="sd">    The pivot row is the row i (&gt;= k) of U for which </span>
<span class="sd">    abs(U[i, k]) is largest.</span>
<span class="sd">    &#39;&#39;&#39;</span>
    <span class="k">cdef</span><span class="p">:</span>
        <span class="nb">int</span> <span class="n">j</span>
        <span class="nb">int</span> <span class="n">n</span> <span class="o">=</span> <span class="n">U</span><span class="o">.</span><span class="n">shape</span><span class="p">[</span><span class="mf">0</span><span class="p">]</span>
        <span class="nb">int</span> <span class="n">i_piv</span> <span class="o">=</span> <span class="n">k</span>

    <span class="k">for</span> <span class="n">j</span> <span class="ow">in</span> <span class="nb">xrange</span><span class="p">(</span><span class="n">k</span> <span class="o">+</span> <span class="mf">1</span><span class="p">,</span> <span class="n">n</span><span class="p">):</span>
        <span class="k">if</span> <span class="nb">abs</span><span class="p">(</span><span class="n">U</span><span class="p">[</span><span class="n">j</span><span class="p">,</span> <span class="n">k</span><span class="p">])</span> <span class="o">&gt;</span> <span class="nb">abs</span><span class="p">(</span><span class="n">U</span><span class="p">[</span><span class="n">i_piv</span><span class="p">,</span> <span class="n">k</span><span class="p">]):</span>
            <span class="n">i_piv</span> <span class="o">=</span> <span class="n">j</span>
    <span class="k">return</span> <span class="n">i_piv</span>

<span class="nd">@cython</span><span class="o">.</span><span class="n">boundscheck</span><span class="p">(</span><span class="bp">False</span><span class="p">)</span>
<span class="nd">@cython</span><span class="o">.</span><span class="n">wraparound</span><span class="p">(</span><span class="bp">False</span><span class="p">)</span>           
<span class="k">cdef</span> <span class="kt">void</span> <span class="nf">swap_rows</span><span class="p">(</span><span class="n">double</span><span class="p">[:,</span> <span class="p">::</span><span class="mf">1</span><span class="p">]</span> <span class="n">M</span><span class="p">,</span> <span class="nb">int</span> <span class="n">row1</span><span class="p">,</span> <span class="nb">int</span> <span class="n">row2</span><span class="p">,</span> <span class="nb">int</span> <span class="n">col_start</span><span class="p">,</span> <span class="nb">int</span> <span class="n">col_end</span><span class="p">):</span>
    <span class="sd">&#39;&#39;&#39;</span>
<span class="sd">    A helper function to swap segments of rows in a matrix.</span>

<span class="sd">    M[row1, col_start:col_end] &lt;-&gt; M[row2, col_start:col_end]</span>
<span class="sd">    &#39;&#39;&#39;</span>    
    <span class="k">cdef</span><span class="p">:</span>
        <span class="n">double</span><span class="p">[::</span><span class="mf">1</span><span class="p">]</span> <span class="n">first</span> <span class="o">=</span> <span class="n">M</span><span class="p">[</span><span class="n">row1</span><span class="p">,</span> <span class="n">col_start</span><span class="p">:</span><span class="n">col_end</span><span class="p">]</span><span class="o">.</span><span class="n">copy</span><span class="p">()</span>
    
    <span class="n">M</span><span class="p">[</span><span class="n">row1</span><span class="p">,</span> <span class="n">col_start</span><span class="p">:</span><span class="n">col_end</span><span class="p">]</span> <span class="o">=</span> <span class="n">M</span><span class="p">[</span><span class="n">row2</span><span class="p">,</span> <span class="n">col_start</span><span class="p">:</span><span class="n">col_end</span><span class="p">]</span><span class="o">.</span><span class="n">copy</span><span class="p">()</span>
    <span class="n">M</span><span class="p">[</span><span class="n">row2</span><span class="p">,</span> <span class="n">col_start</span><span class="p">:</span><span class="n">col_end</span><span class="p">]</span> <span class="o">=</span> <span class="n">first</span>
</pre></div>

</div>
</div>
</div>

</div>
<div class="cell border-box-sizing text_cell rendered">
<div class="prompt input_prompt">
</div>
<div class="inner_cell">
<div class="text_cell_render border-box-sizing rendered_html">
<p>As always, we test its accuracy</p>

</div>
</div>
</div>
<div class="cell border-box-sizing code_cell rendered">
<div class="input">
<div class="prompt input_prompt">In&nbsp;[82]:</div>
<div class="inner_cell">
    <div class="input_area">
<div class=" highlight hl-ipython3"><pre><span></span><span class="n">A</span> <span class="o">=</span> <span class="n">np</span><span class="o">.</span><span class="n">array</span><span class="p">([[</span><span class="mf">2.</span><span class="p">,</span>  <span class="o">-</span><span class="mf">1.</span><span class="p">,</span> <span class="mf">4.</span><span class="p">],</span>
              <span class="p">[</span><span class="o">-</span><span class="mf">1.</span><span class="p">,</span>  <span class="mf">3.</span><span class="p">,</span> <span class="mf">0.5</span><span class="p">],</span>
              <span class="p">[</span> <span class="mf">5.</span><span class="p">,</span> <span class="o">-</span><span class="mf">9.</span><span class="p">,</span> <span class="mf">11.</span><span class="p">]])</span>

<span class="n">L</span><span class="p">,</span> <span class="n">U</span><span class="p">,</span> <span class="n">P</span><span class="p">,</span> <span class="n">nswaps</span> <span class="o">=</span> <span class="n">lup_decomp</span><span class="p">(</span><span class="n">A</span><span class="p">)</span>
<span class="nb">print</span> <span class="s1">&#39;L =&#39;</span>
<span class="nb">print</span> <span class="n">L</span>
<span class="nb">print</span> <span class="s1">&#39;U =&#39;</span>
<span class="nb">print</span> <span class="n">U</span>
<span class="nb">print</span> <span class="s1">&#39;P =&#39;</span>
<span class="nb">print</span> <span class="n">P</span>
</pre></div>

</div>
</div>
</div>

<div class="output_wrapper">
<div class="output">


<div class="output_area">
<div class="prompt"></div>

<div class="output_subarea output_stream output_stdout output_text">
<pre>L =
[[ 1.          0.          0.        ]
 [ 0.4         1.          0.        ]
 [-0.2         0.46153846  1.        ]]
U =
[[  5.          -9.          11.        ]
 [  0.           2.6         -0.4       ]
 [  0.           0.           2.88461538]]
P =
[[ 0.  0.  1.]
 [ 1.  0.  0.]
 [ 0.  1.  0.]]
</pre>
</div>
</div>

</div>
</div>

</div>
<div class="cell border-box-sizing text_cell rendered">
<div class="prompt input_prompt">
</div>
<div class="inner_cell">
<div class="text_cell_render border-box-sizing rendered_html">
<p>Scipy has a function <code>lu</code> in its <code>linalg</code> module that performs LUP decompositions. (Oddly, numpy does not).</p>

</div>
</div>
</div>
<div class="cell border-box-sizing code_cell rendered">
<div class="input">
<div class="prompt input_prompt">In&nbsp;[83]:</div>
<div class="inner_cell">
    <div class="input_area">
<div class=" highlight hl-ipython3"><pre><span></span><span class="n">P</span><span class="p">,</span> <span class="n">L</span><span class="p">,</span> <span class="n">U</span> <span class="o">=</span> <span class="n">la</span><span class="o">.</span><span class="n">lu</span><span class="p">(</span><span class="n">A</span><span class="p">)</span>
<span class="nb">print</span> <span class="s1">&#39;L =&#39;</span>
<span class="nb">print</span> <span class="n">L</span>
<span class="nb">print</span> <span class="s1">&#39;U =&#39;</span>
<span class="nb">print</span> <span class="n">U</span>
<span class="nb">print</span> <span class="s1">&#39;P =&#39;</span>
<span class="nb">print</span> <span class="n">P</span>
</pre></div>

</div>
</div>
</div>

<div class="output_wrapper">
<div class="output">


<div class="output_area">
<div class="prompt"></div>

<div class="output_subarea output_stream output_stdout output_text">
<pre>L =
[[ 1.          0.          0.        ]
 [ 0.4         1.          0.        ]
 [-0.2         0.46153846  1.        ]]
U =
[[  5.          -9.          11.        ]
 [  0.           2.6         -0.4       ]
 [  0.           0.           2.88461538]]
P =
[[ 0.  1.  0.]
 [ 0.  0.  1.]
 [ 1.  0.  0.]]
</pre>
</div>
</div>

</div>
</div>

</div>
<div class="cell border-box-sizing text_cell rendered">
<div class="prompt input_prompt">
</div>
<div class="inner_cell">
<div class="text_cell_render border-box-sizing rendered_html">
<p>Note that our results match scipy&#8217;s except for the $P$ matrix. This is because scipy perform the decomposition $A = LUP$. Therefore what scipy returns as $P$ is actually the inverse of what we&#8217;ve defined as $P$. The inverse of a permutation matrix is its transpose (obvious if you think about it), and that's what we see here. So our function appears accurate.</p>
<p>Now, timings.</p>

</div>
</div>
</div>
<div class="cell border-box-sizing code_cell rendered">
<div class="input">
<div class="prompt input_prompt">In&nbsp;[84]:</div>
<div class="inner_cell">
    <div class="input_area">
<div class=" highlight hl-ipython3"><pre><span></span><span class="n">A</span> <span class="o">=</span> <span class="n">np</span><span class="o">.</span><span class="n">random</span><span class="o">.</span><span class="n">randn</span><span class="p">(</span><span class="mf">1e4</span><span class="p">)</span><span class="o">.</span><span class="n">reshape</span><span class="p">((</span><span class="mi">100</span><span class="p">,</span> <span class="mi">100</span><span class="p">))</span>
<span class="nb">print</span> <span class="s1">&#39;Scipy lu&#39;</span>
<span class="o">%</span><span class="k">timeit</span> la.lu(A)
<span class="nb">print</span> <span class="s1">&#39;Cython&#39;</span>
<span class="o">%</span><span class="k">timeit</span> lup_decomp(A)
</pre></div>

</div>
</div>
</div>

<div class="output_wrapper">
<div class="output">


<div class="output_area">
<div class="prompt"></div>

<div class="output_subarea output_stream output_stdout output_text">
<pre>Scipy lu
1000 loops, best of 3: 255 µs per loop
Cython
100 loops, best of 3: 2.88 ms per loop
</pre>
</div>
</div>

</div>
</div>

</div>
<div class="cell border-box-sizing text_cell rendered">
<div class="prompt input_prompt">
</div>
<div class="inner_cell">
<div class="text_cell_render border-box-sizing rendered_html">
<p>On a $100 \times 100$ matrix, our Cython function is ten times slower than scipy. Not great news, but perhaps not surprising given that scipy is calling a highly-optimized Fortran function. There are also probably some low-level optimizations we could make to our code. But this is fast enough to be satisfactory.</p>

</div>
</div>
</div>
<div class="cell border-box-sizing text_cell rendered">
<div class="prompt input_prompt">
</div>
<div class="inner_cell">
<div class="text_cell_render border-box-sizing rendered_html">
<hr>

</div>
</div>
</div>
<div class="cell border-box-sizing text_cell rendered">
<div class="prompt input_prompt">
</div>
<div class="inner_cell">
<div class="text_cell_render border-box-sizing rendered_html">
<h3 id="The-determinant-redux">The determinant redux<a class="anchor-link" href="#The-determinant-redux">&#182;</a></h3>
</div>
</div>
</div>
<div class="cell border-box-sizing text_cell rendered">
<div class="prompt input_prompt">
</div>
<div class="inner_cell">
<div class="text_cell_render border-box-sizing rendered_html">
<p>Recall that above we convinced ourselves that the determinant of a triangular matrix is just the product of its diagonal entries. Since the determinant of the product of two matrices is the product of their determinants, then for an LU decomposition we have</p>
$$
\begin{align}
\det(A) &= \det(LU)\\\
        &= \det(L)\times\det(U)\\\
        &= \prod_{i=0}^{n-1}l_{ii}\times\prod_{i=0}^{n-1}u_{ii}\\\
        &= \prod_{i=0}^{n-1}u_{ii}\,.
\end{align}
$$<p>The last line obtains, becuase $L$ has ones along its diagonal. (There are alternative $LU$ decompositions where this isn&#8217;t so. For the LUP decomposition we have</p>
$$
\begin{align}
\det(A) &= \det(L)\times \det(U) \times \det\left(P^T\right)\\\
        &= \det\left(P^T\right)\times\prod_{i=0}^{n-1}u_{ii}\,.
\end{align}                                                            
$$<p>It can be shown (but not so easily) that the determinant of $P^T$ is equal to $(-1)^\textrm{# swaps}$. So if we swapped two rows during the decomposition, the determinant would be 1, if we swapped three, it would be $-1$. This is why we recorded the number of row swaps in the <code>lup_decomp</code> function above.</p>
<p>So the LUP decomposition not only provides an efficient method for solving a linear system, it also provides an efficient method for computing determinants.</p>

</div>
</div>
</div>
<div class="cell border-box-sizing text_cell rendered">
<div class="prompt input_prompt">
</div>
<div class="inner_cell">
<div class="text_cell_render border-box-sizing rendered_html">
<hr>

</div>
</div>
</div>
<div class="cell border-box-sizing text_cell rendered">
<div class="prompt input_prompt">
</div>
<div class="inner_cell">
<div class="text_cell_render border-box-sizing rendered_html">
<h5 id="Exercise:-Computing-the-determinant-via-LUP-decomposition">Exercise: Computing the determinant via LUP decomposition<a class="anchor-link" href="#Exercise:-Computing-the-determinant-via-LUP-decomposition">&#182;</a></h5>
</div>
</div>
</div>
<div class="cell border-box-sizing text_cell rendered">
<div class="prompt input_prompt">
</div>
<div class="inner_cell">
<div class="text_cell_render border-box-sizing rendered_html">
<p>With the code for the LUP decomposition already written, writing a determinant function is straightforward. Because each <code>%%cython</code> cell in the IPython notebook is an independent module, we have to include all the LUP decomposition code in the cell below. But everything below the <code>lup_determinant</code> function is identical to what was coded above.</p>

</div>
</div>
</div>
<div class="cell border-box-sizing code_cell rendered">
<div class="input">
<div class="prompt input_prompt">In&nbsp;[100]:</div>
<div class="inner_cell">
    <div class="input_area">
<div class=" highlight hl-ipython3"><pre><span></span><span class="o">%%</span><span class="n">cython</span> <span class="o">-</span><span class="n">lm</span>
<span class="k">import</span> <span class="nn">cython</span>
<span class="k">import</span> <span class="nn">numpy</span> <span class="k">as</span> <span class="nn">np</span>
<span class="k">cimport</span> <span class="nn">numpy</span> <span class="k">as</span> <span class="nn">np</span>
<span class="k">from</span> <span class="nn">libc.math</span> <span class="k">cimport</span> <span class="nb">pow</span>

<span class="nd">@cython</span><span class="o">.</span><span class="n">boundscheck</span><span class="p">(</span><span class="bp">False</span><span class="p">)</span>
<span class="nd">@cython</span><span class="o">.</span><span class="n">wraparound</span><span class="p">(</span><span class="bp">False</span><span class="p">)</span>           
<span class="k">cpdef</span> <span class="kt">double</span> <span class="nf">lup_determinant</span><span class="p">(</span><span class="n">double</span><span class="p">[:,</span> <span class="p">::</span><span class="mf">1</span><span class="p">]</span> <span class="n">A</span><span class="p">):</span>
    <span class="k">assert</span> <span class="n">A</span><span class="o">.</span><span class="n">shape</span><span class="p">[</span><span class="mf">0</span><span class="p">]</span> <span class="o">==</span> <span class="n">A</span><span class="o">.</span><span class="n">shape</span><span class="p">[</span><span class="mf">1</span><span class="p">],</span> <span class="s">&#39;Requires square matrix.&#39;</span>
    <span class="k">cdef</span><span class="p">:</span>
        <span class="nb">int</span> <span class="n">n</span> <span class="o">=</span> <span class="n">A</span><span class="o">.</span><span class="n">shape</span><span class="p">[</span><span class="mf">0</span><span class="p">]</span>
        <span class="n">double</span><span class="p">[:,</span> <span class="p">::</span><span class="mf">1</span><span class="p">]</span> <span class="n">L</span>
        <span class="n">double</span><span class="p">[:,</span> <span class="p">::</span><span class="mf">1</span><span class="p">]</span> <span class="n">U</span>
        <span class="n">double</span><span class="p">[:,</span> <span class="p">::</span><span class="mf">1</span><span class="p">]</span> <span class="n">P</span>
        <span class="nb">int</span> <span class="n">nswaps</span>
        <span class="nb">int</span> <span class="n">i</span>
    
    <span class="n">L</span><span class="p">,</span> <span class="n">U</span><span class="p">,</span> <span class="n">P</span><span class="p">,</span> <span class="n">nswaps</span> <span class="o">=</span> <span class="n">lup_decomp</span><span class="p">(</span><span class="n">A</span><span class="p">)</span>
    
    <span class="k">cdef</span> <span class="kt">double</span> <span class="nf">det</span> <span class="o">=</span> <span class="nb">pow</span><span class="p">(</span><span class="o">-</span><span class="mf">1</span><span class="p">,</span> <span class="n">nswaps</span><span class="p">)</span>
    <span class="k">for</span> <span class="n">i</span> <span class="ow">in</span> <span class="nb">xrange</span><span class="p">(</span><span class="n">n</span><span class="p">):</span>
        <span class="n">det</span> <span class="o">*=</span> <span class="n">U</span><span class="p">[</span><span class="n">i</span><span class="p">,</span> <span class="n">i</span><span class="p">]</span>
    <span class="k">return</span> <span class="n">det</span>

<span class="nd">@cython</span><span class="o">.</span><span class="n">boundscheck</span><span class="p">(</span><span class="bp">False</span><span class="p">)</span>
<span class="nd">@cython</span><span class="o">.</span><span class="n">wraparound</span><span class="p">(</span><span class="bp">False</span><span class="p">)</span>
<span class="nd">@cython</span><span class="o">.</span><span class="n">cdivision</span><span class="p">(</span><span class="bp">True</span><span class="p">)</span>
<span class="k">cpdef</span> <span class="nf">lup_decomp</span><span class="p">(</span><span class="n">double</span><span class="p">[:,</span> <span class="p">::</span><span class="mf">1</span><span class="p">]</span> <span class="n">A</span><span class="p">):</span>
    <span class="sd">&#39;&#39;&#39;</span>
<span class="sd">    Perform the LUP decomposition of A:</span>
<span class="sd">        PA = LU</span>
<span class="sd">    </span>
<span class="sd">    Returns a tuple, (L, U, P, nswaps), where</span>
<span class="sd">    nswaps is the number of permutations made </span>
<span class="sd">    while performing the decomposition.</span>
<span class="sd">    &#39;&#39;&#39;</span>
    
    <span class="k">assert</span> <span class="n">A</span><span class="o">.</span><span class="n">shape</span><span class="p">[</span><span class="mf">0</span><span class="p">]</span> <span class="o">==</span> <span class="n">A</span><span class="o">.</span><span class="n">shape</span><span class="p">[</span><span class="mf">1</span><span class="p">],</span> <span class="s">&#39;Not a square matrix.&#39;</span>
    
    <span class="k">cdef</span><span class="p">:</span>
        <span class="nb">int</span> <span class="n">n</span> <span class="o">=</span> <span class="n">A</span><span class="o">.</span><span class="n">shape</span><span class="p">[</span><span class="mf">0</span><span class="p">]</span>
        <span class="nb">int</span> <span class="n">i_piv</span><span class="p">,</span> <span class="n">k</span><span class="p">,</span> <span class="n">j</span><span class="p">,</span> <span class="n">h</span>
        <span class="nb">int</span> <span class="n">nswaps</span> <span class="o">=</span> <span class="mf">0</span>
        <span class="n">double</span><span class="p">[:,</span> <span class="p">::</span><span class="mf">1</span><span class="p">]</span> <span class="n">U</span> <span class="o">=</span> <span class="n">A</span><span class="o">.</span><span class="n">copy</span><span class="p">()</span>
        <span class="n">double</span><span class="p">[:,</span> <span class="p">::</span><span class="mf">1</span><span class="p">]</span> <span class="n">P</span> <span class="o">=</span> <span class="n">np</span><span class="o">.</span><span class="n">eye</span><span class="p">(</span><span class="n">n</span><span class="p">)</span>
        <span class="n">double</span><span class="p">[:,</span> <span class="p">::</span><span class="mf">1</span><span class="p">]</span> <span class="n">L</span> <span class="o">=</span> <span class="n">np</span><span class="o">.</span><span class="n">eye</span><span class="p">(</span><span class="n">n</span><span class="p">)</span>
        
    <span class="k">for</span> <span class="n">k</span> <span class="ow">in</span> <span class="nb">xrange</span><span class="p">(</span><span class="n">n</span><span class="o">-</span><span class="mf">1</span><span class="p">):</span>
        <span class="c"># Find the pivot row and permute matrices</span>
        <span class="n">i_piv</span> <span class="o">=</span> <span class="n">get_pivot</span><span class="p">(</span><span class="n">U</span><span class="p">,</span> <span class="n">k</span><span class="p">)</span>
        <span class="k">if</span> <span class="n">i_piv</span> <span class="o">!=</span> <span class="n">k</span><span class="p">:</span>
            <span class="n">nswaps</span> <span class="o">+=</span> <span class="mf">1</span>
            <span class="n">swap_rows</span><span class="p">(</span><span class="n">U</span><span class="p">,</span> <span class="n">k</span><span class="p">,</span> <span class="n">i_piv</span><span class="p">,</span> <span class="n">k</span><span class="p">,</span> <span class="n">n</span><span class="p">)</span>
            <span class="n">swap_rows</span><span class="p">(</span><span class="n">P</span><span class="p">,</span> <span class="n">k</span><span class="p">,</span> <span class="n">i_piv</span><span class="p">,</span> <span class="mf">0</span><span class="p">,</span> <span class="n">n</span><span class="p">)</span> 
            <span class="k">if</span> <span class="n">k</span> <span class="o">&gt;</span> <span class="mf">0</span><span class="p">:</span>
                <span class="n">swap_rows</span><span class="p">(</span><span class="n">L</span><span class="p">,</span> <span class="n">k</span><span class="p">,</span> <span class="n">i_piv</span><span class="p">,</span> <span class="mf">0</span><span class="p">,</span> <span class="n">k</span><span class="p">)</span>
           
        <span class="c"># Gaussian eliminate sub-diagonal elements of U.</span>
        <span class="k">for</span> <span class="n">j</span> <span class="ow">in</span> <span class="nb">xrange</span><span class="p">(</span><span class="n">k</span><span class="o">+</span><span class="mf">1</span><span class="p">,</span> <span class="n">n</span><span class="p">):</span>
            <span class="n">L</span><span class="p">[</span><span class="n">j</span><span class="p">,</span> <span class="n">k</span><span class="p">]</span> <span class="o">=</span> <span class="n">U</span><span class="p">[</span><span class="n">j</span><span class="p">,</span> <span class="n">k</span><span class="p">]</span> <span class="o">/</span> <span class="n">U</span><span class="p">[</span><span class="n">k</span><span class="p">,</span> <span class="n">k</span><span class="p">]</span>
            <span class="k">for</span> <span class="n">h</span> <span class="ow">in</span> <span class="nb">xrange</span><span class="p">(</span><span class="n">k</span><span class="p">,</span> <span class="n">n</span><span class="p">):</span>
                <span class="n">U</span><span class="p">[</span><span class="n">j</span><span class="p">,</span> <span class="n">h</span><span class="p">]</span> <span class="o">-=</span>  <span class="n">U</span><span class="p">[</span><span class="n">k</span><span class="p">,</span> <span class="n">h</span><span class="p">]</span>  <span class="o">*</span> <span class="n">L</span><span class="p">[</span><span class="n">j</span><span class="p">,</span> <span class="n">k</span><span class="p">]</span>              
                
    <span class="k">return</span> <span class="p">(</span><span class="n">np</span><span class="o">.</span><span class="n">asarray</span><span class="p">(</span><span class="n">L</span><span class="p">),</span> <span class="n">np</span><span class="o">.</span><span class="n">asarray</span><span class="p">(</span><span class="n">U</span><span class="p">),</span> <span class="n">np</span><span class="o">.</span><span class="n">asarray</span><span class="p">(</span><span class="n">P</span><span class="p">),</span> <span class="n">nswaps</span><span class="p">)</span>
    
<span class="nd">@cython</span><span class="o">.</span><span class="n">boundscheck</span><span class="p">(</span><span class="bp">False</span><span class="p">)</span>
<span class="nd">@cython</span><span class="o">.</span><span class="n">wraparound</span><span class="p">(</span><span class="bp">False</span><span class="p">)</span>   
<span class="k">cdef</span> <span class="kt">int</span> <span class="nf">get_pivot</span><span class="p">(</span><span class="n">double</span><span class="p">[:,</span> <span class="p">::</span><span class="mf">1</span><span class="p">]</span> <span class="n">U</span><span class="p">,</span> <span class="nb">int</span> <span class="n">k</span><span class="p">):</span>
    <span class="sd">&#39;&#39;&#39;</span>
<span class="sd">    Find the pivot row of column k in a matrix.</span>
<span class="sd">    The pivot row is the row i (&gt;= k) of U for which </span>
<span class="sd">    abs(U[i, k]) is largest.</span>
<span class="sd">    &#39;&#39;&#39;</span>
    <span class="k">cdef</span><span class="p">:</span>
        <span class="nb">int</span> <span class="n">j</span>
        <span class="nb">int</span> <span class="n">n</span> <span class="o">=</span> <span class="n">U</span><span class="o">.</span><span class="n">shape</span><span class="p">[</span><span class="mf">0</span><span class="p">]</span>
        <span class="nb">int</span> <span class="n">i_piv</span> <span class="o">=</span> <span class="n">k</span>

    <span class="k">for</span> <span class="n">j</span> <span class="ow">in</span> <span class="nb">xrange</span><span class="p">(</span><span class="n">k</span> <span class="o">+</span> <span class="mf">1</span><span class="p">,</span> <span class="n">n</span><span class="p">):</span>
        <span class="k">if</span> <span class="nb">abs</span><span class="p">(</span><span class="n">U</span><span class="p">[</span><span class="n">j</span><span class="p">,</span> <span class="n">k</span><span class="p">])</span> <span class="o">&gt;</span> <span class="nb">abs</span><span class="p">(</span><span class="n">U</span><span class="p">[</span><span class="n">i_piv</span><span class="p">,</span> <span class="n">k</span><span class="p">]):</span>
            <span class="n">i_piv</span> <span class="o">=</span> <span class="n">j</span>
    <span class="k">return</span> <span class="n">i_piv</span>

<span class="nd">@cython</span><span class="o">.</span><span class="n">boundscheck</span><span class="p">(</span><span class="bp">False</span><span class="p">)</span>
<span class="nd">@cython</span><span class="o">.</span><span class="n">wraparound</span><span class="p">(</span><span class="bp">False</span><span class="p">)</span>           
<span class="k">cdef</span> <span class="kt">void</span> <span class="nf">swap_rows</span><span class="p">(</span><span class="n">double</span><span class="p">[:,</span> <span class="p">::</span><span class="mf">1</span><span class="p">]</span> <span class="n">M</span><span class="p">,</span> <span class="nb">int</span> <span class="n">row1</span><span class="p">,</span> <span class="nb">int</span> <span class="n">row2</span><span class="p">,</span> <span class="nb">int</span> <span class="n">col_start</span><span class="p">,</span> <span class="nb">int</span> <span class="n">col_end</span><span class="p">):</span>
    <span class="sd">&#39;&#39;&#39;</span>
<span class="sd">    A helper function to swap segments of rows in a matrix.</span>

<span class="sd">    M[row1, col_start:col_end] &lt;-&gt; M[row2, col_start:col_end]</span>
<span class="sd">    &#39;&#39;&#39;</span>    
    <span class="k">cdef</span><span class="p">:</span>
        <span class="n">double</span><span class="p">[::</span><span class="mf">1</span><span class="p">]</span> <span class="n">first</span> <span class="o">=</span> <span class="n">M</span><span class="p">[</span><span class="n">row1</span><span class="p">,</span> <span class="n">col_start</span><span class="p">:</span><span class="n">col_end</span><span class="p">]</span><span class="o">.</span><span class="n">copy</span><span class="p">()</span>
    
    <span class="n">M</span><span class="p">[</span><span class="n">row1</span><span class="p">,</span> <span class="n">col_start</span><span class="p">:</span><span class="n">col_end</span><span class="p">]</span> <span class="o">=</span> <span class="n">M</span><span class="p">[</span><span class="n">row2</span><span class="p">,</span> <span class="n">col_start</span><span class="p">:</span><span class="n">col_end</span><span class="p">]</span><span class="o">.</span><span class="n">copy</span><span class="p">()</span>
    <span class="n">M</span><span class="p">[</span><span class="n">row2</span><span class="p">,</span> <span class="n">col_start</span><span class="p">:</span><span class="n">col_end</span><span class="p">]</span> <span class="o">=</span> <span class="n">first</span>
</pre></div>

</div>
</div>
</div>

</div>
<div class="cell border-box-sizing text_cell rendered">
<div class="prompt input_prompt">
</div>
<div class="inner_cell">
<div class="text_cell_render border-box-sizing rendered_html">
<p>As always, we test accuracy and speed.</p>

</div>
</div>
</div>
<div class="cell border-box-sizing code_cell rendered">
<div class="input">
<div class="prompt input_prompt">In&nbsp;[101]:</div>
<div class="inner_cell">
    <div class="input_area">
<div class=" highlight hl-ipython3"><pre><span></span><span class="n">B</span> <span class="o">=</span> <span class="n">np</span><span class="o">.</span><span class="n">random</span><span class="o">.</span><span class="n">randn</span><span class="p">(</span><span class="mi">100</span><span class="p">)</span><span class="o">.</span><span class="n">reshape</span><span class="p">((</span><span class="mi">10</span><span class="p">,</span> <span class="mi">10</span><span class="p">))</span>
<span class="nb">print</span> <span class="s1">&#39;Numpy&#39;</span>
<span class="nb">print</span> <span class="n">np</span><span class="o">.</span><span class="n">linalg</span><span class="o">.</span><span class="n">det</span><span class="p">(</span><span class="n">B</span><span class="p">)</span>
<span class="nb">print</span> <span class="s1">&#39;Cython, LUP determinant&#39;</span>
<span class="nb">print</span> <span class="n">lup_determinant</span><span class="p">(</span><span class="n">B</span><span class="p">)</span>
</pre></div>

</div>
</div>
</div>

<div class="output_wrapper">
<div class="output">


<div class="output_area">
<div class="prompt"></div>

<div class="output_subarea output_stream output_stdout output_text">
<pre>Numpy
19.8309766936
Cython, LUP determinant
19.8309766936
</pre>
</div>
</div>

</div>
</div>

</div>
<div class="cell border-box-sizing code_cell rendered">
<div class="input">
<div class="prompt input_prompt">In&nbsp;[102]:</div>
<div class="inner_cell">
    <div class="input_area">
<div class=" highlight hl-ipython3"><pre><span></span><span class="nb">print</span> <span class="s1">&#39;Numpy&#39;</span>
<span class="o">%%</span><span class="k">timeit</span> np.linalg.det(B)
print &#39;Cython, LUP determinant&#39;
%%timeit lup_determinant(B)
</pre></div>

</div>
</div>
</div>

<div class="output_wrapper">
<div class="output">


<div class="output_area">
<div class="prompt"></div>

<div class="output_subarea output_stream output_stdout output_text">
<pre>Numpy
10000 loops, best of 3: 63.3 µs per loop
Cython, LUP determinant
1000 loops, best of 3: 236 µs per loop
</pre>
</div>
</div>

</div>
</div>

</div>
<div class="cell border-box-sizing text_cell rendered">
<div class="prompt input_prompt">
</div>
<div class="inner_cell">
<div class="text_cell_render border-box-sizing rendered_html">
<p>Our function is still slower than numpy, but in the ballpark. It is dramatically faster than the ill-fated recursive function.</p>

</div>
</div>
</div>
<div class="cell border-box-sizing text_cell rendered">
<div class="prompt input_prompt">
</div>
<div class="inner_cell">
<div class="text_cell_render border-box-sizing rendered_html">
<hr>

</div>
</div>
</div>
<div class="cell border-box-sizing text_cell rendered">
<div class="prompt input_prompt">
</div>
<div class="inner_cell">
<div class="text_cell_render border-box-sizing rendered_html">
<h2 id="Synthesis:-Solving-a-linear-system-with-LUP-decomposition">Synthesis: Solving a linear system with LUP decomposition<a class="anchor-link" href="#Synthesis:-Solving-a-linear-system-with-LUP-decomposition">&#182;</a></h2>
</div>
</div>
</div>
<div class="cell border-box-sizing text_cell rendered">
<div class="prompt input_prompt">
</div>
<div class="inner_cell">
<div class="text_cell_render border-box-sizing rendered_html">
<p>With all the puzzle pieces on the table, the code below arranges them into a linear system solver. The function <code>lup_solve</code> simply wraps the determinant, decomposition, and backward and forward substition code already written.</p>

</div>
</div>
</div>
<div class="cell border-box-sizing code_cell rendered">
<div class="input">
<div class="prompt input_prompt">In&nbsp;[114]:</div>
<div class="inner_cell">
    <div class="input_area">
<div class=" highlight hl-ipython3"><pre><span></span><span class="o">%%</span><span class="n">cython</span> <span class="o">-</span><span class="n">lm</span>
<span class="k">import</span> <span class="nn">cython</span>
<span class="k">import</span> <span class="nn">numpy</span> <span class="k">as</span> <span class="nn">np</span>
<span class="k">cimport</span> <span class="nn">numpy</span> <span class="k">as</span> <span class="nn">np</span>
<span class="k">from</span> <span class="nn">libc.math</span> <span class="k">cimport</span> <span class="nb">pow</span><span class="p">,</span> <span class="n">fabs</span>

<span class="k">def</span> <span class="nf">lup_solve</span><span class="p">(</span><span class="n">double</span><span class="p">[:,</span> <span class="p">::</span><span class="mf">1</span><span class="p">]</span> <span class="n">A</span><span class="p">,</span> <span class="n">double</span><span class="p">[::</span><span class="mf">1</span><span class="p">]</span> <span class="n">b</span><span class="p">):</span>
    <span class="c"># Perform the LUP decomposition.</span>
    <span class="k">cdef</span><span class="p">:</span>
        <span class="n">double</span><span class="p">[:,</span> <span class="p">::</span><span class="mf">1</span><span class="p">]</span> <span class="n">L</span>
        <span class="n">double</span><span class="p">[:,</span> <span class="p">::</span><span class="mf">1</span><span class="p">]</span> <span class="n">U</span>
        <span class="n">double</span><span class="p">[:,</span> <span class="p">::</span><span class="mf">1</span><span class="p">]</span> <span class="n">P</span>
        <span class="nb">int</span> <span class="n">nswaps</span>
    <span class="n">L</span><span class="p">,</span> <span class="n">U</span><span class="p">,</span> <span class="n">P</span><span class="p">,</span> <span class="n">nswaps</span> <span class="o">=</span> <span class="n">lup_decomp</span><span class="p">(</span><span class="n">A</span><span class="p">)</span>
    
    <span class="c"># Is the determinant non-zero?</span>
    <span class="k">cdef</span> <span class="kt">double</span> <span class="nf">det</span>
    <span class="n">det</span> <span class="o">=</span> <span class="n">determinant_from_lup</span><span class="p">(</span><span class="n">U</span><span class="p">,</span> <span class="n">nswaps</span><span class="p">)</span>
    <span class="k">assert</span> <span class="n">fabs</span><span class="p">(</span><span class="n">det</span><span class="p">)</span> <span class="o">&gt;</span> <span class="mf">10e-16</span><span class="p">,</span> <span class="s">&#39;Zero determinant&#39;</span>
    
    <span class="c"># Decomposition provides PA = LU therefore</span>
    <span class="c"># Ax = b -&gt; PAx = Pb -&gt; LUx = Pb, which</span>
    <span class="c"># can be solve by backward and forward </span>
    <span class="c"># induction.</span>
    
    <span class="c"># Permute b</span>
    <span class="k">cdef</span> <span class="kt">double</span> [<span class="p">::</span><span class="mf">1</span><span class="p">]</span> <span class="n">b_permute</span> <span class="o">=</span> <span class="n">matvecprod</span><span class="p">(</span><span class="n">P</span><span class="p">,</span> <span class="n">b</span><span class="p">)</span>
    
    <span class="c"># Solve Ly = Pb, y := Ux</span>
    <span class="k">cdef</span> <span class="kt">double</span>[<span class="p">::</span><span class="mf">1</span><span class="p">]</span> <span class="n">y</span> <span class="o">=</span> <span class="n">forward_sub_solve</span><span class="p">(</span><span class="n">L</span><span class="p">,</span> <span class="n">b_permute</span><span class="p">)</span>
    
    <span class="c"># Solve Ux = y</span>
    <span class="k">cdef</span> <span class="kt">double</span>[<span class="p">::</span><span class="mf">1</span><span class="p">]</span> <span class="n">x</span> <span class="o">=</span> <span class="n">backward_sub_solve</span><span class="p">(</span><span class="n">U</span><span class="p">,</span> <span class="n">y</span><span class="p">)</span>
    
    <span class="k">return</span> <span class="n">np</span><span class="o">.</span><span class="n">asarray</span><span class="p">(</span><span class="n">x</span><span class="p">)</span>
        

<span class="nd">@cython</span><span class="o">.</span><span class="n">boundscheck</span><span class="p">(</span><span class="bp">False</span><span class="p">)</span>
<span class="nd">@cython</span><span class="o">.</span><span class="n">wraparound</span><span class="p">(</span><span class="bp">False</span><span class="p">)</span>
<span class="nd">@cython</span><span class="o">.</span><span class="n">cdivision</span><span class="p">(</span><span class="bp">True</span><span class="p">)</span>
<span class="k">cpdef</span> <span class="nf">lup_decomp</span><span class="p">(</span><span class="n">double</span><span class="p">[:,</span> <span class="p">::</span><span class="mf">1</span><span class="p">]</span> <span class="n">A</span><span class="p">):</span>
    <span class="sd">&#39;&#39;&#39;</span>
<span class="sd">    Perform the LUP decomposition of A:</span>
<span class="sd">        PA = LU</span>
<span class="sd">    </span>
<span class="sd">    Returns a tuple, (L, U, P, nswaps), where</span>
<span class="sd">    nswaps is the number of permutations made </span>
<span class="sd">    while performing the decomposition.</span>
<span class="sd">    &#39;&#39;&#39;</span>
    
    <span class="k">assert</span> <span class="n">A</span><span class="o">.</span><span class="n">shape</span><span class="p">[</span><span class="mf">0</span><span class="p">]</span> <span class="o">==</span> <span class="n">A</span><span class="o">.</span><span class="n">shape</span><span class="p">[</span><span class="mf">1</span><span class="p">],</span> <span class="s">&#39;Not a square matrix.&#39;</span>
    
    <span class="k">cdef</span><span class="p">:</span>
        <span class="nb">int</span> <span class="n">n</span> <span class="o">=</span> <span class="n">A</span><span class="o">.</span><span class="n">shape</span><span class="p">[</span><span class="mf">0</span><span class="p">]</span>
        <span class="nb">int</span> <span class="n">i_piv</span><span class="p">,</span> <span class="n">k</span><span class="p">,</span> <span class="n">j</span><span class="p">,</span> <span class="n">h</span>
        <span class="nb">int</span> <span class="n">nswaps</span> <span class="o">=</span> <span class="mf">0</span>
        <span class="n">double</span><span class="p">[:,</span> <span class="p">::</span><span class="mf">1</span><span class="p">]</span> <span class="n">U</span> <span class="o">=</span> <span class="n">A</span><span class="o">.</span><span class="n">copy</span><span class="p">()</span>
        <span class="n">double</span><span class="p">[:,</span> <span class="p">::</span><span class="mf">1</span><span class="p">]</span> <span class="n">P</span> <span class="o">=</span> <span class="n">np</span><span class="o">.</span><span class="n">eye</span><span class="p">(</span><span class="n">n</span><span class="p">)</span>
        <span class="n">double</span><span class="p">[:,</span> <span class="p">::</span><span class="mf">1</span><span class="p">]</span> <span class="n">L</span> <span class="o">=</span> <span class="n">np</span><span class="o">.</span><span class="n">eye</span><span class="p">(</span><span class="n">n</span><span class="p">)</span>
        
    <span class="k">for</span> <span class="n">k</span> <span class="ow">in</span> <span class="nb">xrange</span><span class="p">(</span><span class="n">n</span><span class="o">-</span><span class="mf">1</span><span class="p">):</span>
        <span class="c"># Find the pivot row and permute matrices</span>
        <span class="n">i_piv</span> <span class="o">=</span> <span class="n">get_pivot</span><span class="p">(</span><span class="n">U</span><span class="p">,</span> <span class="n">k</span><span class="p">)</span>
        <span class="k">if</span> <span class="n">i_piv</span> <span class="o">!=</span> <span class="n">k</span><span class="p">:</span>
            <span class="n">nswaps</span> <span class="o">+=</span> <span class="mf">1</span>
            <span class="n">swap_rows</span><span class="p">(</span><span class="n">U</span><span class="p">,</span> <span class="n">k</span><span class="p">,</span> <span class="n">i_piv</span><span class="p">,</span> <span class="n">k</span><span class="p">,</span> <span class="n">n</span><span class="p">)</span>
            <span class="n">swap_rows</span><span class="p">(</span><span class="n">P</span><span class="p">,</span> <span class="n">k</span><span class="p">,</span> <span class="n">i_piv</span><span class="p">,</span> <span class="mf">0</span><span class="p">,</span> <span class="n">n</span><span class="p">)</span> 
            <span class="k">if</span> <span class="n">k</span> <span class="o">&gt;</span> <span class="mf">0</span><span class="p">:</span>
                <span class="n">swap_rows</span><span class="p">(</span><span class="n">L</span><span class="p">,</span> <span class="n">k</span><span class="p">,</span> <span class="n">i_piv</span><span class="p">,</span> <span class="mf">0</span><span class="p">,</span> <span class="n">k</span><span class="p">)</span>
           
        <span class="c"># Gaussian eliminate sub-diagonal elements of U.</span>
        <span class="k">for</span> <span class="n">j</span> <span class="ow">in</span> <span class="nb">xrange</span><span class="p">(</span><span class="n">k</span><span class="o">+</span><span class="mf">1</span><span class="p">,</span> <span class="n">n</span><span class="p">):</span>
            <span class="n">L</span><span class="p">[</span><span class="n">j</span><span class="p">,</span> <span class="n">k</span><span class="p">]</span> <span class="o">=</span> <span class="n">U</span><span class="p">[</span><span class="n">j</span><span class="p">,</span> <span class="n">k</span><span class="p">]</span> <span class="o">/</span> <span class="n">U</span><span class="p">[</span><span class="n">k</span><span class="p">,</span> <span class="n">k</span><span class="p">]</span>
            <span class="k">for</span> <span class="n">h</span> <span class="ow">in</span> <span class="nb">xrange</span><span class="p">(</span><span class="n">k</span><span class="p">,</span> <span class="n">n</span><span class="p">):</span>
                <span class="n">U</span><span class="p">[</span><span class="n">j</span><span class="p">,</span> <span class="n">h</span><span class="p">]</span> <span class="o">-=</span>  <span class="n">U</span><span class="p">[</span><span class="n">k</span><span class="p">,</span> <span class="n">h</span><span class="p">]</span>  <span class="o">*</span> <span class="n">L</span><span class="p">[</span><span class="n">j</span><span class="p">,</span> <span class="n">k</span><span class="p">]</span>              
                
    <span class="k">return</span> <span class="p">(</span><span class="n">np</span><span class="o">.</span><span class="n">asarray</span><span class="p">(</span><span class="n">L</span><span class="p">),</span> <span class="n">np</span><span class="o">.</span><span class="n">asarray</span><span class="p">(</span><span class="n">U</span><span class="p">),</span> <span class="n">np</span><span class="o">.</span><span class="n">asarray</span><span class="p">(</span><span class="n">P</span><span class="p">),</span> <span class="n">nswaps</span><span class="p">)</span>
    
<span class="nd">@cython</span><span class="o">.</span><span class="n">boundscheck</span><span class="p">(</span><span class="bp">False</span><span class="p">)</span>
<span class="nd">@cython</span><span class="o">.</span><span class="n">wraparound</span><span class="p">(</span><span class="bp">False</span><span class="p">)</span>   
<span class="k">cdef</span> <span class="kt">int</span> <span class="nf">get_pivot</span><span class="p">(</span><span class="n">double</span><span class="p">[:,</span> <span class="p">::</span><span class="mf">1</span><span class="p">]</span> <span class="n">U</span><span class="p">,</span> <span class="nb">int</span> <span class="n">k</span><span class="p">):</span>
    <span class="sd">&#39;&#39;&#39;</span>
<span class="sd">    Find the pivot row of column k in a matrix.</span>
<span class="sd">    The pivot row is the row i (&gt;= k) of U for which </span>
<span class="sd">    abs(U[i, k]) is largest.</span>
<span class="sd">    &#39;&#39;&#39;</span>
    <span class="k">cdef</span><span class="p">:</span>
        <span class="nb">int</span> <span class="n">j</span>
        <span class="nb">int</span> <span class="n">n</span> <span class="o">=</span> <span class="n">U</span><span class="o">.</span><span class="n">shape</span><span class="p">[</span><span class="mf">0</span><span class="p">]</span>
        <span class="nb">int</span> <span class="n">i_piv</span> <span class="o">=</span> <span class="n">k</span>

    <span class="k">for</span> <span class="n">j</span> <span class="ow">in</span> <span class="nb">xrange</span><span class="p">(</span><span class="n">k</span> <span class="o">+</span> <span class="mf">1</span><span class="p">,</span> <span class="n">n</span><span class="p">):</span>
        <span class="k">if</span> <span class="nb">abs</span><span class="p">(</span><span class="n">U</span><span class="p">[</span><span class="n">j</span><span class="p">,</span> <span class="n">k</span><span class="p">])</span> <span class="o">&gt;</span> <span class="nb">abs</span><span class="p">(</span><span class="n">U</span><span class="p">[</span><span class="n">i_piv</span><span class="p">,</span> <span class="n">k</span><span class="p">]):</span>
            <span class="n">i_piv</span> <span class="o">=</span> <span class="n">j</span>
    <span class="k">return</span> <span class="n">i_piv</span>

<span class="nd">@cython</span><span class="o">.</span><span class="n">boundscheck</span><span class="p">(</span><span class="bp">False</span><span class="p">)</span>
<span class="nd">@cython</span><span class="o">.</span><span class="n">wraparound</span><span class="p">(</span><span class="bp">False</span><span class="p">)</span>           
<span class="k">cdef</span> <span class="kt">void</span> <span class="nf">swap_rows</span><span class="p">(</span><span class="n">double</span><span class="p">[:,</span> <span class="p">::</span><span class="mf">1</span><span class="p">]</span> <span class="n">M</span><span class="p">,</span> <span class="nb">int</span> <span class="n">row1</span><span class="p">,</span> <span class="nb">int</span> <span class="n">row2</span><span class="p">,</span> <span class="nb">int</span> <span class="n">col_start</span><span class="p">,</span> <span class="nb">int</span> <span class="n">col_end</span><span class="p">):</span>
    <span class="sd">&#39;&#39;&#39;</span>
<span class="sd">    A helper function to swap segments of rows in a matrix.</span>

<span class="sd">    M[row1, col_start:col_end] &lt;-&gt; M[row2, col_start:col_end]</span>
<span class="sd">    &#39;&#39;&#39;</span>    
    <span class="k">cdef</span><span class="p">:</span>
        <span class="n">double</span><span class="p">[::</span><span class="mf">1</span><span class="p">]</span> <span class="n">first</span> <span class="o">=</span> <span class="n">M</span><span class="p">[</span><span class="n">row1</span><span class="p">,</span> <span class="n">col_start</span><span class="p">:</span><span class="n">col_end</span><span class="p">]</span><span class="o">.</span><span class="n">copy</span><span class="p">()</span>
    
    <span class="n">M</span><span class="p">[</span><span class="n">row1</span><span class="p">,</span> <span class="n">col_start</span><span class="p">:</span><span class="n">col_end</span><span class="p">]</span> <span class="o">=</span> <span class="n">M</span><span class="p">[</span><span class="n">row2</span><span class="p">,</span> <span class="n">col_start</span><span class="p">:</span><span class="n">col_end</span><span class="p">]</span><span class="o">.</span><span class="n">copy</span><span class="p">()</span>
    <span class="n">M</span><span class="p">[</span><span class="n">row2</span><span class="p">,</span> <span class="n">col_start</span><span class="p">:</span><span class="n">col_end</span><span class="p">]</span> <span class="o">=</span> <span class="n">first</span>

<span class="nd">@cython</span><span class="o">.</span><span class="n">boundscheck</span><span class="p">(</span><span class="bp">False</span><span class="p">)</span>
<span class="nd">@cython</span><span class="o">.</span><span class="n">wraparound</span><span class="p">(</span><span class="bp">False</span><span class="p">)</span> 
<span class="k">cdef</span> <span class="kt">double</span> <span class="nf">determinant_from_lup</span><span class="p">(</span><span class="n">double</span><span class="p">[:,</span> <span class="p">::</span><span class="mf">1</span><span class="p">]</span> <span class="n">U</span><span class="p">,</span> <span class="nb">int</span> <span class="n">nswaps</span><span class="p">):</span>
    <span class="sd">&#39;&#39;&#39;</span>
<span class="sd">    Find the determinant of a matrix from its LUP decomposition</span>
<span class="sd">    U is the upper-triangular matrix from the decomposition.</span>
<span class="sd">    nswaps is the number of pivot swaps made.</span>
<span class="sd">    Both are returned by lup_decomposition; the L and P </span>
<span class="sd">    matrices are not needed.</span>
<span class="sd">    &#39;&#39;&#39;</span>
    <span class="k">cdef</span> <span class="kt">double</span> <span class="nf">det</span> <span class="o">=</span> <span class="nb">pow</span><span class="p">(</span><span class="o">-</span><span class="mf">1</span><span class="p">,</span> <span class="n">nswaps</span><span class="p">)</span>
    <span class="k">for</span> <span class="n">i</span> <span class="ow">in</span> <span class="nb">xrange</span><span class="p">(</span><span class="n">U</span><span class="o">.</span><span class="n">shape</span><span class="p">[</span><span class="mf">0</span><span class="p">]):</span>
        <span class="n">det</span> <span class="o">*=</span> <span class="n">U</span><span class="p">[</span><span class="n">i</span><span class="p">,</span> <span class="n">i</span><span class="p">]</span>
    <span class="k">return</span> <span class="n">det</span>

<span class="k">cimport</span> <span class="nn">cython</span>
<span class="k">import</span> <span class="nn">numpy</span> <span class="k">as</span> <span class="nn">np</span>
<span class="k">cimport</span> <span class="nn">numpy</span> <span class="k">as</span> <span class="nn">np</span>

<span class="nd">@cython</span><span class="o">.</span><span class="n">boundscheck</span><span class="p">(</span><span class="bp">False</span><span class="p">)</span>
<span class="nd">@cython</span><span class="o">.</span><span class="n">wraparound</span><span class="p">(</span><span class="bp">False</span><span class="p">)</span>
<span class="nd">@cython</span><span class="o">.</span><span class="n">cdivision</span><span class="p">(</span><span class="bp">True</span><span class="p">)</span>
<span class="k">cdef</span> <span class="kt">double</span>[<span class="p">::</span><span class="mf">1</span><span class="p">]</span> <span class="n">forward_sub_solve</span><span class="p">(</span><span class="n">double</span><span class="p">[:,</span> <span class="p">::</span><span class="mf">1</span><span class="p">]</span> <span class="n">L</span><span class="p">,</span> <span class="n">double</span><span class="p">[::</span><span class="mf">1</span><span class="p">]</span> <span class="n">b</span><span class="p">):</span>
    <span class="sd">&#39;&#39;&#39; </span>
<span class="sd">    Solve, by forward substition, the system Lx = b, where</span>
<span class="sd">    L is a lower triangular matrix.</span>
<span class="sd">    </span>
<span class="sd">    Note that the code does not check whether L is lower</span>
<span class="sd">    triangular. Calling the function with an arbitrary</span>
<span class="sd">    &#39;&#39;&#39;</span>
    
    <span class="k">assert</span> <span class="n">L</span><span class="o">.</span><span class="n">shape</span><span class="p">[</span><span class="mf">1</span><span class="p">]</span> <span class="o">==</span> <span class="n">b</span><span class="o">.</span><span class="n">shape</span><span class="p">[</span><span class="mf">0</span><span class="p">],</span> \
        <span class="s">&#39;Matrix and vector are incompatible shapes.&#39;</span>
    <span class="k">assert</span> <span class="n">fabs</span><span class="p">(</span><span class="n">L</span><span class="p">[</span><span class="mf">0</span><span class="p">,</span> <span class="mf">0</span><span class="p">])</span> <span class="o">&gt;=</span> <span class="mf">10e-16</span><span class="p">,</span> \
        <span class="s">&#39;Zero element on diagonal.&#39;</span>
    
    <span class="c"># No. of variables to solve</span>
    <span class="k">cdef</span> <span class="kt">int</span> <span class="nf">n</span> <span class="o">=</span> <span class="n">b</span><span class="o">.</span><span class="n">shape</span><span class="p">[</span><span class="mf">0</span><span class="p">]</span>
    
    <span class="c"># Loop indices</span>
    <span class="k">cdef</span> <span class="kt">int</span> <span class="nf">i</span><span class="p">,</span> <span class="nf">k</span>
        
    <span class="c"># Initialize the solution vector</span>
    <span class="k">cdef</span> <span class="kt">double</span>[<span class="p">::</span><span class="mf">1</span><span class="p">]</span> <span class="n">y</span> <span class="o">=</span> <span class="n">np</span><span class="o">.</span><span class="n">zeros</span><span class="p">(</span><span class="n">b</span><span class="o">.</span><span class="n">shape</span><span class="p">[</span><span class="mf">0</span><span class="p">])</span>
    <span class="n">y</span><span class="p">[</span><span class="mf">0</span><span class="p">]</span> <span class="o">=</span> <span class="n">b</span><span class="p">[</span><span class="mf">0</span><span class="p">]</span> <span class="o">/</span> <span class="n">L</span><span class="p">[</span><span class="mf">0</span><span class="p">,</span><span class="mf">0</span><span class="p">]</span> 

    <span class="k">cdef</span> <span class="kt">double</span> <span class="nf">sum_term</span> <span class="o">=</span> <span class="mf">0.0</span>
    <span class="k">for</span> <span class="n">i</span> <span class="ow">in</span> <span class="nb">xrange</span><span class="p">(</span><span class="mf">1</span><span class="p">,</span> <span class="n">n</span><span class="p">):</span>
        <span class="k">if</span> <span class="n">fabs</span><span class="p">(</span><span class="n">L</span><span class="p">[</span><span class="n">i</span><span class="p">,</span> <span class="n">i</span><span class="p">])</span> <span class="o">&lt;=</span> <span class="mf">10e-16</span><span class="p">:</span>
            <span class="k">raise</span> <span class="ne">ValueError</span><span class="p">(</span><span class="s">&#39;Zero element on diagonal.&#39;</span><span class="p">)</span>
        <span class="n">sum_term</span> <span class="o">=</span> <span class="mf">0.0</span>
        <span class="k">for</span> <span class="n">k</span> <span class="ow">in</span> <span class="nb">xrange</span><span class="p">(</span><span class="mf">0</span><span class="p">,</span> <span class="n">i</span><span class="p">):</span>
            <span class="n">sum_term</span> <span class="o">+=</span> <span class="n">L</span><span class="p">[</span><span class="n">i</span><span class="p">,</span> <span class="n">k</span><span class="p">]</span> <span class="o">*</span> <span class="n">y</span><span class="p">[</span><span class="n">k</span><span class="p">]</span>
        <span class="n">y</span><span class="p">[</span><span class="n">i</span><span class="p">]</span> <span class="o">=</span> <span class="p">(</span><span class="n">b</span><span class="p">[</span><span class="n">i</span><span class="p">]</span> <span class="o">-</span> <span class="n">sum_term</span><span class="p">)</span> <span class="o">/</span> <span class="n">L</span><span class="p">[</span><span class="n">i</span><span class="p">,</span> <span class="n">i</span><span class="p">]</span>
        
    <span class="k">return</span> <span class="n">y</span>

<span class="k">cdef</span> <span class="kt">double</span>[<span class="p">::</span><span class="mf">1</span><span class="p">]</span> <span class="n">backward_sub_solve</span><span class="p">(</span><span class="n">double</span><span class="p">[:,</span> <span class="p">::</span><span class="mf">1</span><span class="p">]</span> <span class="n">U</span><span class="p">,</span> <span class="n">double</span><span class="p">[::</span><span class="mf">1</span><span class="p">]</span> <span class="n">b</span><span class="p">):</span>
    <span class="sd">&#39;&#39;&#39; </span>
<span class="sd">    Solve, by backward substition, the system Ux = b, where</span>
<span class="sd">    U is an upper triangular matrix.</span>
<span class="sd">    </span>
<span class="sd">    Note that the code does not check whether U is upper</span>
<span class="sd">    triangular. Calling the function with an arbitrary</span>
<span class="sd">    square matrix will result in nonsense.</span>
<span class="sd">    &#39;&#39;&#39;</span>
    <span class="k">assert</span> <span class="n">U</span><span class="o">.</span><span class="n">shape</span><span class="p">[</span><span class="mf">1</span><span class="p">]</span> <span class="o">==</span> <span class="n">b</span><span class="o">.</span><span class="n">shape</span><span class="p">[</span><span class="mf">0</span><span class="p">],</span> \
        <span class="s">&#39;Matrix and vector are incompatible shapes.&#39;</span>
    <span class="k">assert</span> <span class="n">fabs</span><span class="p">(</span><span class="n">U</span><span class="p">[</span><span class="mf">0</span><span class="p">,</span> <span class="mf">0</span><span class="p">])</span> <span class="o">&gt;=</span> <span class="mf">10e-16</span><span class="p">,</span> \
        <span class="s">&#39;Zero element on diagonal.&#39;</span>
    
    <span class="c"># No. of variables to solve</span>
    <span class="k">cdef</span> <span class="kt">int</span> <span class="nf">n</span> <span class="o">=</span> <span class="n">b</span><span class="o">.</span><span class="n">shape</span><span class="p">[</span><span class="mf">0</span><span class="p">]</span>
    
    <span class="c"># Loop indices</span>
    <span class="k">cdef</span> <span class="kt">int</span> <span class="nf">i</span><span class="p">,</span> <span class="nf">k</span>
        
    <span class="c"># Initialize the solution vector</span>
    <span class="k">cdef</span> <span class="kt">double</span>[<span class="p">::</span><span class="mf">1</span><span class="p">]</span> <span class="n">y</span> <span class="o">=</span> <span class="n">np</span><span class="o">.</span><span class="n">zeros</span><span class="p">(</span><span class="n">b</span><span class="o">.</span><span class="n">shape</span><span class="p">[</span><span class="mf">0</span><span class="p">])</span>
    <span class="n">y</span><span class="p">[</span><span class="n">n</span><span class="o">-</span><span class="mf">1</span><span class="p">]</span> <span class="o">=</span> <span class="n">b</span><span class="p">[</span><span class="n">n</span><span class="o">-</span><span class="mf">1</span><span class="p">]</span> <span class="o">/</span> <span class="n">U</span><span class="p">[</span><span class="n">n</span><span class="o">-</span><span class="mf">1</span><span class="p">,</span> <span class="n">n</span><span class="o">-</span><span class="mf">1</span><span class="p">]</span> 

    <span class="k">cdef</span> <span class="kt">double</span> <span class="nf">sum_term</span> <span class="o">=</span> <span class="mf">0.0</span>
    <span class="k">for</span> <span class="n">i</span> <span class="ow">in</span> <span class="nb">xrange</span><span class="p">(</span><span class="n">n</span><span class="o">-</span><span class="mf">2</span><span class="p">,</span> <span class="o">-</span><span class="mf">1</span><span class="p">,</span> <span class="o">-</span><span class="mf">1</span><span class="p">):</span>
        <span class="k">if</span> <span class="n">fabs</span><span class="p">(</span><span class="n">U</span><span class="p">[</span><span class="n">i</span><span class="p">,</span> <span class="n">i</span><span class="p">])</span> <span class="o">&lt;=</span> <span class="mf">10e-16</span><span class="p">:</span>
            <span class="k">raise</span> <span class="ne">ValueError</span><span class="p">(</span><span class="s">&#39;Zero element on diagonal.&#39;</span><span class="p">)</span>
        <span class="n">sum_term</span> <span class="o">=</span> <span class="mf">0.0</span>
        <span class="k">for</span> <span class="n">k</span> <span class="ow">in</span> <span class="nb">xrange</span><span class="p">(</span><span class="n">i</span><span class="o">+</span><span class="mf">1</span><span class="p">,</span> <span class="n">n</span><span class="p">):</span>
            <span class="n">sum_term</span> <span class="o">+=</span> <span class="n">U</span><span class="p">[</span><span class="n">i</span><span class="p">,</span> <span class="n">k</span><span class="p">]</span> <span class="o">*</span> <span class="n">y</span><span class="p">[</span><span class="n">k</span><span class="p">]</span>
        <span class="n">y</span><span class="p">[</span><span class="n">i</span><span class="p">]</span> <span class="o">=</span> <span class="p">(</span><span class="n">b</span><span class="p">[</span><span class="n">i</span><span class="p">]</span> <span class="o">-</span> <span class="n">sum_term</span><span class="p">)</span> <span class="o">/</span> <span class="n">U</span><span class="p">[</span><span class="n">i</span><span class="p">,</span><span class="n">i</span><span class="p">]</span>
    
    <span class="k">return</span> <span class="n">y</span>

<span class="nd">@cython</span><span class="o">.</span><span class="n">boundscheck</span><span class="p">(</span><span class="bp">False</span><span class="p">)</span>
<span class="nd">@cython</span><span class="o">.</span><span class="n">wraparound</span><span class="p">(</span><span class="bp">False</span><span class="p">)</span>
<span class="k">cdef</span> <span class="kt">double</span>[<span class="p">::</span><span class="mf">1</span><span class="p">]</span> <span class="n">matvecprod</span><span class="p">(</span><span class="n">double</span><span class="p">[:,</span> <span class="p">::</span><span class="mf">1</span><span class="p">]</span> <span class="n">A</span><span class="p">,</span> <span class="n">double</span><span class="p">[::</span><span class="mf">1</span><span class="p">]</span> <span class="n">b</span><span class="p">):</span>
    <span class="sd">&#39;&#39;&#39;</span>
<span class="sd">    Matrix-vector multiplication.</span>
<span class="sd">    &#39;&#39;&#39;</span>
    <span class="k">cdef</span><span class="p">:</span> 
        <span class="n">Py_ssize_t</span> <span class="n">i</span><span class="p">,</span> <span class="n">j</span><span class="p">,</span> <span class="n">k</span>
        <span class="n">Py_ssize_t</span> <span class="n">A_n</span> <span class="o">=</span> <span class="n">A</span><span class="o">.</span><span class="n">shape</span><span class="p">[</span><span class="mf">0</span><span class="p">]</span>
        <span class="n">Py_ssize_t</span> <span class="n">A_m</span> <span class="o">=</span> <span class="n">A</span><span class="o">.</span><span class="n">shape</span><span class="p">[</span><span class="mf">1</span><span class="p">]</span>
        <span class="n">Py_ssize_t</span> <span class="n">b_n</span> <span class="o">=</span> <span class="n">b</span><span class="o">.</span><span class="n">shape</span><span class="p">[</span><span class="mf">0</span><span class="p">]</span>
        <span class="n">double</span><span class="p">[::</span><span class="mf">1</span><span class="p">]</span> <span class="n">c</span>
    
    <span class="c"># Are matrices conformable?</span>
    <span class="k">assert</span> <span class="n">A_m</span> <span class="o">==</span> <span class="n">b_n</span><span class="p">,</span> \
        <span class="s">&#39;Non-conformable shapes.&#39;</span>
    
    <span class="c"># Initialize the results matrix.</span>
    <span class="n">c</span> <span class="o">=</span> <span class="n">np</span><span class="o">.</span><span class="n">zeros</span><span class="p">(</span><span class="n">A_n</span><span class="p">)</span>
    <span class="k">for</span> <span class="n">i</span> <span class="ow">in</span> <span class="nb">xrange</span><span class="p">(</span><span class="n">A_n</span><span class="p">):</span>
            <span class="k">for</span> <span class="n">k</span> <span class="ow">in</span> <span class="nb">xrange</span><span class="p">(</span><span class="n">b_n</span><span class="p">):</span>
                <span class="n">c</span><span class="p">[</span><span class="n">i</span><span class="p">]</span> <span class="o">+=</span> <span class="n">A</span><span class="p">[</span><span class="n">i</span><span class="p">,</span> <span class="n">k</span><span class="p">]</span> <span class="o">*</span> <span class="n">b</span><span class="p">[</span><span class="n">k</span><span class="p">]</span>
    <span class="k">return</span> <span class="n">c</span>
</pre></div>

</div>
</div>
</div>

</div>
<div class="cell border-box-sizing text_cell rendered">
<div class="prompt input_prompt">
</div>
<div class="inner_cell">
<div class="text_cell_render border-box-sizing rendered_html">
<p>Having already tested its component functions, the solver ought to be correct. It matches numpy&#8217;s solver on a sample $3\times 3$ system.</p>

</div>
</div>
</div>
<div class="cell border-box-sizing code_cell rendered">
<div class="input">
<div class="prompt input_prompt">In&nbsp;[118]:</div>
<div class="inner_cell">
    <div class="input_area">
<div class=" highlight hl-ipython3"><pre><span></span><span class="n">A</span> <span class="o">=</span> <span class="n">np</span><span class="o">.</span><span class="n">array</span><span class="p">([[</span><span class="mf">1.</span><span class="p">,</span> <span class="o">-</span><span class="mi">2</span><span class="p">,</span> <span class="mi">2</span><span class="p">],</span> <span class="p">[</span><span class="mi">4</span><span class="p">,</span> <span class="mi">1</span><span class="p">,</span> <span class="mi">3</span><span class="p">],</span> <span class="p">[</span><span class="o">-</span><span class="mi">2</span><span class="p">,</span> <span class="mi">3</span><span class="p">,</span> <span class="mi">1</span><span class="p">]])</span>
<span class="n">b</span> <span class="o">=</span> <span class="n">np</span><span class="o">.</span><span class="n">array</span><span class="p">([</span><span class="o">-</span><span class="mi">10</span><span class="p">,</span> <span class="mf">4.</span><span class="p">,</span> <span class="o">.</span><span class="mi">25</span><span class="p">])</span>

<span class="nb">print</span> <span class="s1">&#39;Cython:&#39;</span>
<span class="nb">print</span> <span class="n">lup_solve</span><span class="p">(</span><span class="n">A</span><span class="p">,</span> <span class="n">b</span><span class="p">)</span>
<span class="nb">print</span> <span class="s1">&#39;Numpy solve:&#39;</span>
<span class="nb">print</span> <span class="n">np</span><span class="o">.</span><span class="n">linalg</span><span class="o">.</span><span class="n">solve</span><span class="p">(</span><span class="n">A</span><span class="p">,</span> <span class="n">b</span><span class="p">)</span>
</pre></div>

</div>
</div>
</div>

<div class="output_wrapper">
<div class="output">


<div class="output_area">
<div class="prompt"></div>

<div class="output_subarea output_stream output_stdout output_text">
<pre>Cython:
[ 2.75     3.03125 -3.34375]
Numpy solve:
[ 2.75     3.03125 -3.34375]
</pre>
</div>
</div>

</div>
</div>

</div>
<div class="cell border-box-sizing text_cell rendered">
<div class="prompt input_prompt">
</div>
<div class="inner_cell">
<div class="text_cell_render border-box-sizing rendered_html">
<p>While it is substantially slower than numpy&#8212;about 6 times&#8212;the absolute speed is acceptable on this small system.</p>

</div>
</div>
</div>
<div class="cell border-box-sizing code_cell rendered">
<div class="input">
<div class="prompt input_prompt">In&nbsp;[119]:</div>
<div class="inner_cell">
    <div class="input_area">
<div class=" highlight hl-ipython3"><pre><span></span><span class="nb">print</span> <span class="s1">&#39;Cython:&#39;</span>
<span class="o">%</span><span class="k">timeit</span> lup_solve(A, b)
<span class="nb">print</span> <span class="s1">&#39;Numpy solve:&#39;</span>
<span class="o">%</span><span class="k">timeit</span> np.linalg.solve(A, b)
</pre></div>

</div>
</div>
</div>

<div class="output_wrapper">
<div class="output">


<div class="output_area">
<div class="prompt"></div>

<div class="output_subarea output_stream output_stdout output_text">
<pre>Cython:
10000 loops, best of 3: 153 µs per loop
Numpy solve
10000 loops, best of 3: 26.4 µs per loop
</pre>
</div>
</div>

</div>
</div>

</div>
<div class="cell border-box-sizing text_cell rendered">
<div class="prompt input_prompt">
</div>
<div class="inner_cell">
<div class="text_cell_render border-box-sizing rendered_html">
<p>It solves a much larger, $1000\times 1000$ matrix in under a second; about 20 times slower than numpy.</p>

</div>
</div>
</div>
<div class="cell border-box-sizing code_cell rendered">
<div class="input">
<div class="prompt input_prompt">In&nbsp;[&nbsp;]:</div>
<div class="inner_cell">
    <div class="input_area">
<div class=" highlight hl-ipython3"><pre><span></span><span class="c1"># A larger 1000 x 1000 system.</span>
<span class="n">M</span> <span class="o">=</span> <span class="n">np</span><span class="o">.</span><span class="n">random</span><span class="o">.</span><span class="n">randn</span><span class="p">(</span><span class="mf">1e6</span><span class="p">)</span><span class="o">.</span><span class="n">reshape</span><span class="p">((</span><span class="mi">1000</span><span class="p">,</span> <span class="mi">1000</span><span class="p">))</span>
<span class="n">c</span> <span class="o">=</span> <span class="n">np</span><span class="o">.</span><span class="n">random</span><span class="o">.</span><span class="n">randn</span><span class="p">(</span><span class="mi">1000</span><span class="p">)</span><span class="o">.</span><span class="n">reshape</span><span class="p">((</span><span class="mi">1000</span><span class="p">,))</span>

<span class="c1"># Timings</span>
<span class="nb">print</span> <span class="s1">&#39;Cython&#39;</span>
<span class="o">%</span><span class="k">timeit</span> lup_solve(M, c)
<span class="nb">print</span> <span class="s1">&#39;Numpy solve&#39;</span>
<span class="o">%</span><span class="k">timeit</span> np.linalg.solve(M, c)

<span class="c1"># Check that they are the same to tolerance</span>
<span class="k">if</span> <span class="n">np</span><span class="o">.</span><span class="n">abs</span><span class="p">(</span><span class="n">lup_solve</span><span class="p">(</span><span class="n">M</span><span class="p">,</span> <span class="n">c</span><span class="p">)</span> <span class="o">-</span> <span class="n">np</span><span class="o">.</span><span class="n">linalg</span><span class="o">.</span><span class="n">solve</span><span class="p">(</span><span class="n">M</span><span class="p">,</span> <span class="n">c</span><span class="p">))</span><span class="o">.</span><span class="n">sum</span><span class="p">()</span> <span class="o">&gt;</span> <span class="mf">10e-9</span><span class="p">:</span>
    <span class="nb">print</span> <span class="s1">&#39;Cython != Numpy, not OK&#39;</span>
<span class="k">else</span><span class="p">:</span>
    <span class="nb">print</span> <span class="s1">&#39;Cython = Numpy, OK&#39;</span>
</pre></div>

</div>
</div>
</div>

</div>
<div class="cell border-box-sizing text_cell rendered">
<div class="prompt input_prompt">
</div>
<div class="inner_cell">
<div class="text_cell_render border-box-sizing rendered_html">
<h2 id="Iterative-Methods:-A-whole-other-route">Iterative Methods: A whole other route<a class="anchor-link" href="#Iterative-Methods:-A-whole-other-route">&#182;</a></h2>
</div>
</div>
</div>
<div class="cell border-box-sizing text_cell rendered">
<div class="prompt input_prompt">
</div>
<div class="inner_cell">
<div class="text_cell_render border-box-sizing rendered_html">
<p><span class='hiterm'>Iterative methods</span> are an altnerative means of solving linear systems. They are not always successful, but when they are, they can be very efficient.</p>
<p>Let $Q$ be some matrix that is easily invertible; some cadidates are mentioned below. Consider the following re-arrangement of the matrix equation:</p>
$$
\begin{align}
Ax &= b \\\
 0 &= b - Ax \\\
Qx &= b - Ax + Qx \\\
Qx &= b + (Q - A)\,x \\\
x  &= Q^{-1}b + (I-Q^{-1}A)\,x \,.
\end{align}
$$<p>The last line suggests an iteration on $x$ along the following lines.</p>
$$
\begin{align}
x^{(0)} &\leftarrow \tilde{x} \ \textrm{(guess)} \\\
x^{(k+1)} &\leftarrow Q^{-1}b + (I-Q^{-1}A)\,x^{(k)}\\\
\textrm{until} & \left|x^{(k-1)} - x^{(k)}\right| \le \varepsilon
\end{align}
$$<p>This is the generic form of an iterative solver. Specific methods differ in their choice of $Q$ or implementation details.</p>
<p>The <span class='hiterm'>Gauss-Siedel</span> method is a simple, relatively robust implementation of the iteration where $Q$ is an upper triangular matrix whose entries  are the upper-triangular entries of $A$. There is a somewhat simpler method, called the <span class='hiterm'>Jacobi</span> method, where $Q$ is taken to be a diagonal matrix comprised of the diagonal elements of $A$. The Gauss-Siedel often has more robust convergence, though that depends on the properties of $A$.</p>
<p>Both methods converge better when the $A$ is <span class='hiterm'>diagonally dominant</span>, when the value of each diagonal element is larger than the sum of entries in the column and row of that element. Or:</p>
$$
\left|a_{ii}\right| > \sum_{i=1\,;\,j\ne i}^n\left|a_{ij}\right| \;\;\; \forall\, i
$$
</div>
</div>
</div>
<div class="cell border-box-sizing text_cell rendered">
<div class="prompt input_prompt">
</div>
<div class="inner_cell">
<div class="text_cell_render border-box-sizing rendered_html">
<hr>

</div>
</div>
</div>
<div class="cell border-box-sizing text_cell rendered">
<div class="prompt input_prompt">
</div>
<div class="inner_cell">
<div class="text_cell_render border-box-sizing rendered_html">
<h5 id="Exercise:-The-Gauss-Siedel-Algorithm">Exercise: The Gauss-Siedel Algorithm<a class="anchor-link" href="#Exercise:-The-Gauss-Siedel-Algorithm">&#182;</a></h5>
</div>
</div>
</div>
<div class="cell border-box-sizing text_cell rendered">
<div class="prompt input_prompt">
</div>
<div class="inner_cell">
<div class="text_cell_render border-box-sizing rendered_html">
<p>The function below implements the Gauss-Siedel method. Note that the matrix $Q$ is never formally referred to in the code. It&#8217;s inversion is baked into the iterative formula. Similarities with the forward substitution formulas coded above are not coincidental.</p>

</div>
</div>
</div>
<div class="cell border-box-sizing code_cell rendered">
<div class="input">
<div class="prompt input_prompt">In&nbsp;[26]:</div>
<div class="inner_cell">
    <div class="input_area">
<div class=" highlight hl-ipython3"><pre><span></span><span class="o">%%</span><span class="n">cython</span> <span class="o">-</span><span class="n">lm</span>
<span class="k">import</span> <span class="nn">cython</span>
<span class="k">import</span> <span class="nn">numpy</span> <span class="k">as</span> <span class="nn">np</span>
<span class="k">cimport</span> <span class="nn">numpy</span> <span class="k">as</span> <span class="nn">np</span>
<span class="k">from</span> <span class="nn">libc.math</span> <span class="k">cimport</span> <span class="nb">abs</span>

<span class="nd">@cython</span><span class="o">.</span><span class="n">boundscheck</span><span class="p">(</span><span class="bp">False</span><span class="p">)</span>
<span class="nd">@cython</span><span class="o">.</span><span class="n">wraparound</span><span class="p">(</span><span class="bp">False</span><span class="p">)</span>
<span class="nd">@cython</span><span class="o">.</span><span class="n">cdivision</span><span class="p">(</span><span class="bp">True</span><span class="p">)</span>
<span class="k">cpdef</span> <span class="nf">gauss_siedel_solve</span><span class="p">(</span><span class="n">double</span><span class="p">[:,</span> <span class="p">::</span><span class="mf">1</span><span class="p">]</span> <span class="n">A</span><span class="p">,</span> <span class="n">double</span><span class="p">[::</span><span class="mf">1</span><span class="p">]</span> <span class="n">b</span><span class="p">,</span>
                         <span class="n">double</span> <span class="n">tol</span> <span class="o">=</span> <span class="mf">10e-12</span><span class="p">,</span> <span class="nb">int</span> <span class="n">max_iter</span> <span class="o">=</span> <span class="mf">100</span><span class="p">):</span>
    <span class="sd">&#39;&#39;&#39;</span>
<span class="sd">    Solve a linear system Ax = b using the Gauss-Siedel iterative</span>
<span class="sd">    method.</span>
<span class="sd">    &#39;&#39;&#39;</span>
    
    <span class="k">assert</span> <span class="n">A</span><span class="o">.</span><span class="n">shape</span><span class="p">[</span><span class="mf">0</span><span class="p">]</span> <span class="o">==</span> <span class="n">A</span><span class="o">.</span><span class="n">shape</span><span class="p">[</span><span class="mf">1</span><span class="p">],</span> <span class="s">&#39;Matrix is not square.&#39;</span>
    <span class="k">assert</span> <span class="n">A</span><span class="o">.</span><span class="n">shape</span><span class="p">[</span><span class="mf">1</span><span class="p">]</span> <span class="o">==</span> <span class="n">b</span><span class="o">.</span><span class="n">shape</span><span class="p">[</span><span class="mf">0</span><span class="p">],</span> \
        <span class="s">&#39;Non-conformable matrix and vector.&#39;</span>
    <span class="k">cdef</span><span class="p">:</span>
        <span class="nb">int</span> <span class="n">n</span> <span class="o">=</span> <span class="n">A</span><span class="o">.</span><span class="n">shape</span><span class="p">[</span><span class="mf">0</span><span class="p">]</span>
        <span class="n">double</span><span class="p">[::</span><span class="mf">1</span><span class="p">]</span> <span class="n">x</span> <span class="o">=</span> <span class="n">np</span><span class="o">.</span><span class="n">ones</span><span class="p">(</span><span class="n">n</span><span class="p">)</span>
        <span class="nb">int</span> <span class="n">iter_i</span> <span class="o">=</span> <span class="mf">0</span>
        <span class="n">double</span> <span class="n">tol_i</span> <span class="o">=</span> <span class="mf">10e12</span> <span class="c"># Large number to start.</span>
        <span class="n">double</span> <span class="n">sum_term</span> <span class="o">=</span> <span class="mf">0.</span>
        <span class="n">double</span> <span class="n">new_x_i</span>
        <span class="nb">int</span> <span class="n">i</span><span class="p">,</span> <span class="n">j</span>
        
    <span class="k">while</span> <span class="p">(</span><span class="n">tol_i</span> <span class="o">&gt;</span> <span class="n">tol</span><span class="p">):</span>
        <span class="n">tol_i</span> <span class="o">=</span> <span class="mf">0.</span>
        <span class="k">for</span> <span class="n">i</span> <span class="ow">in</span> <span class="nb">xrange</span><span class="p">(</span><span class="n">n</span><span class="p">):</span>
            <span class="k">assert</span> <span class="nb">abs</span><span class="p">(</span><span class="n">A</span><span class="p">[</span><span class="n">i</span><span class="p">,</span> <span class="n">i</span><span class="p">])</span> <span class="o">&gt;</span> <span class="mf">10e-16</span><span class="p">,</span> <span class="s">&#39;Zero on diagonal detected.&#39;</span>
            <span class="n">sum_term</span> <span class="o">=</span> <span class="mf">0.</span>
            <span class="k">for</span> <span class="n">j</span> <span class="ow">in</span> <span class="nb">xrange</span><span class="p">(</span><span class="n">n</span><span class="p">):</span>
                <span class="k">if</span> <span class="n">j</span> <span class="o">!=</span> <span class="n">i</span><span class="p">:</span>
                    <span class="n">sum_term</span> <span class="o">+=</span> <span class="n">A</span><span class="p">[</span><span class="n">i</span><span class="p">,</span> <span class="n">j</span><span class="p">]</span> <span class="o">*</span> <span class="n">x</span><span class="p">[</span><span class="n">j</span><span class="p">]</span>
            <span class="n">new_x_i</span> <span class="o">=</span> <span class="p">(</span><span class="n">b</span><span class="p">[</span><span class="n">i</span><span class="p">]</span> <span class="o">-</span> <span class="n">sum_term</span><span class="p">)</span> <span class="o">/</span> <span class="n">A</span><span class="p">[</span><span class="n">i</span><span class="p">,</span> <span class="n">i</span><span class="p">]</span>
            <span class="n">tol_i</span> <span class="o">+=</span> <span class="nb">abs</span><span class="p">(</span><span class="n">new_x_i</span> <span class="o">-</span> <span class="n">x</span><span class="p">[</span><span class="n">i</span><span class="p">])</span>
            <span class="n">x</span><span class="p">[</span><span class="n">i</span><span class="p">]</span> <span class="o">=</span> <span class="n">new_x_i</span>

        <span class="n">iter_i</span> <span class="o">+=</span> <span class="mf">1</span>
        <span class="k">if</span> <span class="n">iter_i</span> <span class="o">&gt;</span> <span class="n">max_iter</span><span class="p">:</span>
            <span class="k">print</span> <span class="s">&#39;Max iterations, solution may not have converged.&#39;</span>
            <span class="k">print</span> <span class="s">&#39;Matrix may not be diagonally dominant.&#39;</span>
            <span class="k">break</span>
        
    <span class="k">return</span> <span class="p">(</span><span class="n">np</span><span class="o">.</span><span class="n">asarray</span><span class="p">(</span><span class="n">x</span><span class="p">),</span> <span class="n">iter_i</span><span class="p">,</span> <span class="n">tol_i</span><span class="p">)</span>
</pre></div>

</div>
</div>
</div>

</div>
<div class="cell border-box-sizing text_cell rendered">
<div class="prompt input_prompt">
</div>
<div class="inner_cell">
<div class="text_cell_render border-box-sizing rendered_html">
<p>On a randomly generated $5\times 5$ system, the Gauss-Seidel converges to the solution in 10 to 12 iterations.
Note how $A$ was agumented to be diagonally dominant. Without that change, the Gauss-Seidel method typically does not converge.</p>

</div>
</div>
</div>
<div class="cell border-box-sizing code_cell rendered">
<div class="input">
<div class="prompt input_prompt">In&nbsp;[43]:</div>
<div class="inner_cell">
    <div class="input_area">
<div class=" highlight hl-ipython3"><pre><span></span><span class="c1"># Randomly generate a 5 x 5 linear system.</span>
<span class="n">A</span> <span class="o">=</span> <span class="n">np</span><span class="o">.</span><span class="n">random</span><span class="o">.</span><span class="n">randn</span><span class="p">(</span><span class="mi">25</span><span class="p">)</span><span class="o">.</span><span class="n">reshape</span><span class="p">((</span><span class="mi">5</span><span class="p">,</span><span class="mi">5</span><span class="p">))</span> <span class="o">+</span> <span class="n">np</span><span class="o">.</span><span class="n">eye</span><span class="p">(</span><span class="mi">5</span><span class="p">)</span> <span class="o">*</span> <span class="mi">10</span>
<span class="n">b</span> <span class="o">=</span> <span class="n">np</span><span class="o">.</span><span class="n">random</span><span class="o">.</span><span class="n">randn</span><span class="p">(</span><span class="mi">5</span><span class="p">)</span>

<span class="nb">print</span> <span class="s1">&#39;Numpy Solve&#39;</span>
<span class="nb">print</span> <span class="n">np</span><span class="o">.</span><span class="n">linalg</span><span class="o">.</span><span class="n">solve</span><span class="p">(</span><span class="n">A</span><span class="p">,</span> <span class="n">b</span><span class="p">)</span>
<span class="n">x</span><span class="p">,</span> <span class="n">niter</span><span class="p">,</span> <span class="n">tol</span> <span class="o">=</span> <span class="n">gauss_siedel_solve</span><span class="p">(</span><span class="n">A</span><span class="p">,</span> <span class="n">b</span><span class="p">)</span>
<span class="nb">print</span> <span class="s1">&#39;Cython Gauss Siedel&#39;</span>
<span class="nb">print</span> <span class="n">x</span><span class="p">,</span> <span class="s1">&#39;</span><span class="se">\n</span><span class="s1">  # Iterations: &#39;</span><span class="p">,</span> <span class="n">niter</span>
</pre></div>

</div>
</div>
</div>

<div class="output_wrapper">
<div class="output">


<div class="output_area">
<div class="prompt"></div>

<div class="output_subarea output_stream output_stdout output_text">
<pre>Numpy Solve
[ 0.05977965  0.00185487  0.00081283 -0.00602107  0.11776965]
Cython Gauss Siedel
[ 0.05977965  0.00185487  0.00081283 -0.00602107  0.11776965] 
  # Iterations:  11
</pre>
</div>
</div>

</div>
</div>

</div>
<div class="cell border-box-sizing text_cell rendered">
<div class="prompt input_prompt">
</div>
<div class="inner_cell">
<div class="text_cell_render border-box-sizing rendered_html">
<p>To time the method, we&#8217;ll use a large sparse system. The cell below generates a matrix fully populated on the diagonal, but with mostly zeros elsewhere.</p>

</div>
</div>
</div>
<div class="cell border-box-sizing code_cell rendered">
<div class="input">
<div class="prompt input_prompt">In&nbsp;[48]:</div>
<div class="inner_cell">
    <div class="input_area">
<div class=" highlight hl-ipython3"><pre><span></span><span class="c1"># Randomly generate a 1000 x 1000 sparse linear system</span>
<span class="n">n</span> <span class="o">=</span> <span class="mi">1000</span>
<span class="n">n_entries</span> <span class="o">=</span> <span class="nb">int</span><span class="p">(</span><span class="mf">0.1</span> <span class="o">*</span> <span class="n">n</span><span class="p">)</span>
<span class="n">A</span> <span class="o">=</span> <span class="n">np</span><span class="o">.</span><span class="n">eye</span><span class="p">(</span><span class="n">n</span><span class="p">)</span> <span class="o">*</span> <span class="n">np</span><span class="o">.</span><span class="n">random</span><span class="o">.</span><span class="n">randn</span><span class="p">(</span><span class="n">n</span><span class="p">)</span>
<span class="n">off_diag_entries</span> <span class="o">=</span> <span class="n">np</span><span class="o">.</span><span class="n">random</span><span class="o">.</span><span class="n">randn</span><span class="p">(</span><span class="n">n_entries</span><span class="p">)</span>
<span class="n">i</span> <span class="o">=</span> <span class="mi">0</span>
<span class="k">while</span> <span class="p">(</span><span class="n">i</span> <span class="o">&lt;</span> <span class="n">n_entries</span><span class="p">):</span>
    <span class="n">fill_row</span> <span class="o">=</span> <span class="n">np</span><span class="o">.</span><span class="n">random</span><span class="o">.</span><span class="n">random_integers</span><span class="p">(</span><span class="mi">0</span><span class="p">,</span> <span class="n">n</span><span class="p">)</span>
    <span class="n">fill_col</span> <span class="o">=</span> <span class="n">np</span><span class="o">.</span><span class="n">random</span><span class="o">.</span><span class="n">random_integers</span><span class="p">(</span><span class="mi">0</span><span class="p">,</span> <span class="n">n</span><span class="p">)</span>
    <span class="k">if</span> <span class="p">(</span><span class="n">fill_row</span> <span class="o">==</span> <span class="n">fill_col</span><span class="p">):</span>
        <span class="k">continue</span>
    <span class="k">else</span><span class="p">:</span>
        <span class="n">A</span><span class="p">[</span><span class="n">fill_row</span><span class="p">,</span> <span class="n">fill_col</span><span class="p">]</span> <span class="o">=</span> <span class="n">off_diag_entries</span><span class="p">[</span><span class="n">i</span><span class="p">]</span>
        <span class="n">i</span> <span class="o">+=</span> <span class="mi">1</span>
        
<span class="n">b</span> <span class="o">=</span> <span class="n">np</span><span class="o">.</span><span class="n">random</span><span class="o">.</span><span class="n">randn</span><span class="p">(</span><span class="mi">1000</span><span class="p">)</span>
</pre></div>

</div>
</div>
</div>

</div>
<div class="cell border-box-sizing text_cell rendered">
<div class="prompt input_prompt">
</div>
<div class="inner_cell">
<div class="text_cell_render border-box-sizing rendered_html">
<p>For this system, the Gauss Siedel method is substantially faster, and it converges in only a few iterations. Checking the result shows the solution it converged to is essentially the same as numpy.</p>

</div>
</div>
</div>
<div class="cell border-box-sizing code_cell rendered">
<div class="input">
<div class="prompt input_prompt">In&nbsp;[53]:</div>
<div class="inner_cell">
    <div class="input_area">
<div class=" highlight hl-ipython3"><pre><span></span><span class="nb">print</span> <span class="s1">&#39;Numpy solve&#39;</span>
<span class="o">%</span><span class="k">timeit</span> np.linalg.solve(A, b)
<span class="nb">print</span> <span class="s1">&#39;Cython Gauss-Siedel&#39;</span>
<span class="o">%</span><span class="k">timeit</span> gauss_siedel_solve(A, b)
</pre></div>

</div>
</div>
</div>

<div class="output_wrapper">
<div class="output">


<div class="output_area">
<div class="prompt"></div>

<div class="output_subarea output_stream output_stdout output_text">
<pre>Numpy solve
10 loops, best of 3: 26.1 ms per loop
Cython Gauss-Siedel
100 loops, best of 3: 3.34 ms per loop
</pre>
</div>
</div>

</div>
</div>

</div>
<div class="cell border-box-sizing code_cell rendered">
<div class="input">
<div class="prompt input_prompt">In&nbsp;[54]:</div>
<div class="inner_cell">
    <div class="input_area">
<div class=" highlight hl-ipython3"><pre><span></span><span class="n">y_np</span> <span class="o">=</span> <span class="n">np</span><span class="o">.</span><span class="n">linalg</span><span class="o">.</span><span class="n">solve</span><span class="p">(</span><span class="n">A</span><span class="p">,</span> <span class="n">b</span><span class="p">)</span>
<span class="n">y_gs</span><span class="p">,</span> <span class="n">niter</span><span class="p">,</span> <span class="n">tol</span> <span class="o">=</span> <span class="n">gauss_siedel_solve</span><span class="p">(</span><span class="n">A</span><span class="p">,</span> <span class="n">b</span><span class="p">)</span>
<span class="nb">print</span> <span class="s1">&#39;Gauss Siedel # iterations:&#39;</span><span class="p">,</span> <span class="n">niter</span>
<span class="nb">print</span> <span class="s1">&#39;Sum abs. difference between numpy and Gauss-Seidel:&#39;</span><span class="p">,</span> <span class="n">np</span><span class="o">.</span><span class="n">abs</span><span class="p">(</span><span class="n">y_np</span> <span class="o">-</span> <span class="n">y_gs</span><span class="p">)</span><span class="o">.</span><span class="n">sum</span><span class="p">()</span>
</pre></div>

</div>
</div>
</div>

<div class="output_wrapper">
<div class="output">


<div class="output_area">
<div class="prompt"></div>

<div class="output_subarea output_stream output_stdout output_text">
<pre>Gauss Siedel # iterations: 3
Sum abs. difference: 2.87827053858e-13
</pre>
</div>
</div>

</div>
</div>

</div>
 


    </div>
  </div>

  </div>


  
    <footer class="footer hidden-print">
      <div class="container">
        <div class="col-md-4">
          <p>
            This website does not host notebooks, it only renders notebooks
            available on other websites.
          </p>
        </div>

        <div class="col-md-4">
          <p>
            Delivered by <a href="http://www.fastly.com/">Fastly</a>,
            Rendered by <a href="https://developer.rackspace.com/?nbviewer=awesome">Rackspace</a>
          </p>
          <p>
            nbviewer GitHub <a href="https://github.com/jupyter/nbviewer">repository</a>.
          </p>
        </div>

        <div class="col-md-4">
          
  
            
              <p>
                nbviewer version:
                <a href="https://github.com/jupyter/nbviewer/commit/e7c1a7dbe971a7bf4508e5f6b051dab53b88f2ce">
                  e7c1a7d
                </a>
              </p>
            
          
  
  <p>
    nbconvert version: <a href="https://github.com/jupyter/nbconvert/releases/tag/5.1.1">
      5.1.1
    </a>
  </p>
  

          
  
  
  <p>
    Rendered
    <span class='date' data-date='Sun, 30 Apr 2017 22:43:36 UTC' title='Sun, 30 Apr 2017 22:43:36 UTC'>(Sun, 30 Apr 2017 22:43:36 UTC)</span>
  </p>
  

        </div>
      </div>
    </footer>
  

  <script src="https://unpkg.com/jupyter-js-widgets@2.0.*/dist/embed.js"></script>
  <script src="/static/components/bootstrap/js/bootstrap.min.js?v=5869c96cc8f19086aee625d670d741f9"></script>
  <script src="/static/components/headroom.js/dist/headroom.min.js?v=b0a311ea668f8e768ea375f4a7abb81c"></script>
  <script src="/static/components/headroom.js/dist/jQuery.headroom.min.js?v=f3a1bae118315d0c234afc74dc6aab71"></script>

  
  
  <script>
    $(function(){ $("#menubar").headroom({
      tolerance: 5,
      offset: 205,
      classes: {
        initial: "animated",
        pinned: "slideInDown",
        unpinned: "slideOutUp"
      }
    })});
  </script>


  
  <script>
    (function(i,s,o,g,r,a,m){i['GoogleAnalyticsObject']=r;i[r]=i[r]||function(){
      (i[r].q=i[r].q||[]).push(arguments)},i[r].l=1*new Date();a=s.createElement(o),
      m=s.getElementsByTagName(o)[0];a.async=1;a.src=g;m.parentNode.insertBefore(a,m)
    })(window,document,'script','https://www.google-analytics.com/analytics.js','ga');
    ga('create', 'UA-52617120-5', 'auto');
    ga('send', 'pageview');
  </script>
  
  <script>
    require({
        paths: {
          moment: "/static/components/moment/min/moment.min.js?v=89f87298ad94aa1e6b92f42eb66da043"
        }
      }, ["moment"], function(moment){
      var date = $("footer .date"),
        m = moment(new Date(date.data('date'))),
        update = function(){ date.text(m.fromNow()); };
      setInterval(update, 61*1000);
      update();
      var w = $(window).scroll(function(event){
        $("body").toggleClass("scrolled", w.scrollTop() > 0);
      });
    });
  </script>
  <!--NEW RELIC Stop Perf Measurement-->
  
  <!--NEW RELIC End-->
</body>
</html>